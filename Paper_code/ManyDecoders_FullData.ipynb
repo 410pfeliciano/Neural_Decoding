{
 "cells": [
  {
   "cell_type": "markdown",
   "metadata": {},
   "source": [
    "# All decoders (except KF and ensemble) run on full datasets"
   ]
  },
  {
   "cell_type": "markdown",
   "metadata": {},
   "source": [
    "## User Options"
   ]
  },
  {
   "cell_type": "markdown",
   "metadata": {},
   "source": [
    "Define what folder you're saving to"
   ]
  },
  {
   "cell_type": "code",
   "execution_count": 1,
   "metadata": {
    "collapsed": true
   },
   "outputs": [],
   "source": [
    "save_folder=''\n",
    "# save_folder='/home/jglaser/Files/Neural_Decoding/Results/'"
   ]
  },
  {
   "cell_type": "markdown",
   "metadata": {},
   "source": [
    "Define what folder you're loading the files from"
   ]
  },
  {
   "cell_type": "code",
   "execution_count": 2,
   "metadata": {
    "collapsed": true
   },
   "outputs": [],
   "source": [
    "load_folder=''\n",
    "# load_folder='/home/jglaser/Data/DecData/'"
   ]
  },
  {
   "cell_type": "markdown",
   "metadata": {},
   "source": [
    "Define what dataset you are using"
   ]
  },
  {
   "cell_type": "code",
   "execution_count": 3,
   "metadata": {
    "collapsed": true
   },
   "outputs": [],
   "source": [
    "dataset='s1'\n",
    "# dataset='m1'\n",
    "# dataset='hc'"
   ]
  },
  {
   "cell_type": "markdown",
   "metadata": {},
   "source": [
    "Define which decoder to run"
   ]
  },
  {
   "cell_type": "code",
   "execution_count": 4,
   "metadata": {
    "collapsed": true
   },
   "outputs": [],
   "source": [
    "run_wf=1 #Wiener Filter\n",
    "run_wc=0 #Wiener Cascade\n",
    "run_svr=0 #Support vector regression\n",
    "run_xgb=0 #XGBoost\n",
    "run_dnn=0 #Feedforward (dense) neural network\n",
    "run_rnn=0 #Recurrent neural network\n",
    "run_gru=0 #Gated recurrent units\n",
    "run_lstm=0 #Long short term memory network"
   ]
  },
  {
   "cell_type": "markdown",
   "metadata": {},
   "source": [
    "## 1. Import Packages\n",
    "\n",
    "We import standard packages and functions from the accompanying .py files"
   ]
  },
  {
   "cell_type": "code",
   "execution_count": 5,
   "metadata": {
    "collapsed": false
   },
   "outputs": [
    {
     "name": "stderr",
     "output_type": "stream",
     "text": [
      "Using Theano backend.\n",
      "WARNING (theano.sandbox.cuda): The cuda backend is deprecated and will be removed in the next release (v0.10).  Please switch to the gpuarray backend. You can get more information about how to switch at this URL:\n",
      " https://github.com/Theano/Theano/wiki/Converting-to-the-new-gpu-back-end%28gpuarray%29\n",
      "\n",
      "Using gpu device 0: GeForce GTX TITAN X (CNMeM is enabled with initial size: 40.0% of memory, cuDNN 5103)\n"
     ]
    }
   ],
   "source": [
    "#Import standard packages\n",
    "import numpy as np\n",
    "import matplotlib.pyplot as plt\n",
    "%matplotlib inline\n",
    "from scipy import io\n",
    "from scipy import stats\n",
    "import pickle\n",
    "import time\n",
    "import sys\n",
    "\n",
    "#Add the main folder to the path, so we have access to the files there.\n",
    "#Note that if your working directory is not the Paper_code folder, you may need to manually specify the path to the main folder. For example: sys.path.append('/home/jglaser/GitProj/Neural_Decoding')\n",
    "sys.path.append('..') \n",
    "\n",
    "#Import function to get the covariate matrix that includes spike history from previous bins\n",
    "from preprocessing_funcs import get_spikes_with_history\n",
    "\n",
    "#Import metrics\n",
    "from metrics import get_R2\n",
    "from metrics import get_rho\n",
    "\n",
    "#Import decoder functions\n",
    "from decoders import WienerCascadeDecoder\n",
    "from decoders import WienerFilterDecoder\n",
    "from decoders import DenseNNDecoder\n",
    "from decoders import SimpleRNNDecoder\n",
    "from decoders import GRUDecoder\n",
    "from decoders import LSTMDecoder\n",
    "from decoders import XGBoostDecoder\n",
    "from decoders import SVRDecoder\n",
    "\n",
    "#Import Bayesian Optimization package\n",
    "from bayes_opt import BayesianOptimization"
   ]
  },
  {
   "cell_type": "code",
   "execution_count": 6,
   "metadata": {
    "collapsed": true
   },
   "outputs": [],
   "source": [
    "#Turn off deprecation warnings\n",
    "\n",
    "import warnings\n",
    "warnings.filterwarnings(\"ignore\", category=DeprecationWarning) "
   ]
  },
  {
   "cell_type": "markdown",
   "metadata": {},
   "source": [
    "## 2. Load Data\n",
    "\n",
    "The data that we load is in the format described below. We have another example script, \"Example_format_data\" that may be helpful towards putting the data in this format.\n",
    "\n",
    "Neural data should be a matrix of size \"number of time bins\" x \"number of neurons\", where each entry is the firing rate of a given neuron in a given time bin\n",
    "\n",
    "The output you are decoding should be a matrix of size \"number of time bins\" x \"number of features you are decoding\""
   ]
  },
  {
   "cell_type": "code",
   "execution_count": 7,
   "metadata": {
    "collapsed": false
   },
   "outputs": [],
   "source": [
    "if dataset=='s1':\n",
    "    with open(load_folder+'example_data_s1.pickle','rb') as f:\n",
    "    #     neural_data,vels_binned=pickle.load(f,encoding='latin1')\n",
    "        neural_data,vels_binned=pickle.load(f)\n",
    "        \n",
    "if dataset=='m1':\n",
    "    with open(load_folder+'example_data_m1.pickle','rb') as f:\n",
    "    #     neural_data,vels_binned=pickle.load(f,encoding='latin1')\n",
    "        neural_data,vels_binned=pickle.load(f)\n",
    "        \n",
    "if dataset=='hc':\n",
    "    with open(load_folder+'example_data_hc.pickle','rb') as f:\n",
    "    #     neural_data,pos_binned=pickle.load(f,encoding='latin1')\n",
    "        neural_data,pos_binned=pickle.load(f)"
   ]
  },
  {
   "cell_type": "markdown",
   "metadata": {},
   "source": [
    "## 3. Preprocess Data"
   ]
  },
  {
   "cell_type": "markdown",
   "metadata": {},
   "source": [
    "### 3A. User Inputs\n",
    "The user can define what time period to use spikes from (with respect to the output)."
   ]
  },
  {
   "cell_type": "code",
   "execution_count": 8,
   "metadata": {
    "collapsed": true
   },
   "outputs": [],
   "source": [
    "if dataset=='s1':\n",
    "    bins_before=6 #How many bins of neural data prior to the output are used for decoding\n",
    "    bins_current=1 #Whether to use concurrent time bin of neural data\n",
    "    bins_after=6 #How many bins of neural data after (and including) the output are used for decoding\n",
    "    \n",
    "if dataset=='m1':\n",
    "    bins_before=13 #How many bins of neural data prior to the output are used for decoding\n",
    "    bins_current=1 #Whether to use concurrent time bin of neural data\n",
    "    bins_after=0 #How many bins of neural data after (and including) the output are used for decoding\n",
    "    \n",
    "if dataset=='hc':\n",
    "    bins_before=4 #How many bins of neural data prior to the output are used for decoding\n",
    "    bins_current=1 #Whether to use concurrent time bin of neural data\n",
    "    bins_after=5 #How many bins of neural data after (and including) the output are used for decoding"
   ]
  },
  {
   "cell_type": "markdown",
   "metadata": {},
   "source": [
    "### 3B. Format Covariates"
   ]
  },
  {
   "cell_type": "markdown",
   "metadata": {},
   "source": [
    "#### Format Input Covariates"
   ]
  },
  {
   "cell_type": "code",
   "execution_count": 9,
   "metadata": {
    "collapsed": true
   },
   "outputs": [],
   "source": [
    "#Remove neurons with too few spikes in HC dataset\n",
    "if dataset=='hc':\n",
    "    nd_sum=np.nansum(neural_data,axis=0)\n",
    "    rmv_nrn=np.where(nd_sum<100)\n",
    "    neural_data=np.delete(neural_data,rmv_nrn,1)"
   ]
  },
  {
   "cell_type": "code",
   "execution_count": 10,
   "metadata": {
    "collapsed": false
   },
   "outputs": [],
   "source": [
    "# Format for recurrent neural networks (SimpleRNN, GRU, LSTM)\n",
    "# Function to get the covariate matrix that includes spike history from previous bins\n",
    "X=get_spikes_with_history(neural_data,bins_before,bins_after,bins_current)\n",
    "\n",
    "# Format for Wiener Filter, Wiener Cascade, SVR, XGBoost, and Dense Neural Network\n",
    "#Put in \"flat\" format, so each \"neuron / time\" is a single feature\n",
    "X_flat=X.reshape(X.shape[0],(X.shape[1]*X.shape[2]))"
   ]
  },
  {
   "cell_type": "markdown",
   "metadata": {},
   "source": [
    "#### Format Output Covariates"
   ]
  },
  {
   "cell_type": "code",
   "execution_count": 11,
   "metadata": {
    "collapsed": false
   },
   "outputs": [],
   "source": [
    "#Set decoding output\n",
    "if dataset=='s1' or dataset=='m1':\n",
    "    y=vels_binned\n",
    "if dataset=='hc':\n",
    "    y=pos_binned"
   ]
  },
  {
   "cell_type": "markdown",
   "metadata": {},
   "source": [
    "#### In HC dataset, remove time bins with no output (y value)"
   ]
  },
  {
   "cell_type": "code",
   "execution_count": 12,
   "metadata": {
    "collapsed": true
   },
   "outputs": [],
   "source": [
    "if dataset=='hc':\n",
    "    #Remove time bins with no output (y value)\n",
    "    rmv_time=np.where(np.isnan(y[:,0]) | np.isnan(y[:,1]))\n",
    "    X=np.delete(X,rmv_time,0)\n",
    "    X_flat=np.delete(X_flat,rmv_time,0)\n",
    "    y=np.delete(y,rmv_time,0)"
   ]
  },
  {
   "cell_type": "markdown",
   "metadata": {},
   "source": [
    "** In HC dataset, there is a long period without movement starting at ~80%, so we only use the first 80% of the data**"
   ]
  },
  {
   "cell_type": "code",
   "execution_count": 13,
   "metadata": {
    "collapsed": false
   },
   "outputs": [],
   "source": [
    "if dataset=='hc':\n",
    "    X=X[:int(.8*X.shape[0]),:,:]\n",
    "    X_flat=X_flat[:int(.8*X_flat.shape[0]),:]\n",
    "    y=y[:int(.8*y.shape[0]),:]"
   ]
  },
  {
   "cell_type": "markdown",
   "metadata": {},
   "source": [
    "### 3C. Define training/testing/validation sets\n",
    "We have 10 cross-validation folds. In each fold, 10% of the data is a test set, 10% is a validation set, and 80% is the training set. So in the first fold, for example, 0-10% is validation, 10-20% is testing, and 20-100% is training."
   ]
  },
  {
   "cell_type": "code",
   "execution_count": 14,
   "metadata": {
    "collapsed": false
   },
   "outputs": [],
   "source": [
    "valid_range_all=[[0,.1],[.1,.2],[.2,.3],[.3,.4],[.4,.5],\n",
    "                 [.5,.6],[.6,.7],[.7,.8],[.8,.9],[.9,1]]\n",
    "testing_range_all=[[.1,.2],[.2,.3],[.3,.4],[.4,.5],[.5,.6],\n",
    "                 [.6,.7],[.7,.8],[.8,.9],[.9,1],[0,.1]]\n",
    "#Note that the training set is not aways contiguous. For example, in the second fold, the training set has 0-10% and 30-100%.\n",
    "#In that example, we enter of list of lists: [[0,.1],[.3,1]]\n",
    "training_range_all=[[[.2,1]],[[0,.1],[.3,1]],[[0,.2],[.4,1]],[[0,.3],[.5,1]],[[0,.4],[.6,1]],\n",
    "                   [[0,.5],[.7,1]],[[0,.6],[.8,1]],[[0,.7],[.9,1]],[[0,.8]],[[.1,.9]]]\n",
    "\n",
    "num_folds=len(valid_range_all) #Number of cross validation folds"
   ]
  },
  {
   "cell_type": "markdown",
   "metadata": {},
   "source": [
    "## 4. Run CV"
   ]
  },
  {
   "cell_type": "markdown",
   "metadata": {},
   "source": [
    "**Initialize lists of results**"
   ]
  },
  {
   "cell_type": "code",
   "execution_count": 15,
   "metadata": {
    "collapsed": false
   },
   "outputs": [],
   "source": [
    "#R2 values\n",
    "mean_r2_wf=np.empty(num_folds)\n",
    "mean_r2_wc=np.empty(num_folds)\n",
    "mean_r2_xgb=np.empty(num_folds)\n",
    "mean_r2_svr=np.empty(num_folds)\n",
    "mean_r2_dnn=np.empty(num_folds)\n",
    "mean_r2_rnn=np.empty(num_folds)\n",
    "mean_r2_gru=np.empty(num_folds)\n",
    "mean_r2_lstm=np.empty(num_folds)\n",
    "\n",
    "#Actual data\n",
    "y_test_all=[]\n",
    "y_train_all=[]\n",
    "y_valid_all=[]\n",
    "\n",
    "#Test predictions\n",
    "y_pred_wf_all=[]\n",
    "y_pred_wc_all=[]\n",
    "y_pred_xgb_all=[]\n",
    "y_pred_dnn_all=[]\n",
    "y_pred_rnn_all=[]\n",
    "y_pred_gru_all=[]\n",
    "y_pred_lstm_all=[]\n",
    "y_pred_svr_all=[]\n",
    "\n",
    "#Training predictions\n",
    "y_train_pred_wf_all=[]\n",
    "y_train_pred_wc_all=[]\n",
    "y_train_pred_xgb_all=[]\n",
    "y_train_pred_dnn_all=[]\n",
    "y_train_pred_rnn_all=[]\n",
    "y_train_pred_gru_all=[]\n",
    "y_train_pred_lstm_all=[]\n",
    "y_train_pred_svr_all=[]\n",
    "\n",
    "#Validation predictions\n",
    "y_valid_pred_wf_all=[]\n",
    "y_valid_pred_wc_all=[]\n",
    "y_valid_pred_xgb_all=[]\n",
    "y_valid_pred_dnn_all=[]\n",
    "y_valid_pred_rnn_all=[]\n",
    "y_valid_pred_gru_all=[]\n",
    "y_valid_pred_lstm_all=[]\n",
    "y_valid_pred_svr_all=[]"
   ]
  },
  {
   "cell_type": "markdown",
   "metadata": {},
   "source": [
    "**In the following section, we**\n",
    "1. Loop across folds\n",
    "2. Extract the training/validation/testing data\n",
    "3. Preprocess the data\n",
    "4. Run the individual decoders (whichever have been specified in user options). This includes the hyperparameter optimization\n",
    "5. Save the results\n",
    "\n",
    "Note that the Wiener Filter, Wiener Cascade, and XGBoost decoders are commented most fully. So look at those for the best understanding."
   ]
  },
  {
   "cell_type": "code",
   "execution_count": 16,
   "metadata": {
    "collapsed": false,
    "scrolled": true
   },
   "outputs": [
    {
     "name": "stdout",
     "output_type": "stream",
     "text": [
      "('R2s_wf:', array([ 0.75507432,  0.74963294]))\n",
      "\n",
      "\n",
      "('R2s_wf:', array([ 0.7387892 ,  0.76205446]))\n",
      "\n",
      "\n",
      "('R2s_wf:', array([ 0.74555775,  0.75825578]))\n",
      "\n",
      "\n",
      "('R2s_wf:', array([ 0.77492927,  0.78659448]))\n",
      "\n",
      "\n",
      "('R2s_wf:', array([ 0.73793071,  0.73693024]))\n",
      "\n",
      "\n",
      "('R2s_wf:', array([ 0.74214418,  0.74480398]))\n",
      "\n",
      "\n",
      "('R2s_wf:', array([ 0.7046639 ,  0.73708232]))\n",
      "\n",
      "\n",
      "('R2s_wf:', array([ 0.75018119,  0.75405937]))\n",
      "\n",
      "\n",
      "('R2s_wf:', array([ 0.73322777,  0.72556696]))\n",
      "\n",
      "\n",
      "('R2s_wf:', array([ 0.74048384,  0.75922882]))\n",
      "\n",
      "\n",
      "('time_elapsed:', 38.735183000564575)\n"
     ]
    }
   ],
   "source": [
    "t1=time.time() #If I want to keep track of how much time has elapsed\n",
    "\n",
    "num_examples=X.shape[0] #number of examples (rows in the X matrix)\n",
    "\n",
    "\n",
    "for i in range(num_folds): #Loop through the folds\n",
    "\n",
    "    ######### SPLIT DATA INTO TRAINING/TESTING/VALIDATION #########\n",
    "    \n",
    "    #Note that all sets have a buffer of\"bins_before\" bins at the beginning, and \"bins_after\" bins at the end\n",
    "    #This makes it so that the different sets don't include overlapping neural data\n",
    "    \n",
    "    #Get testing set for this fold\n",
    "    testing_range=testing_range_all[i]\n",
    "    testing_set=np.arange(np.int(np.round(testing_range[0]*num_examples))+bins_before,np.int(np.round(testing_range[1]*num_examples))-bins_after)\n",
    "\n",
    "    #Get validation set for this fold\n",
    "    valid_range=valid_range_all[i]\n",
    "    valid_set=np.arange(np.int(np.round(valid_range[0]*num_examples))+bins_before,np.int(np.round(valid_range[1]*num_examples))-bins_after)\n",
    "\n",
    "    #Get training set for this fold. \n",
    "    #Note this needs to take into account a non-contiguous training set (see section 3C)\n",
    "    training_ranges=training_range_all[i]\n",
    "    for j in range(len(training_ranges)): #Go through different separated portions of the training set\n",
    "        training_range=training_ranges[j]\n",
    "        if j==0: #If it's the first portion of the training set, make it the training set\n",
    "            training_set=np.arange(np.int(np.round(training_range[0]*num_examples))+bins_before,np.int(np.round(training_range[1]*num_examples))-bins_after)\n",
    "        if j==1: #If it's the second portion of the training set, concatentate it to the first\n",
    "            training_set_temp=np.arange(np.int(np.round(training_range[0]*num_examples))+bins_before,np.int(np.round(training_range[1]*num_examples))-bins_after)\n",
    "            training_set=np.concatenate((training_set,training_set_temp),axis=0)\n",
    "                \n",
    "    #Get training data\n",
    "    X_train=X[training_set,:,:]\n",
    "    X_flat_train=X_flat[training_set,:]\n",
    "    y_train=y[training_set,:]\n",
    "    \n",
    "    #Get testing data\n",
    "    X_test=X[testing_set,:,:]\n",
    "    X_flat_test=X_flat[testing_set,:]\n",
    "    y_test=y[testing_set,:]\n",
    "\n",
    "    #Get validation data\n",
    "    X_valid=X[valid_set,:,:]\n",
    "    X_flat_valid=X_flat[valid_set,:]\n",
    "    y_valid=y[valid_set,:]\n",
    "\n",
    "\n",
    "    \n",
    "    \n",
    "    ##### PREPROCESS DATA #####\n",
    "    \n",
    "    #Z-score \"X\" inputs. \n",
    "    X_train_mean=np.nanmean(X_train,axis=0) #Mean of training data\n",
    "    X_train_std=np.nanstd(X_train,axis=0) #Stdev of training data\n",
    "    X_train=(X_train-X_train_mean)/X_train_std #Z-score training data\n",
    "    X_test=(X_test-X_train_mean)/X_train_std #Preprocess testing data in same manner as training data\n",
    "    X_valid=(X_valid-X_train_mean)/X_train_std #Preprocess validation data in same manner as training data\n",
    "\n",
    "    #Z-score \"X_flat\" inputs. \n",
    "    X_flat_train_mean=np.nanmean(X_flat_train,axis=0)\n",
    "    X_flat_train_std=np.nanstd(X_flat_train,axis=0)\n",
    "    X_flat_train=(X_flat_train-X_flat_train_mean)/X_flat_train_std\n",
    "    X_flat_test=(X_flat_test-X_flat_train_mean)/X_flat_train_std\n",
    "    X_flat_valid=(X_flat_valid-X_flat_train_mean)/X_flat_train_std\n",
    "\n",
    "    #Zero-center outputs\n",
    "    y_train_mean=np.nanmean(y_train,axis=0) #Mean of training data outputs\n",
    "    y_train=y_train-y_train_mean #Zero-center training output\n",
    "    y_test=y_test-y_train_mean #Preprocess testing data in same manner as training data\n",
    "    y_valid=y_valid-y_train_mean #Preprocess validation data in same manner as training data\n",
    "    \n",
    "    #Z-score outputs (for SVR)\n",
    "    y_train_std=np.nanstd(y_train,axis=0)\n",
    "    y_zscore_train=y_train/y_train_std\n",
    "    y_zscore_test=y_test/y_train_std\n",
    "    y_zscore_valid=y_valid/y_train_std    \n",
    "    \n",
    "    \n",
    "    \n",
    "    ################# DECODING #################\n",
    "    \n",
    "    #Add actual train/valid/test data to lists (for saving)\n",
    "    y_test_all.append(y_test)\n",
    "    y_train_all.append(y_train)\n",
    "    y_valid_all.append(y_valid)\n",
    "\n",
    "\n",
    "    \n",
    "    ###### WIENER FILTER ######\n",
    "    if run_wf:\n",
    "        #Note - the Wiener Filter has no hyperparameters to fit, unlike all other methods\n",
    "        \n",
    "        #Declare model\n",
    "        model_wf=WienerFilterDecoder()\n",
    "        #Fit model on training data\n",
    "        model_wf.fit(X_flat_train,y_train)\n",
    "        #Get test set predictions\n",
    "        y_test_predicted_wf=model_wf.predict(X_flat_test)   \n",
    "        #Get R2 of test set (mean of x and y values of position/velocity)\n",
    "        mean_r2_wf[i]=np.mean(get_R2(y_test,y_test_predicted_wf))\n",
    "        #Print R2 values on test set\n",
    "        R2s_wf=get_R2(y_test,y_test_predicted_wf)\n",
    "        print('R2s_wf:', R2s_wf)\n",
    "        \n",
    "        #Add predictions of training/validation/testing to lists (for saving)\n",
    "        y_pred_wf_all.append(y_test_predicted_wf)        \n",
    "        y_train_pred_wf_all.append(model_wf.predict(X_flat_train))\n",
    "        y_valid_pred_wf_all.append(model_wf.predict(X_flat_valid))        \n",
    "\n",
    "        \n",
    "    ###### WIENER CASCADE ######\n",
    "    if run_wc:\n",
    "        \n",
    "        ### Get hyperparameters using Bayesian optimization based on validation set R2 values###\n",
    "    \n",
    "        #Define a function that returns the metric we are trying to optimize (R2 value of the validation set)\n",
    "        #as a function of the hyperparameter we are fitting (here, degree)\n",
    "        def wc_evaluate(degree):\n",
    "            model_wc=WienerCascadeDecoder(degree) #Define model\n",
    "            model_wc.fit(X_flat_train,y_train) #Fit model\n",
    "            y_valid_predicted_wc=model_wc.predict(X_flat_valid) #Validation set predictions\n",
    "            return np.mean(get_R2(y_valid,y_valid_predicted_wc)) #R2 value of validation set (mean over x and y position/velocity)\n",
    "        \n",
    "        #Do bayesian optimization\n",
    "        wcBO = BayesianOptimization(wc_evaluate, {'degree': (1, 5.01)}, verbose=0) #Define Bayesian optimization, and set limits of hyperparameters    \n",
    "        wcBO.maximize(init_points=3, n_iter=3) #Set number of initial runs and subsequent tests, and do the optimization\n",
    "        best_params=wcBO.res['max']['max_params'] #Get the hyperparameters that give rise to the best fit\n",
    "        degree=best_params['degree']\n",
    "#         print(\"degree=\", degree)\n",
    "\n",
    "        ### Run model w/ above hyperparameters\n",
    "        \n",
    "        model_wc=WienerCascadeDecoder(degree) #Declare model\n",
    "        model_wc.fit(X_flat_train,y_train) #Fit model on training data\n",
    "        y_test_predicted_wc=model_wc.predict(X_flat_test) #Get test set predictions\n",
    "        mean_r2_wc[i]=np.mean(get_R2(y_test,y_test_predicted_wc)) #Get test set R2 (mean across x and y position/velocity)\n",
    "        #Print R2 values on test set\n",
    "        R2s_wc=get_R2(y_test,y_test_predicted_wc)\n",
    "        print('R2s_wc:', R2s_wc)\n",
    "        #Add predictions of training/validation/testing to lists (for saving)\n",
    "        y_pred_wc_all.append(y_test_predicted_wc)   \n",
    "        y_train_pred_wc_all.append(model_wc.predict(X_flat_train))\n",
    "        y_valid_pred_wc_all.append(model_wc.predict(X_flat_valid))\n",
    "\n",
    " \n",
    "\n",
    "    ###### SVR ######\n",
    "    if run_svr:\n",
    "        \n",
    "        ### Get hyperparameters using Bayesian optimization based on validation set R2 values###\n",
    "        \n",
    "        #Set the maximum number of iterations (to save time) - 2000 for M1 and S1, 4000 for HC which is faster\n",
    "        if dataset=='hc':\n",
    "            max_iter=4000\n",
    "        else:\n",
    "            max_iter=2000\n",
    "        \n",
    "        #Define a function that returns the metric we are trying to optimize (R2 value of the validation set)\n",
    "        #as a function of the hyperparameter we are fitting (here, C)\n",
    "        def svr_evaluate(C):\n",
    "            model_svr=SVRDecoder(C=C, max_iter=max_iter)\n",
    "            model_svr.fit(X_flat_train,y_zscore_train) #Note for SVR that we use z-scored y values\n",
    "            y_valid_predicted_svr=model_svr.predict(X_flat_valid)\n",
    "            return np.mean(get_R2(y_zscore_valid,y_valid_predicted_svr))\n",
    "        \n",
    "        #Do bayesian optimization\n",
    "        svrBO = BayesianOptimization(svr_evaluate, {'C': (.5, 10)}, verbose=0)    \n",
    "        svrBO.maximize(init_points=5, n_iter=5)\n",
    "        best_params=svrBO.res['max']['max_params']\n",
    "        C=best_params['C']\n",
    "#         print(\"C=\", C)\n",
    "\n",
    "        # Run model w/ above hyperparameters\n",
    "    \n",
    "        model_svr=SVRDecoder(C=C, max_iter=max_iter)\n",
    "        model_svr.fit(X_flat_train,y_zscore_train) #Note for SVR that we use z-scored y values\n",
    "        y_test_predicted_svr=model_svr.predict(X_flat_test)\n",
    "        mean_r2_svr[i]=np.mean(get_R2(y_zscore_test,y_test_predicted_svr))    \n",
    "        #Print R2 values on test set\n",
    "        R2s_svr=get_R2(y_zscore_test,y_test_predicted_svr)\n",
    "        print('R2s_svr:', R2s_svr)    \n",
    "        #Add predictions of training/validation/testing to lists (for saving)    \n",
    "        y_pred_svr_all.append(y_test_predicted_svr)\n",
    "        y_train_pred_svr_all.append(model_svr.predict(X_flat_train))\n",
    "        y_valid_pred_svr_all.append(model_svr.predict(X_flat_valid))\n",
    "\n",
    "        \n",
    "        \n",
    "    ##### XGBOOST ######\n",
    "    if run_xgb:\n",
    "               \n",
    "        ### Get hyperparameters using Bayesian optimization based on validation set R2 values###\n",
    "    \n",
    "        #Define a function that returns the metric we are trying to optimize (R2 value of the validation set)\n",
    "        #as a function of the hyperparameter we are fitting (max_depth, num_round, eta)\n",
    "        def xgb_evaluate(max_depth,num_round,eta):\n",
    "            max_depth=int(max_depth) #Put in proper format (Bayesian optimization uses floats, and we just want to test the integer)\n",
    "            num_round=int(num_round) #Put in proper format\n",
    "            eta=float(eta) #Put in proper format\n",
    "            model_xgb=XGBoostDecoder(max_depth=max_depth, num_round=num_round, eta=eta) #Define model\n",
    "            model_xgb.fit(X_flat_train,y_train) #Fit model\n",
    "            y_valid_predicted_xgb=model_xgb.predict(X_flat_valid) #Get validation set predictions\n",
    "            return np.mean(get_R2(y_valid,y_valid_predicted_xgb)) #Return mean validation set R2\n",
    "\n",
    "        #Do bayesian optimization\n",
    "        xgbBO = BayesianOptimization(xgb_evaluate, {'max_depth': (2, 10.01), 'num_round': (100,700), 'eta': (0, 1)}) #Define Bayesian optimization, and set limits of hyperparameters    \n",
    "        #Set number of initial runs and subsequent tests, and do the optimization. Also, we set kappa=10 (greater than the default) so there is more exploration when there are more hyperparameters\n",
    "        xgbBO.maximize(init_points=20, n_iter=20, kappa=10) \n",
    "        best_params=xgbBO.res['max']['max_params'] #Get the hyperparameters that give rise to the best fit\n",
    "        num_round=np.int(best_params['num_round']) #We want the integer value associated with the best \"num_round\" parameter (which is what the xgb_evaluate function does above)\n",
    "        max_depth=np.int(best_params['max_depth']) #We want the integer value associated with the best \"max_depth\" parameter (which is what the xgb_evaluate function does above)\n",
    "        eta=best_params['eta']\n",
    "    \n",
    "        # Run model w/ above hyperparameters\n",
    "        \n",
    "        model_xgb=XGBoostDecoder(max_depth=max_depth, num_round=num_round, eta=eta) #Declare model w/ fit hyperparameters\n",
    "        model_xgb.fit(X_flat_train,y_train) #Fit model\n",
    "        y_test_predicted_xgb=model_xgb.predict(X_flat_test) #Get test set predictions\n",
    "        mean_r2_xgb[i]=np.mean(get_R2(y_test,y_test_predicted_xgb)) #Get test set R2 (mean across x and y position/velocity)   \n",
    "        #Print R2 values on test set\n",
    "        R2s_xgb=get_R2(y_test,y_test_predicted_xgb)\n",
    "        print('R2s:', R2s_xgb)\n",
    "        #Add predictions of training/validation/testing to lists (for saving)        \n",
    "        y_pred_xgb_all.append(y_test_predicted_xgb)                    \n",
    "        y_train_pred_xgb_all.append(model_xgb.predict(X_flat_train))\n",
    "        y_valid_pred_xgb_all.append(model_xgb.predict(X_flat_valid))\n",
    "        \n",
    "        \n",
    "    \n",
    "    ##### Dense (Feedforward) NN ######\n",
    "    if run_dnn:\n",
    "        \n",
    "        ### Get hyperparameters using Bayesian optimization based on validation set R2 values###\n",
    "    \n",
    "        #Define a function that returns the metric we are trying to optimize (R2 value of the validation set)\n",
    "        #as a function of the hyperparameter we are fitting        \n",
    "        def dnn_evaluate(num_units,frac_dropout,n_epochs):\n",
    "            num_units=int(num_units)\n",
    "            frac_dropout=float(frac_dropout)\n",
    "            n_epochs=int(n_epochs)\n",
    "            model_dnn=DenseNNDecoder(units=[num_units,num_units],dropout=frac_dropout,num_epochs=n_epochs)\n",
    "            model_dnn.fit(X_flat_train,y_train)\n",
    "            y_valid_predicted_dnn=model_dnn.predict(X_flat_valid)\n",
    "            return np.mean(get_R2(y_valid,y_valid_predicted_dnn))\n",
    "        \n",
    "        #Do bayesian optimization\n",
    "        dnnBO = BayesianOptimization(dnn_evaluate, {'num_units': (50, 600), 'frac_dropout': (0,.5), 'n_epochs': (2,21)})\n",
    "        dnnBO.maximize(init_points=20, n_iter=20, kappa=10)\n",
    "        best_params=dnnBO.res['max']['max_params']\n",
    "        frac_dropout=float(best_params['frac_dropout'])\n",
    "        n_epochs=np.int(best_params['n_epochs'])\n",
    "        num_units=np.int(best_params['num_units'])\n",
    "\n",
    "        # Run model w/ above hyperparameters\n",
    "        \n",
    "        model_dnn=DenseNNDecoder(units=[num_units,num_units],dropout=frac_dropout,num_epochs=n_epochs)\n",
    "        model_dnn.fit(X_flat_train,y_train)\n",
    "        y_test_predicted_dnn=model_dnn.predict(X_flat_test)\n",
    "        mean_r2_dnn[i]=np.mean(get_R2(y_test,y_test_predicted_dnn))    \n",
    "        #Print R2 values on test set\n",
    "        R2s_dnn=get_R2(y_test,y_test_predicted_dnn)\n",
    "        print('R2s:', R2s_dnn)    \n",
    "        #Add predictions of training/validation/testing to lists (for saving)            \n",
    "        y_pred_dnn_all.append(y_test_predicted_dnn)\n",
    "        y_train_pred_dnn_all.append(model_dnn.predict(X_flat_train))\n",
    "        y_valid_pred_dnn_all.append(model_dnn.predict(X_flat_valid))\n",
    "        \n",
    "        \n",
    "        \n",
    "    ##### SIMPLE RNN ######\n",
    "    if run_rnn:\n",
    "        \n",
    "        ### Get hyperparameters using Bayesian optimization based on validation set R2 values###\n",
    "    \n",
    "        #Define a function that returns the metric we are trying to optimize (R2 value of the validation set)\n",
    "        #as a function of the hyperparameter we are fitting\n",
    "        def rnn_evaluate(num_units,frac_dropout,n_epochs):\n",
    "            num_units=int(num_units)\n",
    "            frac_dropout=float(frac_dropout)\n",
    "            n_epochs=int(n_epochs)\n",
    "            model_rnn=SimpleRNNDecoder(units=num_units,dropout=frac_dropout,num_epochs=n_epochs)\n",
    "            model_rnn.fit(X_train,y_train)\n",
    "            y_valid_predicted_rnn=model_rnn.predict(X_valid)\n",
    "            return np.mean(get_R2(y_valid,y_valid_predicted_rnn))\n",
    "        \n",
    "        #Do bayesian optimization\n",
    "        rnnBO = BayesianOptimization(rnn_evaluate, {'num_units': (50, 600), 'frac_dropout': (0,.5), 'n_epochs': (2,21)})\n",
    "        rnnBO.maximize(init_points=20, n_iter=20, kappa=10)\n",
    "        best_params=rnnBO.res['max']['max_params']\n",
    "        frac_dropout=float(best_params['frac_dropout'])\n",
    "        n_epochs=np.int(best_params['n_epochs'])\n",
    "        num_units=np.int(best_params['num_units'])\n",
    "\n",
    "        # Run model w/ above hyperparameters\n",
    "        \n",
    "        model_rnn=SimpleRNNDecoder(units=num_units,dropout=frac_dropout,num_epochs=n_epochs)\n",
    "        model_rnn.fit(X_train,y_train)\n",
    "        y_test_predicted_rnn=model_rnn.predict(X_test)\n",
    "        mean_r2_rnn[i]=np.mean(get_R2(y_test,y_test_predicted_rnn))    \n",
    "        #Print R2 values on test set\n",
    "        R2s_rnn=get_R2(y_test,y_test_predicted_rnn)\n",
    "        print('R2s:', R2s_rnn)\n",
    "        #Add predictions of training/validation/testing to lists (for saving)           \n",
    "        y_pred_rnn_all.append(y_test_predicted_rnn)\n",
    "        y_train_pred_rnn_all.append(model_rnn.predict(X_train))\n",
    "        y_valid_pred_rnn_all.append(model_rnn.predict(X_valid))  \n",
    "    \n",
    "    ##### GRU ######\n",
    "    if run_gru:\n",
    "        \n",
    "        ### Get hyperparameters using Bayesian optimization based on validation set R2 values###\n",
    "    \n",
    "        #Define a function that returns the metric we are trying to optimize (R2 value of the validation set)\n",
    "        #as a function of the hyperparameter we are fitting        \n",
    "        def gru_evaluate(num_units,frac_dropout,n_epochs):\n",
    "            num_units=int(num_units)\n",
    "            frac_dropout=float(frac_dropout)\n",
    "            n_epochs=int(n_epochs)\n",
    "            model_gru=GRUDecoder(units=num_units,dropout=frac_dropout,num_epochs=n_epochs)\n",
    "            model_gru.fit(X_train,y_train)\n",
    "            y_valid_predicted_gru=model_gru.predict(X_valid)\n",
    "            return np.mean(get_R2(y_valid,y_valid_predicted_gru))\n",
    "        \n",
    "        #Do bayesian optimization\n",
    "        gruBO = BayesianOptimization(gru_evaluate, {'num_units': (50, 600), 'frac_dropout': (0,.5), 'n_epochs': (2,21)})\n",
    "        gruBO.maximize(init_points=20, n_iter=20,kappa=10)\n",
    "        best_params=gruBO.res['max']['max_params']\n",
    "        frac_dropout=float(best_params['frac_dropout'])\n",
    "        n_epochs=np.int(best_params['n_epochs'])\n",
    "        num_units=np.int(best_params['num_units'])\n",
    "\n",
    "        # Run model w/ above hyperparameters\n",
    "        \n",
    "        model_gru=GRUDecoder(units=num_units,dropout=frac_dropout,num_epochs=n_epochs)\n",
    "        model_gru.fit(X_train,y_train)\n",
    "        y_test_predicted_gru=model_gru.predict(X_test)\n",
    "        mean_r2_gru[i]=np.mean(get_R2(y_test,y_test_predicted_gru))    \n",
    "        #Print test set R2 values\n",
    "        R2s_gru=get_R2(y_test,y_test_predicted_gru)\n",
    "        print('R2s:', R2s_gru)\n",
    "        #Add predictions of training/validation/testing to lists (for saving)            \n",
    "        y_pred_gru_all.append(y_test_predicted_gru)\n",
    "        y_train_pred_gru_all.append(model_gru.predict(X_train))\n",
    "        y_valid_pred_gru_all.append(model_gru.predict(X_valid))  \n",
    "    \n",
    "    \n",
    "    ##### LSTM ######\n",
    "    if run_lstm:\n",
    "        \n",
    "        ### Get hyperparameters using Bayesian optimization based on validation set R2 values###\n",
    "    \n",
    "        #Define a function that returns the metric we are trying to optimize (R2 value of the validation set)\n",
    "        #as a function of the hyperparameter we are fitting        \n",
    "        def lstm_evaluate(num_units,frac_dropout,n_epochs):\n",
    "            num_units=int(num_units)\n",
    "            frac_dropout=float(frac_dropout)\n",
    "            n_epochs=int(n_epochs)\n",
    "            model_lstm=LSTMDecoder(units=num_units,dropout=frac_dropout,num_epochs=n_epochs)\n",
    "            model_lstm.fit(X_train,y_train)\n",
    "            y_valid_predicted_lstm=model_lstm.predict(X_valid)\n",
    "            return np.mean(get_R2(y_valid,y_valid_predicted_lstm))\n",
    "        \n",
    "        #Do bayesian optimization\n",
    "        lstmBO = BayesianOptimization(lstm_evaluate, {'num_units': (50, 600), 'frac_dropout': (0,.5), 'n_epochs': (2,21)})\n",
    "        lstmBO.maximize(init_points=20, n_iter=20, kappa=10)\n",
    "        best_params=lstmBO.res['max']['max_params']\n",
    "        frac_dropout=float(best_params['frac_dropout'])\n",
    "        n_epochs=np.int(best_params['n_epochs'])\n",
    "        num_units=np.int(best_params['num_units'])\n",
    "\n",
    "        # Run model w/ above hyperparameters\n",
    "        \n",
    "        model_lstm=LSTMDecoder(units=num_units,dropout=frac_dropout,num_epochs=n_epochs)\n",
    "        model_lstm.fit(X_train,y_train)\n",
    "        y_test_predicted_lstm=model_lstm.predict(X_test)\n",
    "        mean_r2_lstm[i]=np.mean(get_R2(y_test,y_test_predicted_lstm))    \n",
    "        #Print test set R2\n",
    "        R2s_lstm=get_R2(y_test,y_test_predicted_lstm)\n",
    "        print('R2s:', R2s_lstm)   \n",
    "        #Add predictions of training/validation/testing to lists (for saving)        \n",
    "        y_pred_lstm_all.append(y_test_predicted_lstm)\n",
    "        y_train_pred_lstm_all.append(model_lstm.predict(X_train))\n",
    "        y_valid_pred_lstm_all.append(model_lstm.predict(X_valid))    \n",
    "       \n",
    "    print (\"\\n\") #Line break after each fold   \n",
    "    time_elapsed=time.time()-t1 #How much time has passed\n",
    "    \n",
    "    \n",
    "    \n",
    "    ###### SAVE RESULTS #####\n",
    "    #Note that I save them after every cross-validation fold rather than at the end in case the code/computer crashes for some reason while running\n",
    "    \n",
    "    #Only save results for the decoder we chose to run\n",
    "    if run_wf:\n",
    "        with open(save_folder+dataset+'_results_wf2.pickle','wb') as f:\n",
    "            pickle.dump([mean_r2_wf,y_pred_wf_all,y_train_pred_wf_all,y_valid_pred_wf_all],f)\n",
    "\n",
    "    if run_wc:\n",
    "        with open(save_folder+dataset+'_results_wc2.pickle','wb') as f:\n",
    "            pickle.dump([mean_r2_wc,y_pred_wc_all,y_train_pred_wc_all,y_valid_pred_wc_all],f)\n",
    "\n",
    "    if run_xgb:\n",
    "        with open(save_folder+dataset+'_results_xgb2.pickle','wb') as f:\n",
    "            pickle.dump([mean_r2_xgb,y_pred_xgb_all,y_train_pred_xgb_all,y_valid_pred_xgb_all,time_elapsed],f)\n",
    "\n",
    "    if run_dnn:\n",
    "        with open(save_folder+dataset+'_results_dnn2.pickle','wb') as f:\n",
    "            pickle.dump([mean_r2_dnn,y_pred_dnn_all,y_train_pred_dnn_all,y_valid_pred_dnn_all,time_elapsed],f)\n",
    "\n",
    "    if run_rnn:\n",
    "        with open(save_folder+dataset+'_results_rnn2.pickle','wb') as f:\n",
    "            pickle.dump([mean_r2_rnn,y_pred_rnn_all,y_train_pred_rnn_all,y_valid_pred_rnn_all,time_elapsed],f)\n",
    "\n",
    "    if run_gru:\n",
    "        with open(save_folder+dataset+'_results_gru2.pickle','wb') as f:\n",
    "            pickle.dump([mean_r2_gru,y_pred_gru_all,y_train_pred_gru_all,y_valid_pred_gru_all,time_elapsed],f)\n",
    "\n",
    "    if run_lstm:\n",
    "        with open(save_folder+dataset+'_results_lstm2.pickle','wb') as f:\n",
    "            pickle.dump([mean_r2_lstm,y_pred_lstm_all,y_train_pred_lstm_all,y_valid_pred_lstm_all,time_elapsed],f)\n",
    "\n",
    "    if run_svr:\n",
    "        with open(save_folder+dataset+'_results_svr2.pickle','wb') as f:\n",
    "            pickle.dump([mean_r2_svr,y_pred_svr_all,y_train_pred_svr_all,y_valid_pred_svr_all,time_elapsed],f)\n",
    "            \n",
    "            \n",
    "#Save ground truth results\n",
    "with open(save_folder+dataset+'_ground_truth.pickle','wb') as f:\n",
    "    pickle.dump([y_test_all,y_train_all,y_valid_all],f)\n",
    "    \n",
    "print(\"time_elapsed:\",time_elapsed)"
   ]
  },
  {
   "cell_type": "markdown",
   "metadata": {},
   "source": [
    "### Quick check of results"
   ]
  },
  {
   "cell_type": "code",
   "execution_count": 17,
   "metadata": {
    "collapsed": false
   },
   "outputs": [
    {
     "data": {
      "text/plain": [
       "array([ 0.75235363,  0.75042183,  0.75190676,  0.78076188,  0.73743047,\n",
       "        0.74347408,  0.72087311,  0.75212028,  0.72939737,  0.74985633])"
      ]
     },
     "execution_count": 17,
     "metadata": {},
     "output_type": "execute_result"
    }
   ],
   "source": [
    "mean_r2_wf"
   ]
  },
  {
   "cell_type": "code",
   "execution_count": 18,
   "metadata": {
    "collapsed": false
   },
   "outputs": [
    {
     "data": {
      "text/plain": [
       "0.74685957390368962"
      ]
     },
     "execution_count": 18,
     "metadata": {},
     "output_type": "execute_result"
    }
   ],
   "source": [
    "np.mean(mean_r2_wf)"
   ]
  },
  {
   "cell_type": "code",
   "execution_count": 19,
   "metadata": {
    "collapsed": false
   },
   "outputs": [
    {
     "data": {
      "text/plain": [
       "[<matplotlib.lines.Line2D at 0x7fd456ca4250>]"
      ]
     },
     "execution_count": 19,
     "metadata": {},
     "output_type": "execute_result"
    },
    {
     "data": {
      "image/png": "[encoded data removed]",
      "text/plain": [
       "<matplotlib.figure.Figure at 0x7fd456ca4610>"
      ]
     },
     "metadata": {},
     "output_type": "display_data"
    }
   ],
   "source": [
    "plt.plot(y_test_all[1][0:1000,0])\n",
    "plt.plot(y_pred_wf_all[1][0:1000,0])"
   ]
  }
 ],
 "metadata": {
  "anaconda-cloud": {},
  "kernelspec": {
   "display_name": "Python [Root]",
   "language": "python",
   "name": "Python [Root]"
  },
  "language_info": {
   "codemirror_mode": {
    "name": "ipython",
    "version": 2
   },
   "file_extension": ".py",
   "mimetype": "text/x-python",
   "name": "python",
   "nbconvert_exporter": "python",
   "pygments_lexer": "ipython2",
   "version": "2.7.12"
  }
 },
 "nbformat": 4,
 "nbformat_minor": 0
}
