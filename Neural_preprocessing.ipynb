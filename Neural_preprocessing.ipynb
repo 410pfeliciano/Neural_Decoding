{
 "cells": [
  {
   "cell_type": "code",
   "execution_count": 1,
   "metadata": {
    "collapsed": false
   },
   "outputs": [],
   "source": [
    "###Import standard packages###\n",
    "import numpy as np\n",
    "from scipy import io\n",
    "\n",
    "###Import functions for binning data for preprocessing###\n",
    "from preprocessing_funcs import bin_spikes\n",
    "from preprocessing_funcs import bin_output"
   ]
  },
  {
   "cell_type": "code",
   "execution_count": 2,
   "metadata": {
    "collapsed": false
   },
   "outputs": [],
   "source": [
    "###Load Data###\n",
    "folder='/Users/jig289/Dropbox/MATLAB/Projects/In_Progress/BMI/Processed_Data/'\n",
    "data=io.loadmat(folder+'m1_data_raw.mat')\n",
    "# data=io.loadmat(folder+'s1_data_raw.mat')\n",
    "# data=io.loadmat(folder+'hc_data_raw.mat')\n",
    "spike_times=data['spike_times']\n",
    "vels=data['vels']\n",
    "vel_times=data['vel_times']\n",
    "pos=data['pos']\n",
    "# pos_times=data['pos_times']\n",
    "acc=data['acc']\n",
    "\n",
    "\n",
    "\n",
    "#Make spike_times an array of arrays (raw format has extra unnecessary dimension)\n",
    "spike_times=np.squeeze(spike_times)\n",
    "for i in range(spike_times.shape[0]):\n",
    "    spike_times[i]=np.squeeze(spike_times[i])"
   ]
  },
  {
   "cell_type": "code",
   "execution_count": 3,
   "metadata": {
    "collapsed": false
   },
   "outputs": [],
   "source": [
    "###User Options For Initial Preprocessing###\n",
    "dt=.05 #Size of time bins\n",
    "t_start=30 #Time to start extracting data\n",
    "t_end=1295 #Time to finish extracting data\n",
    "downsample_factor=10 #Downsampling of output (to make binning go faster)\n",
    "\n",
    "# dt=.05 #Size of time bins\n",
    "# t_start=vel_times[0] #Time to start extracting data\n",
    "# t_end=vel_times[-1] #Time to finish extracting data\n",
    "# downsample_factor=1 #Downsampling of output (to make binning go faster)\n",
    "\n",
    "# dt=.2 #Size of time bins\n",
    "# t_start=0 #Time to start extracting data\n",
    "# t_end=5608 #Time to finish extracting data\n",
    "# downsample_factor=1 #Downsampling of output (to make binning go faster)"
   ]
  },
  {
   "cell_type": "code",
   "execution_count": 4,
   "metadata": {
    "collapsed": false
   },
   "outputs": [],
   "source": [
    "###Preprocessing to put spikes and output in bins###\n",
    "\n",
    "#Bin neural data#\n",
    "neural_data=bin_spikes(spike_times,dt,t_start,t_end)\n",
    "\n",
    "#Bin output (velocity) data#\n",
    "vels_binned=bin_output(vels,vel_times,dt,t_start,t_end,downsample_factor)\n",
    "pos_binned=bin_output(pos,vel_times,dt,t_start,t_end,downsample_factor)\n",
    "acc_binned=bin_output(acc,vel_times,dt,t_start,t_end,downsample_factor)\n",
    "\n"
   ]
  },
  {
   "cell_type": "code",
   "execution_count": 5,
   "metadata": {
    "collapsed": false
   },
   "outputs": [],
   "source": [
    "import pickle\n",
    "\n",
    "# with open('s1_test_data.pickle','w') as f:\n",
    "#     pickle.dump([neural_data,vels_binned,pos_binned,acc_binned],f)\n",
    "\n",
    "with open('m1_test_data_p3.pickle','wb') as f:\n",
    "    pickle.dump([neural_data,vels_binned,pos_binned,acc_binned],f)\n",
    "\n",
    "# with open('hc_test_data.pickle','w') as f:\n",
    "#     pickle.dump([neural_data,pos_binned],f)"
   ]
  },
  {
   "cell_type": "code",
   "execution_count": 24,
   "metadata": {
    "collapsed": false
   },
   "outputs": [
    {
     "data": {
      "text/plain": [
       "[<matplotlib.lines.Line2D at 0x117741dd0>]"
      ]
     },
     "execution_count": 24,
     "metadata": {},
     "output_type": "execute_result"
    },
    {
     "data": {
      "image/png": "[encoded data removed]",
      "text/plain": [
       "<matplotlib.figure.Figure at 0x116f3ca10>"
      ]
     },
     "metadata": {},
     "output_type": "display_data"
    }
   ],
   "source": [
    "import matplotlib.pyplot as plt\n",
    "%matplotlib inline\n",
    "plt.plot(pos_binned[:,0])"
   ]
  },
  {
   "cell_type": "code",
   "execution_count": null,
   "metadata": {
    "collapsed": true
   },
   "outputs": [],
   "source": []
  }
 ],
 "metadata": {
  "kernelspec": {
   "display_name": "Python [py35]",
   "language": "python",
   "name": "Python [py35]"
  },
  "language_info": {
   "codemirror_mode": {
    "name": "ipython",
    "version": 3
   },
   "file_extension": ".py",
   "mimetype": "text/x-python",
   "name": "python",
   "nbconvert_exporter": "python",
   "pygments_lexer": "ipython3",
   "version": "3.5.2"
  }
 },
 "nbformat": 4,
 "nbformat_minor": 0
}
