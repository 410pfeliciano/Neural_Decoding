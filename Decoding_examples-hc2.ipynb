{
 "cells": [
  {
   "cell_type": "markdown",
   "metadata": {},
   "source": [
    "## Import Packages"
   ]
  },
  {
   "cell_type": "code",
   "execution_count": 407,
   "metadata": {
    "collapsed": false
   },
   "outputs": [],
   "source": [
    "import numpy as np\n",
    "import matplotlib.pyplot as plt\n",
    "%matplotlib inline\n",
    "from scipy import io\n",
    "from scipy import stats\n",
    "import pickle\n",
    "# from numpy.linalg import inv as inv\n",
    "\n",
    "#Import function to get the covariate matrix that includes spike history from previous bins\n",
    "from preprocessing_funcs import get_spikes_with_history\n",
    "\n",
    "#Import decoder functions\n",
    "import Decoder_funcs\n",
    "from Decoder_funcs import get_vaf"
   ]
  },
  {
   "cell_type": "markdown",
   "metadata": {},
   "source": [
    "## Import Data"
   ]
  },
  {
   "cell_type": "markdown",
   "metadata": {},
   "source": [
    "**Neural data should be a matrix of size \"number of time bins\" x \"number of neurons\", where each entry is the firing rate of a given neuron in a given time bin**\n",
    "\n",
    "**The output you are decoding should be a matrix of size \"number of time bins\" x \"number of features you are decoding\"**"
   ]
  },
  {
   "cell_type": "code",
   "execution_count": 591,
   "metadata": {
    "collapsed": false
   },
   "outputs": [],
   "source": [
    "# folder='/Users/jig289/Dropbox/MATLAB/Projects/In_Progress/BMI/Processed_Data/'\n",
    "folder='/home/jglaser2/Data/DecData/'\n",
    "\n",
    "with open(folder+'hc_test_data.pickle','rb') as f:\n",
    "    neural_data,pos_binned=pickle.load(f)"
   ]
  },
  {
   "cell_type": "markdown",
   "metadata": {},
   "source": [
    "## Define Covariates ##"
   ]
  },
  {
   "cell_type": "markdown",
   "metadata": {},
   "source": [
    "### User Options: Define what time period to use spikes from"
   ]
  },
  {
   "cell_type": "code",
   "execution_count": 592,
   "metadata": {
    "collapsed": true
   },
   "outputs": [],
   "source": [
    "#This is relevant for all decoders except the Kalman filter (KF)\n",
    "\n",
    "bins_current=1 #Whether to use concurrent time bin of neural data\n",
    "bins_before=5 #How many bins of neural data prior to the output are used for decoding\n",
    "bins_after=4 #How many bins of neural data after (and including) the output are used for decoding\n",
    "bins_surrounding=bins_before+bins_before+bins_after\n",
    "\n",
    "\n",
    "# Below is only relevant for the KF\n",
    "\n",
    "lag=2 #What time bin of spikes should be used relative to the output\n",
    "#(lag=-1 means use the spikes 1 bin before the output)"
   ]
  },
  {
   "cell_type": "markdown",
   "metadata": {},
   "source": [
    "### Get Input Covariates"
   ]
  },
  {
   "cell_type": "code",
   "execution_count": 593,
   "metadata": {
    "collapsed": false
   },
   "outputs": [],
   "source": [
    "#Remove neurons with too few spikes\n",
    "nd_sum=np.nansum(neural_data,axis=0)\n",
    "rmv_nrn=np.where(nd_sum<100)\n",
    "neural_data=np.delete(neural_data,rmv_nrn,1)\n",
    "\n",
    "#Function to get the covariate matrix that includes spike history from previous bins\n",
    "#This puts the spikes in the format for the RNN\n",
    "X=get_spikes_with_history(neural_data,bins_before,bins_after,bins_current)\n",
    "\n",
    "#Put in \"flat\" format for XGB and linear decoders\n",
    "X_flat=X.reshape(X.shape[0],(X.shape[1]*X.shape[2]))\n",
    "\n",
    "#Format for Kalman filter\n",
    "X_kf=neural_data\n"
   ]
  },
  {
   "cell_type": "code",
   "execution_count": 594,
   "metadata": {
    "collapsed": false
   },
   "outputs": [
    {
     "data": {
      "text/plain": [
       "(28039, 46)"
      ]
     },
     "execution_count": 594,
     "metadata": {},
     "output_type": "execute_result"
    }
   ],
   "source": [
    "X_kf.shape"
   ]
  },
  {
   "cell_type": "markdown",
   "metadata": {},
   "source": [
    "### Get Output Covariates"
   ]
  },
  {
   "cell_type": "code",
   "execution_count": 595,
   "metadata": {
    "collapsed": true
   },
   "outputs": [],
   "source": [
    "#Set decoding output for all decoders except the KF\n",
    "y=pos_binned\n",
    "\n",
    "\n",
    "#Set decoding output for the KF\n",
    "# pos=np.zeros(vels_binned.shape)\n",
    "# pos[0,:]=0\n",
    "# for i in range(pos.shape[0]-1):\n",
    "#     pos[i+1,0]=pos[i,0]+vels_binned[i,0]*.05\n",
    "#     pos[i+1,1]=pos[i,1]+vels_binned[i,1]*.05\n",
    "    \n",
    "temp=np.diff(pos_binned,axis=0)\n",
    "vels=np.concatenate((temp,temp[-1:,:]),axis=0)\n",
    "\n",
    "temp2=np.diff(vels,axis=0)\n",
    "acc=np.concatenate((temp2,temp2[-1:,:]),axis=0)\n",
    "\n",
    "# y_kf=np.concatenate((pos,vels_binned,acc),axis=1)\n",
    "\n",
    "# y_kf=np.concatenate((pos_binned,vels),axis=1)\n",
    "y_kf=np.concatenate((pos_binned,vels,acc),axis=1)\n",
    "# y_kf=pos_binned"
   ]
  },
  {
   "cell_type": "markdown",
   "metadata": {},
   "source": [
    "### Process Covariates"
   ]
  },
  {
   "cell_type": "code",
   "execution_count": 596,
   "metadata": {
    "collapsed": false
   },
   "outputs": [],
   "source": [
    "def zscore_nan(X,axis):\n",
    "    X_zscore=(X - np.nanmean(X,axis=axis)) / np.nanstd(X,axis=axis)\n",
    "    return X_zscore"
   ]
  },
  {
   "cell_type": "code",
   "execution_count": 597,
   "metadata": {
    "collapsed": false
   },
   "outputs": [],
   "source": [
    "#Normalize inputs\n",
    "X=zscore_nan(X,axis=0)\n",
    "X_flat=zscore_nan(X_flat,axis=0)\n",
    "X_kf=zscore_nan(X_kf,axis=0)\n",
    "\n",
    "#Zero-center outputs\n",
    "y_mean=np.nanmean(y,axis=0)\n",
    "y=y-y_mean\n",
    "\n",
    "y_kf_mean=np.nanmean(y_kf,axis=0)\n",
    "y_kf=y_kf-y_kf_mean"
   ]
  },
  {
   "cell_type": "code",
   "execution_count": 598,
   "metadata": {
    "collapsed": true
   },
   "outputs": [],
   "source": [
    "#Remove time bins with no output (y value)\n",
    "rmv_time=np.where(np.isnan(y[:,0]) | np.isnan(y[:,1]))\n",
    "X=np.delete(X,rmv_time,0)\n",
    "X_flat=np.delete(X_flat,rmv_time,0)\n",
    "X_kf=np.delete(X_kf,rmv_time,0)\n",
    "y=np.delete(y,rmv_time,0)\n",
    "y_kf=np.delete(y_kf,rmv_time,0)"
   ]
  },
  {
   "cell_type": "code",
   "execution_count": 599,
   "metadata": {
    "collapsed": false
   },
   "outputs": [],
   "source": [
    "#More Kalman filter preprocessing\n",
    "num_examples=X.shape[0]\n",
    "\n",
    "#Re-align data to take lag into account\n",
    "if lag<0:\n",
    "    y_kf=y_kf[-lag:,:]\n",
    "    X_kf=X_kf[0:num_examples+lag,:]\n",
    "if lag>0:\n",
    "    y_kf=y_kf[0:num_examples-lag,:]\n",
    "    X_kf=X_kf[lag:num_examples,:]"
   ]
  },
  {
   "cell_type": "markdown",
   "metadata": {},
   "source": [
    "## Split into training/testing/validation sets"
   ]
  },
  {
   "cell_type": "markdown",
   "metadata": {},
   "source": [
    "### User Options"
   ]
  },
  {
   "cell_type": "code",
   "execution_count": 600,
   "metadata": {
    "collapsed": true
   },
   "outputs": [],
   "source": [
    "#Set what part of data should be part of the training/testing/validation sets\n",
    "training_range=[0, 0.6]\n",
    "testing_range=[0.6, 0.6]\n",
    "valid_range=[0.6,0.7]"
   ]
  },
  {
   "cell_type": "markdown",
   "metadata": {},
   "source": [
    "### Split Data: For all decoders except KF"
   ]
  },
  {
   "cell_type": "code",
   "execution_count": 601,
   "metadata": {
    "collapsed": false
   },
   "outputs": [],
   "source": [
    "num_examples=X.shape[0]\n",
    "\n",
    "#Note that each range has a buffer of\"bins_before\" bins at the beginning, and \"bins_after\" bins at the end\n",
    "#This makes it so that the different sets don't include overlapping neural data\n",
    "training_set=np.arange(np.int(np.round(training_range[0]*num_examples))+bins_before,np.int(np.round(training_range[1]*num_examples))-bins_after)\n",
    "testing_set=np.arange(np.int(np.round(testing_range[0]*num_examples))+bins_before,np.int(np.round(testing_range[1]*num_examples))-bins_after)\n",
    "valid_set=np.arange(np.int(np.round(valid_range[0]*num_examples))+bins_before,np.int(np.round(valid_range[1]*num_examples))-bins_after)\n",
    "\n",
    "#Get training data\n",
    "X_train=X[training_set,:,:]\n",
    "X_flat_train=X_flat[training_set,:]\n",
    "y_train=y[training_set,:]\n",
    "\n",
    "#Get testing data\n",
    "X_test=X[testing_set,:,:]\n",
    "X_flat_test=X_flat[testing_set,:]\n",
    "y_test=y[testing_set,:]\n",
    "\n",
    "#Get validation data\n",
    "X_valid=X[valid_set,:,:]\n",
    "X_flat_valid=X_flat[valid_set,:]\n",
    "y_valid=y[valid_set,:]"
   ]
  },
  {
   "cell_type": "markdown",
   "metadata": {},
   "source": [
    "### Split Data: For KF"
   ]
  },
  {
   "cell_type": "code",
   "execution_count": 602,
   "metadata": {
    "collapsed": false
   },
   "outputs": [],
   "source": [
    "#Number of examples after taking into account bins removed for lag alignment\n",
    "num_examples_kf=X_kf.shape[0]\n",
    "        \n",
    "#Note that each range has a buffer of 1 bin at the beginning and end\n",
    "#This makes it so that the different sets don't include overlapping data\n",
    "training_set=np.arange(np.int(np.round(training_range[0]*num_examples_kf))+1,np.int(np.round(training_range[1]*num_examples_kf))-1)\n",
    "testing_set=np.arange(np.int(np.round(testing_range[0]*num_examples_kf))+1,np.int(np.round(testing_range[1]*num_examples_kf))-1)\n",
    "valid_set=np.arange(np.int(np.round(valid_range[0]*num_examples_kf))+1,np.int(np.round(valid_range[1]*num_examples_kf))-1)\n",
    "\n",
    "#Get training data\n",
    "X_kf_train=X_kf[training_set,:]\n",
    "y_kf_train=y_kf[training_set,:]\n",
    "\n",
    "#Get testing data\n",
    "X_kf_test=X_kf[testing_set,:]\n",
    "y_kf_test=y_kf[testing_set,:]\n",
    "\n",
    "#Get validation data\n",
    "X_kf_valid=X_kf[valid_set,:]\n",
    "y_kf_valid=y_kf[valid_set,:]"
   ]
  },
  {
   "cell_type": "markdown",
   "metadata": {},
   "source": [
    "## Run Decoders"
   ]
  },
  {
   "cell_type": "markdown",
   "metadata": {},
   "source": [
    "### Wiener Filter (Linear Regression)"
   ]
  },
  {
   "cell_type": "code",
   "execution_count": 451,
   "metadata": {
    "collapsed": false,
    "scrolled": true
   },
   "outputs": [
    {
     "name": "stdout",
     "output_type": "stream",
     "text": [
      "('VAFS:', [0.33904088250820319, 0.34173142207881602])\n"
     ]
    }
   ],
   "source": [
    "#Fit model\n",
    "model_regr=Decoder_funcs.lin_reg_model(X_flat_train,y_train)\n",
    "#Get predictions\n",
    "y_valid_pred_lin=model_regr.predict(X_flat_valid)\n",
    "#Get metric of fit\n",
    "vafs_lin=get_vaf(y_valid,y_valid_pred_lin)\n",
    "print('VAFS:', vafs_lin)"
   ]
  },
  {
   "cell_type": "markdown",
   "metadata": {},
   "source": [
    "### Wiener Cascade (Linear Nonlinear Model)"
   ]
  },
  {
   "cell_type": "code",
   "execution_count": 452,
   "metadata": {
    "collapsed": false
   },
   "outputs": [
    {
     "name": "stdout",
     "output_type": "stream",
     "text": [
      "('VAFS:', [0.34104933842790874, 0.37617052818545949])\n"
     ]
    }
   ],
   "source": [
    "#Fit model\n",
    "models_wc=Decoder_funcs.wiener_casc_model(X_flat_train,y_train,deg=3)\n",
    "#Get predictions\n",
    "y_valid_pred_wc=Decoder_funcs.wiener_casc_predict(models_wc,X_flat_valid)\n",
    "#Get metric of fit\n",
    "vafs_wc=get_vaf(y_valid,y_valid_pred_wc)\n",
    "print('VAFS:', vafs_wc)"
   ]
  },
  {
   "cell_type": "markdown",
   "metadata": {},
   "source": [
    "### XGBoost (Extreme Gradient Boosting)"
   ]
  },
  {
   "cell_type": "code",
   "execution_count": 609,
   "metadata": {
    "collapsed": false
   },
   "outputs": [
    {
     "name": "stdout",
     "output_type": "stream",
     "text": [
      "('VAFS:', [0.42997646291942193, 0.56835274280851822])\n"
     ]
    }
   ],
   "source": [
    "#Fit model\n",
    "model_xgb=Decoder_funcs.xgb_model(X_flat_train,y_train,max_depth=5,num_round=200)\n",
    "#Get predictions\n",
    "y_valid_pred_xgb=Decoder_funcs.xgb_predict(model_xgb,X_flat_valid)\n",
    "#Get metric of fit\n",
    "vafs_xgb=get_vaf(y_valid,y_valid_pred_xgb)\n",
    "print('VAFS:', vafs_xgb)"
   ]
  },
  {
   "cell_type": "code",
   "execution_count": null,
   "metadata": {
    "collapsed": true
   },
   "outputs": [],
   "source": [
    "100/2/200 (num trees): 0.39266568940432889, 0.51810806070760884\n",
    "100/3/200: 0.41524206398930863, 0.54666499991477924\n",
    "100/4/200: 0.42997646291942193, 0.56835274280851822\n",
    "100/5/200:"
   ]
  },
  {
   "cell_type": "markdown",
   "metadata": {},
   "source": [
    "### Simple RNN"
   ]
  },
  {
   "cell_type": "code",
   "execution_count": 453,
   "metadata": {
    "collapsed": false
   },
   "outputs": [
    {
     "name": "stdout",
     "output_type": "stream",
     "text": [
      "('VAFS:', [0.32586083263374854, 0.64028022607260948])\n"
     ]
    }
   ],
   "source": [
    "#Fit model\n",
    "model_rnn=Decoder_funcs.SimpleRNN_model(X_train,y_train,units=400,dropout=0,num_epochs=10)\n",
    "#Get predictions\n",
    "y_valid_pred_rnn=model_rnn.predict(X_valid)\n",
    "#Get metric of fit\n",
    "vafs_rnn=get_vaf(y_valid,y_valid_pred_rnn)\n",
    "print('VAFS:', vafs_rnn)"
   ]
  },
  {
   "cell_type": "code",
   "execution_count": null,
   "metadata": {
    "collapsed": true
   },
   "outputs": [],
   "source": [
    "0: 0.26168603141623714, 0.61854281716834081\n",
    "100: 0.37987804206579556, 0.66468623776699176 ***\n",
    "100: 0.39526474322017857, 0.61718822179220623\n",
    "200: 0.34247166072249746, 0.64953051105159387\n",
    "200: 0.32586083263374854, 0.64028022607260948\n",
    "    \n",
    "100 (do=.25): 0.41051970272221128, 0.49155441644353559    \n",
    "200 (do=.25): 0.37328858313846436, 0.47738201781604672"
   ]
  },
  {
   "cell_type": "markdown",
   "metadata": {},
   "source": [
    "### GRU (Gated Recurrent Unit)"
   ]
  },
  {
   "cell_type": "code",
   "execution_count": 605,
   "metadata": {
    "collapsed": false
   },
   "outputs": [
    {
     "name": "stdout",
     "output_type": "stream",
     "text": [
      "('VAFS:', [0.51415263242316989, 0.65394297955580427])\n"
     ]
    }
   ],
   "source": [
    "#Fit model\n",
    "model_gru=Decoder_funcs.GRU_model(X_train,y_train,units=400,dropout=.25,num_epochs=10)\n",
    "#Get predictions\n",
    "y_valid_pred_gru=model_gru.predict(X_valid)\n",
    "#Get metric of fit\n",
    "vafs_gru=get_vaf(y_valid,y_valid_pred_gru)\n",
    "print('VAFS:', vafs_gru)"
   ]
  },
  {
   "cell_type": "code",
   "execution_count": null,
   "metadata": {
    "collapsed": true
   },
   "outputs": [],
   "source": [
    "100: 0.54546697656294374, 0.54841515198991608\n",
    "200: 0.36810617108987109, 0.65220844985986037\n",
    "\n",
    "100 (do=0.25): 0.51616956481563814, 0.69349543924728019   ***\n",
    "200 (do=0.25): 0.51739828778077679, 0.65663416510588712\n",
    "    \n",
    "100 (do=0.5): 0.51415263242316989, 0.65394297955580427"
   ]
  },
  {
   "cell_type": "markdown",
   "metadata": {},
   "source": [
    "### LSTM (Long Short Term Memory)"
   ]
  },
  {
   "cell_type": "code",
   "execution_count": 606,
   "metadata": {
    "collapsed": false
   },
   "outputs": [
    {
     "name": "stdout",
     "output_type": "stream",
     "text": [
      "('VAFS:', [0.50339672750134601, 0.5859139636607491])\n"
     ]
    }
   ],
   "source": [
    "#Fit model\n",
    "model_lstm=Decoder_funcs.LSTM_model(X_train,y_train,units=400,dropout=.25,num_epochs=10)\n",
    "#Get predictions\n",
    "y_valid_pred_lstm=model_lstm.predict(X_valid)\n",
    "#Get metric of fit\n",
    "vafs_lstm=get_vaf(y_valid,y_valid_pred_lstm)\n",
    "print('VAFS:', vafs_lstm)"
   ]
  },
  {
   "cell_type": "code",
   "execution_count": null,
   "metadata": {
    "collapsed": true
   },
   "outputs": [],
   "source": [
    "100: 0.49317336618709273, 0.61845889921688046\n",
    "200: 0.45256298993038568, 0.60661911226181298\n",
    "    \n",
    "100 (do=.25): 0.56385154546752791, 0.68324092485799803 ***\n",
    "200 (do=.25): 0.54235771983784709, 0.73835052753708785\n",
    "\n",
    "100 (do=.5): 0.50339672750134601, 0.5859139636607491"
   ]
  },
  {
   "cell_type": "markdown",
   "metadata": {},
   "source": [
    "### Kalman Filter"
   ]
  },
  {
   "cell_type": "code",
   "execution_count": 587,
   "metadata": {
    "collapsed": false
   },
   "outputs": [
    {
     "name": "stdout",
     "output_type": "stream",
     "text": [
      "('VAFS:', [0.16691535860787543, 0.37053198857547931, 0.029756292296734821, 0.034785666236592294, -0.031180091214654482, -0.015971939850210726])\n"
     ]
    }
   ],
   "source": [
    "#Fit model\n",
    "model_kf=Decoder_funcs.kf_model(X_kf_train,y_kf_train)\n",
    "#Get predictions\n",
    "y_valid_pred_kf=Decoder_funcs.kf_predict(model_kf,X_kf_valid,y_kf_valid)\n",
    "#Get metric of fit\n",
    "vafs_kf=get_vaf(y_kf_valid,y_valid_pred_kf)\n",
    "print('VAFS:',vafs_kf)"
   ]
  },
  {
   "cell_type": "code",
   "execution_count": null,
   "metadata": {
    "collapsed": true
   },
   "outputs": [],
   "source": [
    "-2: [0.097611884601205512, 0.36547889285840796]\n",
    "-1: [0.095393462491166647, 0.37389251739337515]\n",
    "0: [0.091630740440466041, 0.3791849117112982]\n",
    "1: [0.079065572143858343, 0.38292777207290718]\n",
    "2: [0.06880046608314061, 0.38690388751766169]\n",
    "3: [0.059033184155031226, 0.38787177865862721]\n",
    "    \n",
    "w/ vel    \n",
    "-2: [0.17190210511431603, 0.32729138922298451]\n",
    "-1: [0.12905505556735375, 0.29137645776851717]\n",
    "0: [0.090696123055508893, 0.34316480803581018]\n",
    "1: [0.13697548369859724, 0.3627382168470652]\n",
    "2: [0.12496161059863686, 0.33768351555839315]\n",
    "3: [0.088148536311941306, 0.35644925268529937]\n",
    "    \n",
    "200 min:\n",
    "    \n",
    "0: [0.11805069313519079, 0.4494411992557078]    \n",
    "1: [0.10539192689517296, 0.45495736846473522] \n",
    "    \n",
    "w/vel\n",
    "-1: [0.14484639881421724, 0.39879457547194275]\n",
    "0: [0.1326480035956743, 0.41261364711370641]\n",
    "1: [0.15190057053707606, 0.41873086969516216] \n",
    "    \n",
    "w/ acc:\n",
    "-1: [0.18754986072897728, 0.41968920248369224]\n",
    "0: [0.16798101300161439, 0.42365927445512142]\n",
    "1: [0.17006979887904272, 0.43258133045239522] \n",
    "2: [0.17739853733033761, 0.43560952774231243]"
   ]
  },
  {
   "cell_type": "markdown",
   "metadata": {},
   "source": [
    "## Make Plots"
   ]
  },
  {
   "cell_type": "code",
   "execution_count": 588,
   "metadata": {
    "collapsed": false
   },
   "outputs": [
    {
     "data": {
      "text/plain": [
       "[<matplotlib.lines.Line2D at 0x7fe96e2bbd50>]"
      ]
     },
     "execution_count": 588,
     "metadata": {},
     "output_type": "execute_result"
    },
    {
     "data": {
      "image/png": "[encoded data removed]",
      "text/plain": [
       "<matplotlib.figure.Figure at 0x7fe96e2bb650>"
      ]
     },
     "metadata": {},
     "output_type": "display_data"
    }
   ],
   "source": [
    "#As an example, I plot an example 1000 values of the x velocity (column index 0), both true and predicted with the Wiener filter\n",
    "#Note that I add back in the mean value, so that both true and predicted values are in the original coordinates\n",
    "fig_x_lin=plt.figure()\n",
    "plt.plot(y_valid[1000:2000,0]+y_mean[0],'b')\n",
    "plt.plot(y_valid_pred_lin[1000:2000,0]+y_mean[0],'r')\n",
    "#Save figure\n",
    "# fig_x_lin.savefig('x_velocity_decoding.eps')"
   ]
  },
  {
   "cell_type": "code",
   "execution_count": null,
   "metadata": {
    "collapsed": true
   },
   "outputs": [],
   "source": []
  }
 ],
 "metadata": {
  "anaconda-cloud": {},
  "kernelspec": {
   "display_name": "Python [Root]",
   "language": "python",
   "name": "Python [Root]"
  },
  "language_info": {
   "codemirror_mode": {
    "name": "ipython",
    "version": 2
   },
   "file_extension": ".py",
   "mimetype": "text/x-python",
   "name": "python",
   "nbconvert_exporter": "python",
   "pygments_lexer": "ipython2",
   "version": "2.7.12"
  }
 },
 "nbformat": 4,
 "nbformat_minor": 0
}
