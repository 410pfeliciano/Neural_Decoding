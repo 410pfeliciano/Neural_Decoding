{
 "cells": [
  {
   "cell_type": "markdown",
   "metadata": {},
   "source": [
    "## Import Packages"
   ]
  },
  {
   "cell_type": "code",
   "execution_count": 1,
   "metadata": {
    "collapsed": false
   },
   "outputs": [],
   "source": [
    "import numpy as np\n",
    "import matplotlib.pyplot as plt\n",
    "%matplotlib inline\n",
    "from scipy import io\n",
    "from scipy import stats\n",
    "import pickle\n",
    "\n",
    "#Import function to get the covariate matrix that includes spike history from previous bins\n",
    "from preprocessing_funcs import get_spikes_with_history\n",
    "\n",
    "#Import decoder functions\n",
    "from Decoder_funcs import lin_reg_model\n",
    "from Decoder_funcs import get_vaf"
   ]
  },
  {
   "cell_type": "markdown",
   "metadata": {},
   "source": [
    "## Import Data"
   ]
  },
  {
   "cell_type": "markdown",
   "metadata": {},
   "source": [
    "**Neural data should be a matrix of size \"number of time bins\" x \"number of neurons\", where each entry is the firing rate of a given neuron in a given time bin**\n",
    "\n",
    "**The output you are decoding should be a matrix of size \"number of time bins\" x \"number of features you are decoding\"**"
   ]
  },
  {
   "cell_type": "code",
   "execution_count": 21,
   "metadata": {
    "collapsed": false
   },
   "outputs": [],
   "source": [
    "# folder='/Users/jig289/Dropbox/MATLAB/Projects/In_Progress/BMI/Processed_Data/'\n",
    "\n",
    "with open('hc_test_data.pickle','rb') as f:\n",
    "    neural_data,vels_binned=pickle.load(f)"
   ]
  },
  {
   "cell_type": "markdown",
   "metadata": {},
   "source": [
    "## Define Covariates ##"
   ]
  },
  {
   "cell_type": "markdown",
   "metadata": {},
   "source": [
    "### User Options"
   ]
  },
  {
   "cell_type": "code",
   "execution_count": 31,
   "metadata": {
    "collapsed": true
   },
   "outputs": [],
   "source": [
    "bins_before=5 #How many bins of neural data prior to the output are used for decoding\n",
    "bins_after=5 #How many bins of neural data after (and including) the output are used for decoding\n",
    "bins_surrounding=bins_before+bins_after"
   ]
  },
  {
   "cell_type": "markdown",
   "metadata": {},
   "source": [
    "### Get Covariates"
   ]
  },
  {
   "cell_type": "code",
   "execution_count": 32,
   "metadata": {
    "collapsed": false
   },
   "outputs": [],
   "source": [
    "#Function to get the covariate matrix that includes spike history from previous bins\n",
    "X=get_spikes_with_history(neural_data,bins_before,bins_after)\n",
    "\n",
    "#Remove neurons with too few spikes\n",
    "X_sum=np.nansum(np.nansum(X,axis=0),axis=0)\n",
    "X_sum.shape\n",
    "# rmv_temp=np.where(X_sum/X.shape[1]<20)\n",
    "rmv_temp=np.where(X_sum/X.shape[1]<100)\n",
    "X=np.delete(X,rmv_temp,2)\n",
    "\n",
    "\n",
    "\n",
    "#Put in \"flat\" format for XGB and linear\n",
    "X_flat=X.reshape(X.shape[0],(X.shape[1]*X.shape[2]))\n",
    "\n",
    "#Set decoding output\n",
    "y=vels_binned"
   ]
  },
  {
   "cell_type": "markdown",
   "metadata": {},
   "source": [
    "### Process Covariates"
   ]
  },
  {
   "cell_type": "code",
   "execution_count": 33,
   "metadata": {
    "collapsed": false
   },
   "outputs": [],
   "source": [
    "# zscore = lambda x: (x - scipy.stats.nanmean(x)) / scipy.stats.nanstd(x)\n",
    "def zscore_nan(X,axis):\n",
    "    X_zscore=(X - stats.nanmean(X,axis=axis)) / stats.nanstd(X,axis=axis)\n",
    "    return X_zscore\n",
    "    "
   ]
  },
  {
   "cell_type": "code",
   "execution_count": 34,
   "metadata": {
    "collapsed": false
   },
   "outputs": [],
   "source": [
    "#Normalize\n",
    "\n",
    "# X=stats.zscore(X,axis=0)\n",
    "# X_flat=stats.zscore(X_flat,axis=0)\n",
    "\n",
    "X=zscore_nan(X,axis=0)\n",
    "X_flat=zscore_nan(X_flat,axis=0)\n",
    "\n",
    "# y=stats.zscore(y,axis=0)"
   ]
  },
  {
   "cell_type": "code",
   "execution_count": 35,
   "metadata": {
    "collapsed": false
   },
   "outputs": [],
   "source": [
    "#Remove time bins with no output (y value)\n",
    "rmv_time=np.where(np.isnan(y[:,0]) | np.isnan(y[:,1]))\n",
    "X=np.delete(X,rmv_time,0)\n",
    "X_flat=np.delete(X_flat,rmv_time,0)\n",
    "y=np.delete(y,rmv_time,0)"
   ]
  },
  {
   "cell_type": "markdown",
   "metadata": {},
   "source": [
    "## Split into training/testing/validation sets"
   ]
  },
  {
   "cell_type": "markdown",
   "metadata": {},
   "source": [
    "### User Options"
   ]
  },
  {
   "cell_type": "code",
   "execution_count": 36,
   "metadata": {
    "collapsed": true
   },
   "outputs": [],
   "source": [
    "#Set what part of data should be part of the training/testing/validation sets\n",
    "training_range=[0, 0.5]\n",
    "testing_range=[0.5, .7]\n",
    "valid_range=[0.7,1]"
   ]
  },
  {
   "cell_type": "markdown",
   "metadata": {},
   "source": [
    "### Split Data"
   ]
  },
  {
   "cell_type": "code",
   "execution_count": 37,
   "metadata": {
    "collapsed": false
   },
   "outputs": [],
   "source": [
    "num_examples=X.shape[0]\n",
    "\n",
    "#Note that each range has a buffer of\"bins_before\" bins at the beginning, and \"bins_after\" bins at the end\n",
    "#This makes it so that the different sets don't include overlapping neural data\n",
    "training_set=np.arange(np.int(np.round(training_range[0]*num_examples))+bins_before,np.int(np.round(training_range[1]*num_examples))-bins_after)\n",
    "testing_set=np.arange(np.int(np.round(testing_range[0]*num_examples))+bins_before,np.int(np.round(testing_range[1]*num_examples))-bins_after)\n",
    "valid_set=np.arange(np.int(np.round(valid_range[0]*num_examples))+bins_before,np.int(np.round(valid_range[1]*num_examples))-bins_after)\n",
    "\n",
    "#Divide covariates\n",
    "X_train=X[training_set,:,:] #Subtract X.shape[1] so we don't have overlap in the train/test sets\n",
    "X_flat_train=X_flat[training_set,:]\n",
    "y_train=y[training_set,:]\n",
    "\n",
    "X_test=X[testing_set,:,:] #Subtract X.shape[1] so we don't have overlap in the train/test sets\n",
    "X_flat_test=X_flat[testing_set,:]\n",
    "y_test=y[testing_set,:]\n",
    "\n",
    "X_valid=X[valid_set,:,:] #Subtract X.shape[1] so we don't have overlap in the train/test sets\n",
    "X_flat_valid=X_flat[valid_set,:]\n",
    "y_valid=y[valid_set,:]"
   ]
  },
  {
   "cell_type": "markdown",
   "metadata": {},
   "source": [
    "## Run Decoders"
   ]
  },
  {
   "cell_type": "markdown",
   "metadata": {},
   "source": [
    "### Wiener Filter (Linear Regression)"
   ]
  },
  {
   "cell_type": "code",
   "execution_count": 38,
   "metadata": {
    "collapsed": false
   },
   "outputs": [],
   "source": [
    "#Get predictions\n",
    "y_test_pred_lin=lin_reg_model(X_flat_train,y_train,X_flat_test)"
   ]
  },
  {
   "cell_type": "markdown",
   "metadata": {},
   "source": [
    "### XGBoost (Extreme Gradient Boosting)"
   ]
  },
  {
   "cell_type": "code",
   "execution_count": null,
   "metadata": {
    "collapsed": true
   },
   "outputs": [],
   "source": [
    "#Get predictions\n",
    "y_test_pred_xgb=xgb_model(X_flat_train,y_train,X_flat_test,max_depth=3,num_round=300)"
   ]
  },
  {
   "cell_type": "markdown",
   "metadata": {},
   "source": [
    "### Simple RNN"
   ]
  },
  {
   "cell_type": "code",
   "execution_count": null,
   "metadata": {
    "collapsed": true
   },
   "outputs": [],
   "source": [
    "#Get predictions\n",
    "y_test_pred_rnn=SimpleRNN_model(X_train,y_train,X_test,units=400,dropout=0,num_epochs=10)"
   ]
  },
  {
   "cell_type": "markdown",
   "metadata": {},
   "source": [
    "### GRU (Gated Recurrent Unit)"
   ]
  },
  {
   "cell_type": "code",
   "execution_count": null,
   "metadata": {
    "collapsed": true
   },
   "outputs": [],
   "source": [
    "#Get predictions\n",
    "y_test_pred_gru=GRU_model(X_train,y_train,X_test,units=400,dropout=0,num_epochs=10)"
   ]
  },
  {
   "cell_type": "markdown",
   "metadata": {},
   "source": [
    "### LSTM (Long Short Term Memory)"
   ]
  },
  {
   "cell_type": "code",
   "execution_count": null,
   "metadata": {
    "collapsed": true
   },
   "outputs": [],
   "source": [
    "#Get predictions\n",
    "y_test_pred_gru=LSTM_model(X_train,y_train,X_test,units=400,dropout=0,num_epochs=10)"
   ]
  },
  {
   "cell_type": "markdown",
   "metadata": {},
   "source": [
    "## Get Metrics"
   ]
  },
  {
   "cell_type": "code",
   "execution_count": 39,
   "metadata": {
    "collapsed": false
   },
   "outputs": [
    {
     "data": {
      "text/plain": [
       "[0.27092504169324583, 0.3055296443207548]"
      ]
     },
     "execution_count": 39,
     "metadata": {},
     "output_type": "execute_result"
    }
   ],
   "source": [
    "vafs_lin=get_vaf(y_test,y_test_pred_lin)\n",
    "vafs_lin"
   ]
  },
  {
   "cell_type": "code",
   "execution_count": null,
   "metadata": {
    "collapsed": true
   },
   "outputs": [],
   "source": [
    "vafs_xgb=get_vaf(y_test,y_test_pred_xgb)"
   ]
  },
  {
   "cell_type": "code",
   "execution_count": null,
   "metadata": {
    "collapsed": true
   },
   "outputs": [],
   "source": [
    "vafs_rnn=get_vaf(y_test,y_test_pred_rnn)"
   ]
  },
  {
   "cell_type": "code",
   "execution_count": null,
   "metadata": {
    "collapsed": true
   },
   "outputs": [],
   "source": [
    "vafs_gru=get_vaf(y_test,y_test_pred_gru)"
   ]
  },
  {
   "cell_type": "code",
   "execution_count": null,
   "metadata": {
    "collapsed": true
   },
   "outputs": [],
   "source": [
    "vafs_lstm=get_vaf(y_test,y_test_pred_lstm)"
   ]
  },
  {
   "cell_type": "markdown",
   "metadata": {},
   "source": [
    "## Make Plots"
   ]
  },
  {
   "cell_type": "code",
   "execution_count": null,
   "metadata": {
    "collapsed": false
   },
   "outputs": [],
   "source": [
    "#As an example, I plot the first 1000 values of the x velocity (column index 0), both true and predicted with the Wiener filter\n",
    "fig_x_lin=plt.figure()\n",
    "plt.plot(y_test[0:1000,0],'b')\n",
    "plt.plot(y_test_pred_lin[0:1000,0],'r')\n",
    "#Save figure\n",
    "# fig_x_lin.savefig('x_velocity_decoding.eps')"
   ]
  },
  {
   "cell_type": "markdown",
   "metadata": {},
   "source": [
    "**XGBoost**"
   ]
  },
  {
   "cell_type": "code",
   "execution_count": null,
   "metadata": {
    "collapsed": true
   },
   "outputs": [],
   "source": [
    "def xgb_model(X_train=X_flat_train,y_train=y_train,X_test=X_flat_test,y_test=y_test,max_depth=3,num_round=300):\n",
    "\n",
    " \n",
    "    #Set parameters\n",
    "    param = {'objective': \"reg:linear\", #for linear output\n",
    "        'eval_metric': \"logloss\", #loglikelihood loss\n",
    "        'max_depth': max_depth, #this is the only parameter we have set, it's one of the way or regularizing\n",
    "        'seed': 2925, #for reproducibility\n",
    "        'silent': 1}\n",
    "    param['nthread'] = -1 #with -1 it will use all available threads\n",
    "\n",
    "    dtest = xgb.DMatrix(X_test)\n",
    "\n",
    "    r2=np.zeros(2)\n",
    "    for y_idx in range(2):\n",
    "\n",
    "        dtrain = xgb.DMatrix(X_train, label=y_train[:,y_idx])\n",
    "        bst = xgb.train(param, dtrain, num_round)\n",
    "        # make prediction\n",
    "        y_test_pred = bst.predict(dtest)\n",
    "        r2[y_idx]=test_r_x=(np.corrcoef(y_test[:,y_idx],y_test_pred)[0,1])**2\n",
    "        \n",
    "    return r2\n"
   ]
  },
  {
   "cell_type": "code",
   "execution_count": null,
   "metadata": {
    "collapsed": false
   },
   "outputs": [],
   "source": [
    "r2_xgb=xgb_model()\n",
    "print(np.mean(r2_xgb))\n",
    "r2_xgb"
   ]
  }
 ],
 "metadata": {
  "anaconda-cloud": {},
  "kernelspec": {
   "display_name": "Python 2",
   "language": "python",
   "name": "python2"
  },
  "language_info": {
   "codemirror_mode": {
    "name": "ipython",
    "version": 2
   },
   "file_extension": ".py",
   "mimetype": "text/x-python",
   "name": "python",
   "nbconvert_exporter": "python",
   "pygments_lexer": "ipython2",
   "version": "2.7.11"
  }
 },
 "nbformat": 4,
 "nbformat_minor": 0
}
