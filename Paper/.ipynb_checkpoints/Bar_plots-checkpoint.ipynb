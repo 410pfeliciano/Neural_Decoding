{
 "cells": [
  {
   "cell_type": "code",
   "execution_count": 1,
   "metadata": {
    "collapsed": true
   },
   "outputs": [],
   "source": [
    "import numpy as np\n",
    "import matplotlib.pyplot as plt\n",
    "%matplotlib inline\n",
    "import pickle"
   ]
  },
  {
   "cell_type": "markdown",
   "metadata": {},
   "source": [
    "# M1"
   ]
  },
  {
   "cell_type": "code",
   "execution_count": 2,
   "metadata": {
    "collapsed": false
   },
   "outputs": [],
   "source": [
    "save_folder='/home/jglaser2/Data/Decoding_Results/'\n",
    "with open(save_folder+'m1_results.pickle','rb') as f:\n",
    "    [mean_R2_wf,mean_R2_wc,mean_R2_xgb,mean_R2_dnn,mean_R2_rnn,mean_R2_gru,mean_R2_lstm]=pickle.load(f)\n",
    "    \n",
    "with open(save_folder+'m1_results_kf.pickle','rb') as f:\n",
    "    [mean_R2_kf]=pickle.load(f)"
   ]
  },
  {
   "cell_type": "code",
   "execution_count": 3,
   "metadata": {
    "collapsed": false
   },
   "outputs": [
    {
     "data": {
      "image/png": "[encoded data removed]",
      "text/plain": [
       "<matplotlib.figure.Figure at 0x7f110c803110>"
      ]
     },
     "metadata": {},
     "output_type": "display_data"
    }
   ],
   "source": [
    "means=([np.mean(mean_R2_kf),np.mean(mean_R2_wf),np.mean(mean_R2_wc),np.mean(mean_R2_xgb),np.mean(mean_R2_dnn),np.mean(mean_R2_rnn),np.mean(mean_R2_gru),np.mean(mean_R2_lstm)])\n",
    "lbs=[np.percentile(mean_R2_kf,16),np.percentile(mean_R2_wf,16),np.percentile(mean_R2_wc,16),np.percentile(mean_R2_xgb,16),np.percentile(mean_R2_dnn,16),np.percentile(mean_R2_rnn,16),np.percentile(mean_R2_gru,16),np.percentile(mean_R2_lstm,16)]\n",
    "ubs=[np.percentile(mean_R2_kf,84),np.percentile(mean_R2_wf,84),np.percentile(mean_R2_wc,84),np.percentile(mean_R2_xgb,84),np.percentile(mean_R2_dnn,84),np.percentile(mean_R2_rnn,84),np.percentile(mean_R2_gru,84),np.percentile(mean_R2_lstm,84)]\n",
    "\n",
    "err=[np.array(means)-np.array(lbs),np.array(ubs)-np.array(means)]\n",
    "\n",
    "fig, ax = plt.subplots()\n",
    "ind = np.arange(len(lbs))\n",
    "width=.95\n",
    "plt.bar(ind, means, width, yerr=err, color=['blue','cyan','green','yellow','green','cyan', 'blue', 'purple'],alpha=0.7,error_kw=dict(ecolor='black', lw=2, capsize=5, capthick=2))\n",
    "\n",
    "color=['magenta','red','orange','yellow','green','cyan', 'blue', 'purple']\n",
    "\n",
    "labels = [item.get_text() for item in ax.get_xticklabels()]\n",
    "empty_string_labels = ['']*len(labels)\n",
    "ax.set_xticklabels(empty_string_labels)\n",
    "\n",
    "# color=['red', 'green', 'blue', 'cyan', 'magenta'],\n",
    "#        error_kw=dict(ecolor='gray', lw=2, capsize=5, capthick=2)\n",
    "plt.ylim([.6, 1])\n",
    "plt.show()"
   ]
  },
  {
   "cell_type": "markdown",
   "metadata": {},
   "source": [
    "# S1"
   ]
  },
  {
   "cell_type": "code",
   "execution_count": 25,
   "metadata": {
    "collapsed": false
   },
   "outputs": [],
   "source": [
    "save_folder='/home/jglaser2/Data/Decoding_Results/'\n",
    "with open(save_folder+'s1_results.pickle','rb') as f:\n",
    "    [mean_R2_wf,mean_R2_wc,mean_R2_xgb,mean_R2_dnn,mean_R2_rnn,mean_R2_gru,mean_R2_lstm]=pickle.load(f)\n",
    "    \n",
    "with open(save_folder+'s1_results_kf.pickle','rb') as f:\n",
    "    [mean_R2_kf]=pickle.load(f)"
   ]
  },
  {
   "cell_type": "code",
   "execution_count": 29,
   "metadata": {
    "collapsed": false
   },
   "outputs": [
    {
     "data": {
      "image/png": "[encoded data removed]",
      "text/plain": [
       "<matplotlib.figure.Figure at 0x7f46e74f3c90>"
      ]
     },
     "metadata": {},
     "output_type": "display_data"
    }
   ],
   "source": [
    "means=([np.mean(mean_R2_kf),np.mean(mean_R2_wf),np.mean(mean_R2_wc),np.mean(mean_R2_xgb),np.mean(mean_R2_dnn),np.mean(mean_R2_rnn),np.mean(mean_R2_gru),np.mean(mean_R2_lstm)])\n",
    "lbs=[np.percentile(mean_R2_kf,16),np.percentile(mean_R2_wf,16),np.percentile(mean_R2_wc,16),np.percentile(mean_R2_xgb,16),np.percentile(mean_R2_dnn,16),np.percentile(mean_R2_rnn,16),np.percentile(mean_R2_gru,16),np.percentile(mean_R2_lstm,16)]\n",
    "ubs=[np.percentile(mean_R2_kf,84),np.percentile(mean_R2_wf,84),np.percentile(mean_R2_wc,84),np.percentile(mean_R2_xgb,84),np.percentile(mean_R2_dnn,84),np.percentile(mean_R2_rnn,84),np.percentile(mean_R2_gru,84),np.percentile(mean_R2_lstm,84)]\n",
    "\n",
    "err=[np.array(means)-np.array(lbs),np.array(ubs)-np.array(means)]\n",
    "\n",
    "fig, ax = plt.subplots()\n",
    "ind = np.arange(len(lbs))\n",
    "width=.95\n",
    "plt.bar(ind, means, width, yerr=err, color=['magenta','red','orange','yellow','green','cyan', 'blue', 'purple'],alpha=0.7,error_kw=dict(ecolor='black', lw=2, capsize=5, capthick=2))\n",
    "\n",
    "labels = [item.get_text() for item in ax.get_xticklabels()]\n",
    "empty_string_labels = ['']*len(labels)\n",
    "ax.set_xticklabels(empty_string_labels)\n",
    "\n",
    "# color=['red', 'green', 'blue', 'cyan', 'magenta'],\n",
    "#        error_kw=dict(ecolor='gray', lw=2, capsize=5, capthick=2)\n",
    "plt.ylim([0.6, 1])\n",
    "plt.show()"
   ]
  },
  {
   "cell_type": "markdown",
   "metadata": {},
   "source": [
    "# HC"
   ]
  },
  {
   "cell_type": "code",
   "execution_count": 35,
   "metadata": {
    "collapsed": false
   },
   "outputs": [],
   "source": [
    "save_folder='/home/jglaser2/Data/Decoding_Results/'\n",
    "with open(save_folder+'hc_results_100spks.pickle','rb') as f:\n",
    "    [temp1,temp2,mean_R2_xgb,mean_R2_dnn,mean_R2_rnn,mean_R2_gru,mean_R2_lstm]=pickle.load(f)\n",
    "\n",
    "with open(save_folder+'hc_results_200spks.pickle','rb') as f:\n",
    "    [mean_R2_wf,mean_R2_wc,temp3,temp4,temp5,temp6,temp7]=pickle.load(f)\n",
    "    \n",
    "with open(save_folder+'hc_results_kf.pickle','rb') as f:\n",
    "    [mean_R2_kf]=pickle.load(f)"
   ]
  },
  {
   "cell_type": "code",
   "execution_count": 36,
   "metadata": {
    "collapsed": false
   },
   "outputs": [
    {
     "data": {
      "image/png": "[encoded data removed]",
      "text/plain": [
       "<matplotlib.figure.Figure at 0x7f46e75ddb90>"
      ]
     },
     "metadata": {},
     "output_type": "display_data"
    }
   ],
   "source": [
    "means=([np.mean(mean_R2_kf),np.mean(mean_R2_wf),np.mean(mean_R2_wc),np.mean(mean_R2_xgb),np.mean(mean_R2_dnn),np.mean(mean_R2_rnn),np.mean(mean_R2_gru),np.mean(mean_R2_lstm)])\n",
    "lbs=[np.percentile(mean_R2_kf,16),np.percentile(mean_R2_wf,16),np.percentile(mean_R2_wc,16),np.percentile(mean_R2_xgb,16),np.percentile(mean_R2_dnn,16),np.percentile(mean_R2_rnn,16),np.percentile(mean_R2_gru,16),np.percentile(mean_R2_lstm,16)]\n",
    "ubs=[np.percentile(mean_R2_kf,84),np.percentile(mean_R2_wf,84),np.percentile(mean_R2_wc,84),np.percentile(mean_R2_xgb,84),np.percentile(mean_R2_dnn,84),np.percentile(mean_R2_rnn,84),np.percentile(mean_R2_gru,84),np.percentile(mean_R2_lstm,84)]\n",
    "\n",
    "err=[np.array(means)-np.array(lbs),np.array(ubs)-np.array(means)]\n",
    "\n",
    "fig, ax = plt.subplots()\n",
    "ind = np.arange(len(lbs))\n",
    "width=.95\n",
    "plt.bar(ind, means, width, yerr=err, color=['magenta','red','orange','yellow','green','cyan', 'blue', 'purple'],alpha=0.7,error_kw=dict(ecolor='black', lw=2, capsize=5, capthick=2))\n",
    "\n",
    "labels = [item.get_text() for item in ax.get_xticklabels()]\n",
    "empty_string_labels = ['']*len(labels)\n",
    "ax.set_xticklabels(empty_string_labels)\n",
    "\n",
    "# color=['red', 'green', 'blue', 'cyan', 'magenta'],\n",
    "#        error_kw=dict(ecolor='gray', lw=2, capsize=5, capthick=2)\n",
    "plt.ylim([0, .6])\n",
    "plt.show()"
   ]
  },
  {
   "cell_type": "code",
   "execution_count": null,
   "metadata": {
    "collapsed": true
   },
   "outputs": [],
   "source": []
  }
 ],
 "metadata": {
  "kernelspec": {
   "display_name": "Python [Root]",
   "language": "python",
   "name": "Python [Root]"
  },
  "language_info": {
   "codemirror_mode": {
    "name": "ipython",
    "version": 2
   },
   "file_extension": ".py",
   "mimetype": "text/x-python",
   "name": "python",
   "nbconvert_exporter": "python",
   "pygments_lexer": "ipython2",
   "version": "2.7.12"
  }
 },
 "nbformat": 4,
 "nbformat_minor": 0
}
