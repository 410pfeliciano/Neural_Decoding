{
 "cells": [
  {
   "cell_type": "markdown",
   "metadata": {},
   "source": [
    "## 1. Import Packages\n",
    "\n",
    "Below, we import both standard packages, and functions from the accompanying .py files"
   ]
  },
  {
   "cell_type": "code",
   "execution_count": 78,
   "metadata": {
    "collapsed": false
   },
   "outputs": [],
   "source": [
    "#Import standard packages\n",
    "import numpy as np\n",
    "import matplotlib.pyplot as plt\n",
    "%matplotlib inline\n",
    "from scipy import io\n",
    "from scipy import stats\n",
    "import pickle\n",
    "\n",
    "#Import function to get the covariate matrix that includes spike history from previous bins\n",
    "from preprocessing_funcs import get_spikes_with_history\n",
    "\n",
    "#Import metrics\n",
    "from metrics import get_R2\n",
    "from metrics import get_rho\n",
    "\n",
    "#Import decoder functions\n",
    "from decoders import WienerCascadeDecoder\n",
    "from decoders import WienerFilterDecoder\n",
    "from decoders import DenseNNDecoder\n",
    "from decoders import SimpleRNNDecoder\n",
    "from decoders import GRUDecoder\n",
    "from decoders import LSTMDecoder\n",
    "from decoders import XGBoostDecoder"
   ]
  },
  {
   "cell_type": "markdown",
   "metadata": {},
   "source": [
    "## 2. Load Data\n",
    "\n",
    "The data that we load is in the format described below. We have another example script, \"neural_preprocessing.py\" that may be helpful towards putting the data in this format.\n",
    "\n",
    "Neural data should be a matrix of size \"number of time bins\" x \"number of neurons\", where each entry is the firing rate of a given neuron in a given time bin\n",
    "\n",
    "The output you are decoding should be a matrix of size \"number of time bins\" x \"number of features you are decoding\""
   ]
  },
  {
   "cell_type": "code",
   "execution_count": 79,
   "metadata": {
    "collapsed": false
   },
   "outputs": [],
   "source": [
    "# folder='/Users/jig289/Dropbox/MATLAB/Projects/In_Progress/BMI/Processed_Data/'\n",
    "# folder='/Users/jig289/Dropbox/Grad_School/Research/Projects/In_Progress/Decoding/DataFiles/'\n",
    "folder='/home/jglaser2/Data/DecData/'\n",
    "\n",
    "with open(folder+'hc_test_data.pickle','rb') as f:\n",
    "    neural_data,pos_binned=pickle.load(f)"
   ]
  },
  {
   "cell_type": "markdown",
   "metadata": {},
   "source": [
    "## 3. Preprocess Data"
   ]
  },
  {
   "cell_type": "markdown",
   "metadata": {},
   "source": [
    "### 3A. User Inputs\n",
    "The user can define what time period to use spikes from (with respect to the output)."
   ]
  },
  {
   "cell_type": "code",
   "execution_count": 80,
   "metadata": {
    "collapsed": true
   },
   "outputs": [],
   "source": [
    "bins_before=4 #How many bins of neural data prior to the output are used for decoding\n",
    "bins_current=1 #Whether to use concurrent time bin of neural data\n",
    "bins_after=5 #How many bins of neural data after (and including) the output are used for decoding"
   ]
  },
  {
   "cell_type": "markdown",
   "metadata": {},
   "source": [
    "### 3B. Format Covariates"
   ]
  },
  {
   "cell_type": "markdown",
   "metadata": {},
   "source": [
    "#### Format Input Covariates"
   ]
  },
  {
   "cell_type": "code",
   "execution_count": 81,
   "metadata": {
    "collapsed": true
   },
   "outputs": [],
   "source": [
    "#Remove neurons with too few spikes\n",
    "nd_sum=np.nansum(neural_data,axis=0)\n",
    "# rmv_nrn=np.where(nd_sum<200) #For WF and WC\n",
    "rmv_nrn=np.where(nd_sum<100)\n",
    "neural_data=np.delete(neural_data,rmv_nrn,1)\n",
    "\n",
    "# Format for recurrent neural networks (SimpleRNN, GRU, LSTM)\n",
    "# Function to get the covariate matrix that includes spike history from previous bins\n",
    "X=get_spikes_with_history(neural_data,bins_before,bins_after,bins_current)\n",
    "\n",
    "# Format for Wiener Filter, Wiener Cascade, XGBoost, and Dense Neural Network\n",
    "#Put in \"flat\" format, so each \"neuron / time\" is a single feature\n",
    "X_flat=X.reshape(X.shape[0],(X.shape[1]*X.shape[2]))"
   ]
  },
  {
   "cell_type": "markdown",
   "metadata": {},
   "source": [
    "#### Format Output Covariates"
   ]
  },
  {
   "cell_type": "code",
   "execution_count": 82,
   "metadata": {
    "collapsed": false
   },
   "outputs": [],
   "source": [
    "#Set decoding output\n",
    "y=pos_binned"
   ]
  },
  {
   "cell_type": "markdown",
   "metadata": {},
   "source": [
    "### 3C. Process Covariates\n",
    "We normalize (z_score) the inputs and zero-center the outputs."
   ]
  },
  {
   "cell_type": "code",
   "execution_count": 83,
   "metadata": {
    "collapsed": false
   },
   "outputs": [],
   "source": [
    "#Z-scoring function that works with Nans:\n",
    "def zscore_nan(X,axis):\n",
    "    X_zscore=(X - np.nanmean(X,axis=axis)) / np.nanstd(X,axis=axis)\n",
    "    return X_zscore"
   ]
  },
  {
   "cell_type": "code",
   "execution_count": 84,
   "metadata": {
    "collapsed": false
   },
   "outputs": [],
   "source": [
    "#Normalize inputs\n",
    "X=zscore_nan(X,axis=0)\n",
    "X_flat=zscore_nan(X_flat,axis=0)\n",
    "\n",
    "#Zero-center outputs\n",
    "y_mean=np.nanmean(y,axis=0)\n",
    "y=y-y_mean"
   ]
  },
  {
   "cell_type": "code",
   "execution_count": 85,
   "metadata": {
    "collapsed": true
   },
   "outputs": [],
   "source": [
    "#Remove time bins with no output (y value)\n",
    "rmv_time=np.where(np.isnan(y[:,0]) | np.isnan(y[:,1]))\n",
    "X=np.delete(X,rmv_time,0)\n",
    "X_flat=np.delete(X_flat,rmv_time,0)\n",
    "y=np.delete(y,rmv_time,0)"
   ]
  },
  {
   "cell_type": "markdown",
   "metadata": {},
   "source": [
    "### 3D. Split into training/testing sets"
   ]
  },
  {
   "cell_type": "markdown",
   "metadata": {},
   "source": [
    "#### User Options"
   ]
  },
  {
   "cell_type": "code",
   "execution_count": 86,
   "metadata": {
    "collapsed": true
   },
   "outputs": [],
   "source": [
    "#Set what part of data should be part of the training/testing/validation sets\n",
    "training_range=[0, 0.4]\n",
    "testing_range=[0.4, .8]"
   ]
  },
  {
   "cell_type": "markdown",
   "metadata": {},
   "source": [
    "#### Split Data"
   ]
  },
  {
   "cell_type": "code",
   "execution_count": 87,
   "metadata": {
    "collapsed": false
   },
   "outputs": [],
   "source": [
    "num_examples=X.shape[0]\n",
    "\n",
    "#Note that each range has a buffer of\"bins_before\" bins at the beginning, and \"bins_after\" bins at the end\n",
    "#This makes it so that the different sets don't include overlapping neural data\n",
    "training_set=np.arange(np.int(np.round(training_range[0]*num_examples))+bins_before,np.int(np.round(training_range[1]*num_examples))-bins_after)\n",
    "testing_set=np.arange(np.int(np.round(testing_range[0]*num_examples))+bins_before,np.int(np.round(testing_range[1]*num_examples))-bins_after)\n",
    "\n",
    "#Get training data\n",
    "X_train=X[training_set,:,:]\n",
    "X_flat_train=X_flat[training_set,:]\n",
    "y_train=y[training_set,:]\n",
    "\n",
    "#Get testing data\n",
    "X_test=X[testing_set,:,:]\n",
    "X_flat_test=X_flat[testing_set,:]\n",
    "y_test=y[testing_set,:]"
   ]
  },
  {
   "cell_type": "markdown",
   "metadata": {},
   "source": [
    "## 4. Train Decoders"
   ]
  },
  {
   "cell_type": "markdown",
   "metadata": {},
   "source": [
    "### 4A. Wiener Filter (Linear Regression)"
   ]
  },
  {
   "cell_type": "code",
   "execution_count": 88,
   "metadata": {
    "collapsed": false,
    "scrolled": true
   },
   "outputs": [],
   "source": [
    "#Declare model\n",
    "model_wf=WienerFilterDecoder()\n",
    "#Fit model\n",
    "model_wf.fit(X_flat_train,y_train)"
   ]
  },
  {
   "cell_type": "markdown",
   "metadata": {},
   "source": [
    "### 4B. Wiener Cascade (Linear Nonlinear Model)"
   ]
  },
  {
   "cell_type": "code",
   "execution_count": 89,
   "metadata": {
    "collapsed": false
   },
   "outputs": [],
   "source": [
    "#Declare model\n",
    "model_wc=WienerCascadeDecoder(degree=2)\n",
    "#Fit model\n",
    "model_wc.fit(X_flat_train,y_train)"
   ]
  },
  {
   "cell_type": "markdown",
   "metadata": {},
   "source": [
    "### 4C. XGBoost (Extreme Gradient Boosting)"
   ]
  },
  {
   "cell_type": "code",
   "execution_count": 103,
   "metadata": {
    "collapsed": false
   },
   "outputs": [],
   "source": [
    "#Declare model\n",
    "model_xgb=XGBoostDecoder(max_depth=3,num_round=200)\n",
    "#Fit model\n",
    "model_xgb.fit(X_flat_train, y_train)"
   ]
  },
  {
   "cell_type": "markdown",
   "metadata": {},
   "source": [
    "### 4D. Dense Neural Network"
   ]
  },
  {
   "cell_type": "code",
   "execution_count": 91,
   "metadata": {
    "collapsed": false
   },
   "outputs": [],
   "source": [
    "#Declare model\n",
    "model_dnn=DenseNNDecoder(units=[600,600],dropout=.25,num_epochs=30)\n",
    "#Fit model\n",
    "model_dnn.fit(X_flat_train,y_train)"
   ]
  },
  {
   "cell_type": "markdown",
   "metadata": {},
   "source": [
    "### 4E. Simple RNN"
   ]
  },
  {
   "cell_type": "code",
   "execution_count": 92,
   "metadata": {
    "collapsed": false
   },
   "outputs": [],
   "source": [
    "#Declare model\n",
    "model_rnn=SimpleRNNDecoder(units=400,dropout=0,num_epochs=15)\n",
    "#Fit model\n",
    "model_rnn.fit(X_train,y_train)"
   ]
  },
  {
   "cell_type": "markdown",
   "metadata": {},
   "source": [
    "### 4F. GRU (Gated Recurrent Unit)"
   ]
  },
  {
   "cell_type": "code",
   "execution_count": 93,
   "metadata": {
    "collapsed": false
   },
   "outputs": [],
   "source": [
    "#Declare model\n",
    "model_gru=GRUDecoder(units=400,dropout=.25,num_epochs=10)\n",
    "#Fit model\n",
    "model_gru.fit(X_train,y_train)"
   ]
  },
  {
   "cell_type": "markdown",
   "metadata": {},
   "source": [
    "### 4G. LSTM (Long Short Term Memory)"
   ]
  },
  {
   "cell_type": "code",
   "execution_count": 94,
   "metadata": {
    "collapsed": false
   },
   "outputs": [],
   "source": [
    "#Declare model\n",
    "model_lstm=LSTMDecoder(units=600,dropout=.25,num_epochs=20)\n",
    "#Fit model\n",
    "model_lstm.fit(X_train,y_train)"
   ]
  },
  {
   "cell_type": "markdown",
   "metadata": {},
   "source": [
    "## 5. Save Model Fits"
   ]
  },
  {
   "cell_type": "code",
   "execution_count": 48,
   "metadata": {
    "collapsed": false
   },
   "outputs": [],
   "source": [
    "# with open('s1_models.pickle','wb') as f:\n",
    "#     pickle.dump([model_wf,model_wc,model_xgb,model_dnn,model_rnn,model_gru,model_lstm],f)"
   ]
  },
  {
   "cell_type": "markdown",
   "metadata": {},
   "source": [
    "## 6. Get Fits on Test Data"
   ]
  },
  {
   "cell_type": "code",
   "execution_count": 104,
   "metadata": {
    "collapsed": false
   },
   "outputs": [],
   "source": [
    "num_splits=10\n",
    "num_bs=200\n",
    "num_test_examples=y_test.shape[0]\n",
    "num_examples_per_split=np.round(np.divide(num_test_examples,num_splits))\n",
    "\n",
    "#Initialize\n",
    "mean_R2_wf=np.empty(num_bs)\n",
    "mean_R2_wc=np.empty(num_bs)\n",
    "mean_R2_xgb=np.empty(num_bs)\n",
    "mean_R2_dnn=np.empty(num_bs)\n",
    "mean_R2_rnn=np.empty(num_bs)\n",
    "mean_R2_gru=np.empty(num_bs)\n",
    "mean_R2_lstm=np.empty(num_bs)\n",
    "\n",
    "y_preds_wf=np.empty([num_splits,num_examples_per_split,y_test.shape[1]])\n",
    "y_preds_wc=np.empty([num_splits,num_examples_per_split,y_test.shape[1]])\n",
    "y_preds_xgb=np.empty([num_splits,num_examples_per_split,y_test.shape[1]])\n",
    "y_preds_dnn=np.empty([num_splits,num_examples_per_split,y_test.shape[1]])\n",
    "y_preds_rnn=np.empty([num_splits,num_examples_per_split,y_test.shape[1]])\n",
    "y_preds_gru=np.empty([num_splits,num_examples_per_split,y_test.shape[1]])\n",
    "y_preds_lstm=np.empty([num_splits,num_examples_per_split,y_test.shape[1]])\n",
    "\n",
    "\n",
    "for i in range(num_splits):\n",
    "    idx=np.arange(num_examples_per_split*i,num_examples_per_split*(i+1))\n",
    "    X_test_temp=X_test[idx,:,:]\n",
    "    X_flat_test_temp=X_flat_test[idx,:]\n",
    "    \n",
    "    #Wiener Filter\n",
    "    y_preds_wf[i,:,:]=model_wf.predict(X_flat_test_temp)\n",
    "    \n",
    "    #Wiener Cascade\n",
    "    y_preds_wc[i,:,:]=model_wc.predict(X_flat_test_temp)\n",
    "    \n",
    "    #XGBoost\n",
    "    y_preds_xgb[i,:,:]=model_xgb.predict(X_flat_test_temp)\n",
    "    \n",
    "    #DNN\n",
    "    y_preds_dnn[i,:,:]=model_dnn.predict(X_flat_test_temp)\n",
    "    \n",
    "    #RNN\n",
    "    y_preds_rnn[i,:,:]=model_rnn.predict(X_test_temp)\n",
    "    \n",
    "    #GRU\n",
    "    y_preds_gru[i,:,:]=model_gru.predict(X_test_temp)\n",
    "    \n",
    "    #LSTM\n",
    "    y_preds_lstm[i,:,:]=model_lstm.predict(X_test_temp)\n",
    "\n",
    "    \n",
    "    \n",
    "    \n",
    "y_test_bs=np.empty([num_splits,num_examples_per_split,y_test.shape[1]])\n",
    "for i in range(num_splits):\n",
    "    idx=np.arange(num_examples_per_split*i,num_examples_per_split*(i+1))\n",
    "    y_test_bs[i,:,:]=y_test[idx,:]    \n",
    "    \n",
    "for i in range(num_bs): \n",
    "    \n",
    "    random_idxs=np.floor(num_splits*np.random.rand(10)).astype(int)\n",
    "    y_test_temp=np.reshape(y_test_bs[random_idxs,:,:],[y_test_bs.shape[0]*y_test_bs.shape[1],y_test_bs.shape[2]])    \n",
    "    y_predicted_wf=np.reshape(y_preds_wf[random_idxs,:,:],[y_test_bs.shape[0]*y_test_bs.shape[1],y_test_bs.shape[2]])    \n",
    "    y_predicted_wc=np.reshape(y_preds_wc[random_idxs,:,:],[y_test_bs.shape[0]*y_test_bs.shape[1],y_test_bs.shape[2]])    \n",
    "    y_predicted_xgb=np.reshape(y_preds_xgb[random_idxs,:,:],[y_test_bs.shape[0]*y_test_bs.shape[1],y_test_bs.shape[2]])    \n",
    "    y_predicted_dnn=np.reshape(y_preds_dnn[random_idxs,:,:],[y_test_bs.shape[0]*y_test_bs.shape[1],y_test_bs.shape[2]])        \n",
    "    y_predicted_rnn=np.reshape(y_preds_rnn[random_idxs,:,:],[y_test_bs.shape[0]*y_test_bs.shape[1],y_test_bs.shape[2]])    \n",
    "    y_predicted_gru=np.reshape(y_preds_gru[random_idxs,:,:],[y_test_bs.shape[0]*y_test_bs.shape[1],y_test_bs.shape[2]])    \n",
    "    y_predicted_lstm=np.reshape(y_preds_lstm[random_idxs,:,:],[y_test_bs.shape[0]*y_test_bs.shape[1],y_test_bs.shape[2]])    \n",
    "   \n",
    "    mean_R2_wf[i]=np.mean(get_R2(y_test_temp,y_predicted_wf))\n",
    "    mean_R2_wc[i]=np.mean(get_R2(y_test_temp,y_predicted_wc))\n",
    "    mean_R2_xgb[i]=np.mean(get_R2(y_test_temp,y_predicted_xgb))\n",
    "    mean_R2_dnn[i]=np.mean(get_R2(y_test_temp,y_predicted_dnn))\n",
    "    mean_R2_rnn[i]=np.mean(get_R2(y_test_temp,y_predicted_rnn))\n",
    "    mean_R2_gru[i]=np.mean(get_R2(y_test_temp,y_predicted_gru))\n",
    "    mean_R2_lstm[i]=np.mean(get_R2(y_test_temp,y_predicted_lstm))\n",
    "\n"
   ]
  },
  {
   "cell_type": "code",
   "execution_count": 105,
   "metadata": {
    "collapsed": false
   },
   "outputs": [
    {
     "name": "stdout",
     "output_type": "stream",
     "text": [
      "('mean:', 0.16225838420980274)\n",
      "('bounds:', array([ 0.10082429,  0.22475606]))\n"
     ]
    }
   ],
   "source": [
    "print(\"mean:\",np.mean(mean_R2_wf))\n",
    "print(\"bounds:\",np.percentile(mean_R2_wf,[16, 84]))"
   ]
  },
  {
   "cell_type": "code",
   "execution_count": 106,
   "metadata": {
    "collapsed": false
   },
   "outputs": [
    {
     "name": "stdout",
     "output_type": "stream",
     "text": [
      "('mean:', 0.21594219244207294)\n",
      "('bounds:', array([ 0.14688177,  0.28388099]))\n"
     ]
    }
   ],
   "source": [
    "print(\"mean:\",np.mean(mean_R2_wc))\n",
    "print(\"bounds:\",np.percentile(mean_R2_wc,[16, 84]))"
   ]
  },
  {
   "cell_type": "code",
   "execution_count": 107,
   "metadata": {
    "collapsed": false
   },
   "outputs": [
    {
     "name": "stdout",
     "output_type": "stream",
     "text": [
      "('mean:', 0.38213935461960979)\n",
      "('bounds:', array([ 0.31856149,  0.44230539]))\n"
     ]
    }
   ],
   "source": [
    "print(\"mean:\",np.mean(mean_R2_xgb))\n",
    "print(\"bounds:\",np.percentile(mean_R2_xgb,[16, 84]))"
   ]
  },
  {
   "cell_type": "code",
   "execution_count": 108,
   "metadata": {
    "collapsed": false
   },
   "outputs": [
    {
     "name": "stdout",
     "output_type": "stream",
     "text": [
      "('mean:', 0.38111304471144419)\n",
      "('bounds:', array([ 0.3164116 ,  0.48003099]))\n"
     ]
    }
   ],
   "source": [
    "print(\"mean:\",np.mean(mean_R2_dnn))\n",
    "print(\"bounds:\",np.percentile(mean_R2_dnn,[16, 84]))"
   ]
  },
  {
   "cell_type": "code",
   "execution_count": 109,
   "metadata": {
    "collapsed": false
   },
   "outputs": [
    {
     "name": "stdout",
     "output_type": "stream",
     "text": [
      "('mean:', 0.39341147980692187)\n",
      "('bounds:', array([ 0.3164116 ,  0.48003099]))\n"
     ]
    }
   ],
   "source": [
    "print(\"mean:\",np.mean(mean_R2_rnn))\n",
    "print(\"bounds:\",np.percentile(mean_R2_rnn,[16, 84]))"
   ]
  },
  {
   "cell_type": "code",
   "execution_count": 110,
   "metadata": {
    "collapsed": false
   },
   "outputs": [
    {
     "name": "stdout",
     "output_type": "stream",
     "text": [
      "('mean:', 0.48483739584957564)\n",
      "('bounds:', array([ 0.4199343 ,  0.55613795]))\n"
     ]
    }
   ],
   "source": [
    "print(\"mean:\",np.mean(mean_R2_gru))\n",
    "print(\"bounds:\",np.percentile(mean_R2_gru,[16, 84]))"
   ]
  },
  {
   "cell_type": "code",
   "execution_count": 111,
   "metadata": {
    "collapsed": false
   },
   "outputs": [
    {
     "name": "stdout",
     "output_type": "stream",
     "text": [
      "('mean:', 0.45634999425680617)\n",
      "('bounds:', array([ 0.37882265,  0.5290466 ]))\n"
     ]
    }
   ],
   "source": [
    "print(\"mean:\",np.mean(mean_R2_lstm))\n",
    "print(\"bounds:\",np.percentile(mean_R2_lstm,[16, 84]))"
   ]
  },
  {
   "cell_type": "code",
   "execution_count": 71,
   "metadata": {
    "collapsed": false
   },
   "outputs": [
    {
     "data": {
      "text/plain": [
       "[<matplotlib.lines.Line2D at 0x7fb70509a090>]"
      ]
     },
     "execution_count": 71,
     "metadata": {},
     "output_type": "execute_result"
    },
    {
     "data": {
      "image/png": "[encoded data removed]",
      "text/plain": [
       "<matplotlib.figure.Figure at 0x7fb6f0387110>"
      ]
     },
     "metadata": {},
     "output_type": "display_data"
    }
   ],
   "source": [
    "plt.plot(y[:,1])"
   ]
  },
  {
   "cell_type": "code",
   "execution_count": 85,
   "metadata": {
    "collapsed": false
   },
   "outputs": [
    {
     "data": {
      "text/plain": [
       "(13910, 10, 46)"
      ]
     },
     "execution_count": 85,
     "metadata": {},
     "output_type": "execute_result"
    }
   ],
   "source": [
    "X_test_temp.shape"
   ]
  },
  {
   "cell_type": "code",
   "execution_count": 65,
   "metadata": {
    "collapsed": false
   },
   "outputs": [
    {
     "data": {
      "text/plain": [
       "(10, 1391, 2)"
      ]
     },
     "execution_count": 65,
     "metadata": {},
     "output_type": "execute_result"
    }
   ],
   "source": [
    "y_test_bs.shape"
   ]
  },
  {
   "cell_type": "code",
   "execution_count": 144,
   "metadata": {
    "collapsed": false
   },
   "outputs": [
    {
     "name": "stdout",
     "output_type": "stream",
     "text": [
      "(0.13268526188940383, 0.014911456174714371)\n",
      "(-2222.4738895592859, 428.88764069975304)\n",
      "(0.46733770271594743, 0.01912950875194112)\n",
      "(0.52985305647275316, 0.022774560567318518)\n",
      "(0.47961766118767335, 0.01150047013618123)\n",
      "(0.60184600733658422, 0.022267109306579925)\n",
      "(0.50690382415669921, 0.024701662216459985)\n"
     ]
    }
   ],
   "source": [
    "print(np.mean(mean_R2_wf),np.std(mean_R2_wf)/np.sqrt(10))\n",
    "print(np.mean(mean_R2_wc),np.std(mean_R2_wc)/np.sqrt(10))\n",
    "print(np.mean(mean_R2_xgb),np.std(mean_R2_xgb)/np.sqrt(10))\n",
    "print(np.mean(mean_R2_dnn),np.std(mean_R2_dnn)/np.sqrt(10))\n",
    "print(np.mean(mean_R2_rnn),np.std(mean_R2_rnn)/np.sqrt(10))\n",
    "print(np.mean(mean_R2_gru),np.std(mean_R2_gru)/np.sqrt(10))\n",
    "print(np.mean(mean_R2_lstm),np.std(mean_R2_lstm)/np.sqrt(10))"
   ]
  },
  {
   "cell_type": "code",
   "execution_count": 145,
   "metadata": {
    "collapsed": false
   },
   "outputs": [
    {
     "data": {
      "text/plain": [
       "array([-3380.56885043,  -383.0745233 , -3181.54890997,  -163.14967846,\n",
       "       -3713.21392569,  -763.48685699, -1747.74096771, -1735.59315108,\n",
       "       -3678.15332189, -3478.20871007])"
      ]
     },
     "execution_count": 145,
     "metadata": {},
     "output_type": "execute_result"
    }
   ],
   "source": [
    "# idx=np.concatenate((np.arange(0,8),np.arange(10,10)))\n",
    "mean_R2_wc"
   ]
  },
  {
   "cell_type": "code",
   "execution_count": 139,
   "metadata": {
    "collapsed": false
   },
   "outputs": [
    {
     "data": {
      "text/plain": [
       "0.48838448251927224"
      ]
     },
     "execution_count": 139,
     "metadata": {},
     "output_type": "execute_result"
    }
   ],
   "source": [
    "np.mean(mean_R2_rnn)"
   ]
  },
  {
   "cell_type": "code",
   "execution_count": 112,
   "metadata": {
    "collapsed": false
   },
   "outputs": [],
   "source": [
    "save_folder='/home/jglaser2/Data/Decoding_Results/'\n",
    "with open(save_folder+'hc_results_100spks.pickle','wb') as f:\n",
    "    pickle.dump([mean_R2_wf,mean_R2_wc,mean_R2_xgb,mean_R2_dnn,mean_R2_rnn,mean_R2_gru,mean_R2_lstm],f)"
   ]
  },
  {
   "cell_type": "code",
   "execution_count": null,
   "metadata": {
    "collapsed": true
   },
   "outputs": [],
   "source": []
  }
 ],
 "metadata": {
  "anaconda-cloud": {},
  "kernelspec": {
   "display_name": "Python 2",
   "language": "python",
   "name": "python2"
  },
  "language_info": {
   "codemirror_mode": {
    "name": "ipython",
    "version": 2
   },
   "file_extension": ".py",
   "mimetype": "text/x-python",
   "name": "python",
   "nbconvert_exporter": "python",
   "pygments_lexer": "ipython2",
   "version": "2.7.11"
  }
 },
 "nbformat": 4,
 "nbformat_minor": 0
}
