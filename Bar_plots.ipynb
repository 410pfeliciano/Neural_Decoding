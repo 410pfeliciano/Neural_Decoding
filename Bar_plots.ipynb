{
 "cells": [
  {
   "cell_type": "code",
   "execution_count": 6,
   "metadata": {
    "collapsed": true
   },
   "outputs": [],
   "source": [
    "import numpy as np\n",
    "import matplotlib.pyplot as plt\n",
    "%matplotlib inline\n",
    "import pickle"
   ]
  },
  {
   "cell_type": "code",
   "execution_count": 7,
   "metadata": {
    "collapsed": false
   },
   "outputs": [],
   "source": [
    "save_folder='/home/jglaser2/Data/Decoding_Results/'\n",
    "with open(save_folder+'m1_results.pickle','rb') as f:\n",
    "    [mean_R2_wf,mean_R2_wc,mean_R2_xgb,mean_R2_dnn,mean_R2_rnn,mean_R2_gru,mean_R2_lstm]=pickle.load(f)"
   ]
  },
  {
   "cell_type": "code",
   "execution_count": 58,
   "metadata": {
    "collapsed": false
   },
   "outputs": [
    {
     "data": {
      "image/png": "[encoded data removed]",
      "text/plain": [
       "<matplotlib.figure.Figure at 0x7f5753b9e290>"
      ]
     },
     "metadata": {},
     "output_type": "display_data"
    }
   ],
   "source": [
    "means=([np.mean(mean_R2_wf),np.mean(mean_R2_wc),np.mean(mean_R2_xgb),np.mean(mean_R2_dnn),np.mean(mean_R2_rnn),np.mean(mean_R2_gru),np.mean(mean_R2_lstm)])\n",
    "lbs=[np.percentile(mean_R2_wf,16),np.percentile(mean_R2_wc,16),np.percentile(mean_R2_xgb,16),np.percentile(mean_R2_dnn,16),np.percentile(mean_R2_rnn,16),np.percentile(mean_R2_gru,16),np.percentile(mean_R2_lstm,16)]\n",
    "ubs=[np.percentile(mean_R2_wf,84),np.percentile(mean_R2_wc,84),np.percentile(mean_R2_xgb,84),np.percentile(mean_R2_dnn,84),np.percentile(mean_R2_rnn,84),np.percentile(mean_R2_gru,84),np.percentile(mean_R2_lstm,84)]\n",
    "\n",
    "err=[np.array(means)-np.array(lbs),np.array(ubs)-np.array(means)]\n",
    "\n",
    "fig = plt.figure()\n",
    "ind = np.arange(7)\n",
    "width=.95\n",
    "plt.bar(ind, means, width, yerr=err, color=['red','orange','yellow','green','cyan', 'blue', 'purple'],alpha=0.7,error_kw=dict(ecolor='black', lw=2, capsize=5, capthick=2))\n",
    "\n",
    "# color=['red', 'green', 'blue', 'cyan', 'magenta'],\n",
    "#        error_kw=dict(ecolor='gray', lw=2, capsize=5, capthick=2)\n",
    "plt.ylim([.6, 1])\n",
    "\n",
    "plt.show()"
   ]
  },
  {
   "cell_type": "code",
   "execution_count": 28,
   "metadata": {
    "collapsed": false
   },
   "outputs": [
    {
     "ename": "AttributeError",
     "evalue": "'tuple' object has no attribute 'shape'",
     "output_type": "error",
     "traceback": [
      "\u001b[1;31m---------------------------------------------------------------------------\u001b[0m",
      "\u001b[1;31mAttributeError\u001b[0m                            Traceback (most recent call last)",
      "\u001b[1;32m<ipython-input-28-417343b02bc1>\u001b[0m in \u001b[0;36m<module>\u001b[1;34m()\u001b[0m\n\u001b[1;32m----> 1\u001b[1;33m \u001b[0merr\u001b[0m\u001b[1;33m.\u001b[0m\u001b[0mshape\u001b[0m\u001b[1;33m\u001b[0m\u001b[0m\n\u001b[0m",
      "\u001b[1;31mAttributeError\u001b[0m: 'tuple' object has no attribute 'shape'"
     ]
    }
   ],
   "source": []
  },
  {
   "cell_type": "code",
   "execution_count": 4,
   "metadata": {
    "collapsed": false
   },
   "outputs": [
    {
     "data": {
      "image/png": "[encoded data removed]",
      "text/plain": [
       "<matplotlib.figure.Figure at 0x7f5756cec550>"
      ]
     },
     "metadata": {},
     "output_type": "display_data"
    }
   ],
   "source": [
    "N = 5\n",
    "men_means = (20, 35, 30, 35, 27)\n",
    "men_std = ([2, 3, 4, 1, 2],[1,1,1,1,1])\n",
    "\n",
    "ind = np.arange(N)  # the x locations for the groups\n",
    "width = 0.35       # the width of the bars\n",
    "\n",
    "fig, ax = plt.subplots()\n",
    "rects1 = ax.bar(ind, men_means, width, color='r', yerr=men_std)\n",
    "\n",
    "women_means = (25, 32, 34, 20, 25)\n",
    "women_std = (3, 5, 2, 3, 3)\n",
    "rects2 = ax.bar(ind + width, women_means, width, color='y', yerr=women_std)\n",
    "\n",
    "\n",
    "\n",
    "plt.show()"
   ]
  },
  {
   "cell_type": "code",
   "execution_count": null,
   "metadata": {
    "collapsed": true
   },
   "outputs": [],
   "source": []
  }
 ],
 "metadata": {
  "kernelspec": {
   "display_name": "Python [Root]",
   "language": "python",
   "name": "Python [Root]"
  },
  "language_info": {
   "codemirror_mode": {
    "name": "ipython",
    "version": 2
   },
   "file_extension": ".py",
   "mimetype": "text/x-python",
   "name": "python",
   "nbconvert_exporter": "python",
   "pygments_lexer": "ipython2",
   "version": "2.7.12"
  }
 },
 "nbformat": 4,
 "nbformat_minor": 0
}
