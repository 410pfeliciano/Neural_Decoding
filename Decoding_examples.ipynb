{
 "cells": [
  {
   "cell_type": "markdown",
   "metadata": {},
   "source": [
    "## Import Packages"
   ]
  },
  {
   "cell_type": "code",
   "execution_count": 2,
   "metadata": {
    "collapsed": false
   },
   "outputs": [
    {
     "name": "stderr",
     "output_type": "stream",
     "text": [
      "/opt/anaconda/anaconda2/lib/python2.7/site-packages/sklearn/cross_validation.py:44: DeprecationWarning: This module was deprecated in version 0.18 in favor of the model_selection module into which all the refactored classes and functions are moved. Also note that the interface of the new CV iterators are different from that of this module. This module will be removed in 0.20.\n",
      "  \"This module will be removed in 0.20.\", DeprecationWarning)\n",
      "Using Theano backend.\n",
      "Using gpu device 3: GeForce GTX TITAN X (CNMeM is disabled, cuDNN 5103)\n",
      "/opt/anaconda/anaconda2/lib/python2.7/site-packages/theano/sandbox/cuda/__init__.py:600: UserWarning: Your cuDNN version is more recent than the one Theano officially supports. If you see any problems, try updating Theano or downgrading cuDNN to version 5.\n",
      "  warnings.warn(warn)\n"
     ]
    }
   ],
   "source": [
    "import numpy as np\n",
    "import matplotlib.pyplot as plt\n",
    "%matplotlib inline\n",
    "from scipy import io\n",
    "from scipy import stats\n",
    "import pickle\n",
    "from numpy.linalg import inv as inv\n",
    "\n",
    "#Import function to get the covariate matrix that includes spike history from previous bins\n",
    "from preprocessing_funcs import get_spikes_with_history\n",
    "\n",
    "#Import decoder functions\n",
    "import Decoder_funcs\n",
    "from Decoder_funcs import get_vaf"
   ]
  },
  {
   "cell_type": "markdown",
   "metadata": {},
   "source": [
    "## Import Data"
   ]
  },
  {
   "cell_type": "markdown",
   "metadata": {},
   "source": [
    "**Neural data should be a matrix of size \"number of time bins\" x \"number of neurons\", where each entry is the firing rate of a given neuron in a given time bin**\n",
    "\n",
    "**The output you are decoding should be a matrix of size \"number of time bins\" x \"number of features you are decoding\"**"
   ]
  },
  {
   "cell_type": "code",
   "execution_count": 3,
   "metadata": {
    "collapsed": false
   },
   "outputs": [],
   "source": [
    "# folder='/Users/jig289/Dropbox/MATLAB/Projects/In_Progress/BMI/Processed_Data/'\n",
    "folder='/home/jglaser2/Data/DecData/'\n",
    "\n",
    "with open(folder+'test_data.pickle','rb') as f:\n",
    "    neural_data,vels_binned=pickle.load(f)"
   ]
  },
  {
   "cell_type": "markdown",
   "metadata": {},
   "source": [
    "## Define Covariates ##"
   ]
  },
  {
   "cell_type": "markdown",
   "metadata": {},
   "source": [
    "### User Options: Define what time period to use spikes from"
   ]
  },
  {
   "cell_type": "code",
   "execution_count": 4,
   "metadata": {
    "collapsed": true
   },
   "outputs": [],
   "source": [
    "#This is relevant for all decoders except the Kalman filter (KF)\n",
    "\n",
    "bins_current=1 #Whether to use concurrent time bin of neural data\n",
    "bins_before=13 #How many bins of neural data prior to the output are used for decoding\n",
    "bins_after=0 #How many bins of neural data after (and including) the output are used for decoding\n",
    "bins_surrounding=bins_before+bins_before+bins_after\n",
    "\n",
    "\n",
    "# Below is only relevant for the KF\n",
    "\n",
    "lag=-2 #What time bin of spikes should be used relative to the output\n",
    "#(lag=-1 means use the spikes 1 bin before the output)"
   ]
  },
  {
   "cell_type": "markdown",
   "metadata": {},
   "source": [
    "### Get Input Covariates"
   ]
  },
  {
   "cell_type": "code",
   "execution_count": 42,
   "metadata": {
    "collapsed": false
   },
   "outputs": [],
   "source": [
    "#Function to get the covariate matrix that includes spike history from previous bins\n",
    "#This puts the spikes in the format for the RNN\n",
    "X=get_spikes_with_history(neural_data,bins_before,bins_after,bins_current)\n",
    "\n",
    "#Put in \"flat\" format for XGB and linear decoders\n",
    "X_flat=X.reshape(X.shape[0],(X.shape[1]*X.shape[2]))\n",
    "\n",
    "#Format for Kalman filter\n",
    "X_kf=neural_data"
   ]
  },
  {
   "cell_type": "markdown",
   "metadata": {},
   "source": [
    "### Get Output Covariates"
   ]
  },
  {
   "cell_type": "code",
   "execution_count": 43,
   "metadata": {
    "collapsed": true
   },
   "outputs": [],
   "source": [
    "#Set decoding output for all decoders except the KF\n",
    "y=vels_binned\n",
    "\n",
    "\n",
    "#Set decoding output for the KF\n",
    "pos=np.zeros(vels_binned.shape)\n",
    "pos[0,:]=0\n",
    "for i in range(pos.shape[0]-1):\n",
    "    pos[i+1,0]=pos[i,0]+vels_binned[i,0]*.05\n",
    "    pos[i+1,1]=pos[i,1]+vels_binned[i,1]*.05\n",
    "    \n",
    "temp=np.diff(vels_binned,axis=0)\n",
    "acc=np.concatenate((temp,temp[-1:,:]),axis=0)\n",
    "\n",
    "y_kf=np.concatenate((pos,vels_binned,acc),axis=1)"
   ]
  },
  {
   "cell_type": "markdown",
   "metadata": {},
   "source": [
    "### Process Covariates"
   ]
  },
  {
   "cell_type": "code",
   "execution_count": 44,
   "metadata": {
    "collapsed": false
   },
   "outputs": [],
   "source": [
    "def zscore_nan(X,axis):\n",
    "    X_zscore=(X - np.nanmean(X,axis=axis)) / np.nanstd(X,axis=axis)\n",
    "    return X_zscore"
   ]
  },
  {
   "cell_type": "code",
   "execution_count": 45,
   "metadata": {
    "collapsed": false
   },
   "outputs": [],
   "source": [
    "#Normalize inputs\n",
    "X=zscore_nan(X,axis=0)\n",
    "X_flat=zscore_nan(X_flat,axis=0)\n",
    "\n",
    "#Zero-center outputs\n",
    "y_mean=np.mean(y,axis=0)\n",
    "y=y-y_mean\n",
    "\n",
    "y_kf_mean=np.mean(y_kf,axis=0)\n",
    "y_kf=y_kf-y_kf_mean"
   ]
  },
  {
   "cell_type": "code",
   "execution_count": null,
   "metadata": {
    "collapsed": true
   },
   "outputs": [],
   "source": [
    "#More Kalman filter preprocessing\n",
    "\n",
    "#Re-align data to take lag into account\n",
    "if lag<0:\n",
    "    y_kf=y_kf[-lag:,:]\n",
    "    X_kf=X_kf[0:num_examples+lag,:]\n",
    "if lag>0:\n",
    "    y_kf=y_kf[0:num_examples-lag,:]\n",
    "    X_kf=X_kf[lag:num_examples,:]"
   ]
  },
  {
   "cell_type": "markdown",
   "metadata": {},
   "source": [
    "## Split into training/testing/validation sets"
   ]
  },
  {
   "cell_type": "markdown",
   "metadata": {},
   "source": [
    "### User Options"
   ]
  },
  {
   "cell_type": "code",
   "execution_count": 46,
   "metadata": {
    "collapsed": true
   },
   "outputs": [],
   "source": [
    "#Set what part of data should be part of the training/testing/validation sets\n",
    "training_range=[0, 0.7]\n",
    "testing_range=[0.7, 0.85]\n",
    "valid_range=[0.85,1]"
   ]
  },
  {
   "cell_type": "markdown",
   "metadata": {},
   "source": [
    "### Split Data: For all decoders except KF"
   ]
  },
  {
   "cell_type": "code",
   "execution_count": 10,
   "metadata": {
    "collapsed": false
   },
   "outputs": [],
   "source": [
    "num_examples=X.shape[0]\n",
    "\n",
    "#Note that each range has a buffer of\"bins_before\" bins at the beginning, and \"bins_after\" bins at the end\n",
    "#This makes it so that the different sets don't include overlapping neural data\n",
    "training_set=np.arange(np.int(np.round(training_range[0]*num_examples))+bins_before,np.int(np.round(training_range[1]*num_examples))-bins_after)\n",
    "testing_set=np.arange(np.int(np.round(testing_range[0]*num_examples))+bins_before,np.int(np.round(testing_range[1]*num_examples))-bins_after)\n",
    "valid_set=np.arange(np.int(np.round(valid_range[0]*num_examples))+bins_before,np.int(np.round(valid_range[1]*num_examples))-bins_after)\n",
    "\n",
    "#Get training data\n",
    "X_train=X[training_set,:,:]\n",
    "X_flat_train=X_flat[training_set,:]\n",
    "y_train=y[training_set,:]\n",
    "\n",
    "#Get testing data\n",
    "X_test=X[testing_set,:,:]\n",
    "X_flat_test=X_flat[testing_set,:]\n",
    "y_test=y[testing_set,:]\n",
    "\n",
    "#Get validation data\n",
    "X_valid=X[valid_set,:,:]\n",
    "X_flat_valid=X_flat[valid_set,:]\n",
    "y_valid=y[valid_set,:]"
   ]
  },
  {
   "cell_type": "markdown",
   "metadata": {},
   "source": [
    "### Split Data: For KF"
   ]
  },
  {
   "cell_type": "code",
   "execution_count": 47,
   "metadata": {
    "collapsed": false
   },
   "outputs": [],
   "source": [
    "#Number of examples after taking into account bins removed for lag alignment\n",
    "num_examples_kf=X_kf.shape[0]\n",
    "        \n",
    "#Note that each range has a buffer of 1 bin at the beginning and end\n",
    "#This makes it so that the different sets don't include overlapping data\n",
    "training_set=np.arange(np.int(np.round(training_range[0]*num_examples_kf))+1,np.int(np.round(training_range[1]*num_examples_kf))-1)\n",
    "testing_set=np.arange(np.int(np.round(testing_range[0]*num_examples_kf))+1,np.int(np.round(testing_range[1]*num_examples_kf))-1)\n",
    "valid_set=np.arange(np.int(np.round(valid_range[0]*num_examples_kf))+1,np.int(np.round(valid_range[1]*num_examples_kf))-1)\n",
    "\n",
    "#Get training data\n",
    "X_kf_train=X_kf[training_set,:]\n",
    "y_kf_train=y_kf[training_set,:]\n",
    "\n",
    "#Get testing data\n",
    "X_kf_test=X_kf[testing_set,:]\n",
    "y_kf_test=y_kf[testing_set,:]\n",
    "\n",
    "#Get validation data\n",
    "X_kf_valid=X_kf[valid_set,:]\n",
    "y_kf_valid=y_kf[valid_set,:]"
   ]
  },
  {
   "cell_type": "markdown",
   "metadata": {},
   "source": [
    "## Run Decoders"
   ]
  },
  {
   "cell_type": "markdown",
   "metadata": {},
   "source": [
    "### Wiener Filter (Linear Regression)"
   ]
  },
  {
   "cell_type": "code",
   "execution_count": 11,
   "metadata": {
    "collapsed": false,
    "scrolled": true
   },
   "outputs": [
    {
     "name": "stdout",
     "output_type": "stream",
     "text": [
      "[0.75176754708627835, 0.75100935332779462]\n"
     ]
    }
   ],
   "source": [
    "#Fit model\n",
    "model_regr=Decoder_funcs.lin_reg_model(X_flat_train,y_train)\n",
    "#Get predictions\n",
    "y_valid_pred_lin=model_regr.predict(X_flat_valid)\n",
    "#Get metric of fit\n",
    "vafs_lin=get_vaf(y_valid,y_valid_pred_lin)\n",
    "print('VAFS:', vafs_lin)"
   ]
  },
  {
   "cell_type": "markdown",
   "metadata": {},
   "source": [
    "### Wiener Cascade (Linear Nonlinear Model)"
   ]
  },
  {
   "cell_type": "code",
   "execution_count": 62,
   "metadata": {
    "collapsed": false
   },
   "outputs": [
    {
     "ename": "AttributeError",
     "evalue": "'module' object has no attribute 'wiener_casc_model'",
     "output_type": "error",
     "traceback": [
      "\u001b[1;31m---------------------------------------------------------------------------\u001b[0m",
      "\u001b[1;31mAttributeError\u001b[0m                            Traceback (most recent call last)",
      "\u001b[1;32m<ipython-input-62-3e6c2561be5d>\u001b[0m in \u001b[0;36m<module>\u001b[1;34m()\u001b[0m\n\u001b[0;32m      1\u001b[0m \u001b[1;31m#Fit model\u001b[0m\u001b[1;33m\u001b[0m\u001b[1;33m\u001b[0m\u001b[0m\n\u001b[1;32m----> 2\u001b[1;33m \u001b[0mmodels_wc\u001b[0m\u001b[1;33m=\u001b[0m\u001b[0mDecoder_funcs\u001b[0m\u001b[1;33m.\u001b[0m\u001b[0mwiener_casc_model\u001b[0m\u001b[1;33m(\u001b[0m\u001b[0mX_flat_train\u001b[0m\u001b[1;33m,\u001b[0m\u001b[0my_train\u001b[0m\u001b[1;33m,\u001b[0m\u001b[0mdeg\u001b[0m\u001b[1;33m=\u001b[0m\u001b[1;36m3\u001b[0m\u001b[1;33m)\u001b[0m\u001b[1;33m\u001b[0m\u001b[0m\n\u001b[0m\u001b[0;32m      3\u001b[0m \u001b[1;31m#Get predictions\u001b[0m\u001b[1;33m\u001b[0m\u001b[1;33m\u001b[0m\u001b[0m\n\u001b[0;32m      4\u001b[0m \u001b[0my_valid_pred_wc\u001b[0m\u001b[1;33m=\u001b[0m\u001b[0mDecoder_funcs\u001b[0m\u001b[1;33m.\u001b[0m\u001b[0mwiener_casc_predict\u001b[0m\u001b[1;33m(\u001b[0m\u001b[0mmodels_wc\u001b[0m\u001b[1;33m,\u001b[0m\u001b[0mX_flat_valid\u001b[0m\u001b[1;33m)\u001b[0m\u001b[1;33m\u001b[0m\u001b[0m\n\u001b[0;32m      5\u001b[0m \u001b[1;31m#Get metric of fit\u001b[0m\u001b[1;33m\u001b[0m\u001b[1;33m\u001b[0m\u001b[0m\n",
      "\u001b[1;31mAttributeError\u001b[0m: 'module' object has no attribute 'wiener_casc_model'"
     ]
    }
   ],
   "source": [
    "#Fit model\n",
    "models_wc=Decoder_funcs.wiener_casc_model(X_flat_train,y_train,deg=3)\n",
    "#Get predictions\n",
    "y_valid_pred_wc=Decoder_funcs.wiener_casc_predict(models_wc,X_flat_valid)\n",
    "#Get metric of fit\n",
    "vafs_wc=get_vaf(y_valid,y_valid_pred_wc)\n",
    "print('VAFS:', vafs_wc)"
   ]
  },
  {
   "cell_type": "markdown",
   "metadata": {},
   "source": [
    "### XGBoost (Extreme Gradient Boosting)"
   ]
  },
  {
   "cell_type": "code",
   "execution_count": 12,
   "metadata": {
    "collapsed": false
   },
   "outputs": [
    {
     "name": "stdout",
     "output_type": "stream",
     "text": [
      "[0.78257987600003387, 0.77279201623015137]\n"
     ]
    }
   ],
   "source": [
    "#Fit model\n",
    "model_xgb=Decoder_funcs.xgb_model(X_flat_train,y_train,max_depth=3,num_round=200)\n",
    "#Get predictions\n",
    "y_valid_pred_xgb=Decoder_funcs.xgb_predict(model_xgb,X_flat_valid)\n",
    "#Get metric of fit\n",
    "vafs_xgb=get_vaf(y_valid,y_valid_pred_xgb)\n",
    "print('VAFS:', vafs_xgb)"
   ]
  },
  {
   "cell_type": "markdown",
   "metadata": {},
   "source": [
    "### Simple RNN"
   ]
  },
  {
   "cell_type": "code",
   "execution_count": 17,
   "metadata": {
    "collapsed": false
   },
   "outputs": [
    {
     "name": "stdout",
     "output_type": "stream",
     "text": [
      "[0.8179415562127349, 0.78331080265241537]\n"
     ]
    }
   ],
   "source": [
    "#Fit model\n",
    "model_rnn=Decoder_funcs.SimpleRNN_model(X_train,y_train,units=400,dropout=0,num_epochs=10)\n",
    "#Get predictions\n",
    "y_valid_pred_rnn=model_rnn.predict(X_valid)\n",
    "#Get metric of fit\n",
    "vafs_rnn=get_vaf(y_valid,y_valid_pred_rnn)\n",
    "print('VAFS:', vafs_rnn)"
   ]
  },
  {
   "cell_type": "markdown",
   "metadata": {},
   "source": [
    "### GRU (Gated Recurrent Unit)"
   ]
  },
  {
   "cell_type": "code",
   "execution_count": 14,
   "metadata": {
    "collapsed": false
   },
   "outputs": [
    {
     "name": "stdout",
     "output_type": "stream",
     "text": [
      "('VAFS:', [0.87255717267620037, 0.83728626003289441])\n"
     ]
    }
   ],
   "source": [
    "#Fit model\n",
    "model_gru=Decoder_funcs.GRU_model(X_train,y_train,units=400,dropout=0,num_epochs=10)\n",
    "#Get predictions\n",
    "y_valid_pred_gru=model_gru.predict(X_valid)\n",
    "#Get metric of fit\n",
    "vafs_gru=get_vaf(y_valid,y_valid_pred_gru)\n",
    "print('VAFS:', vafs_gru)"
   ]
  },
  {
   "cell_type": "markdown",
   "metadata": {},
   "source": [
    "### LSTM (Long Short Term Memory)"
   ]
  },
  {
   "cell_type": "code",
   "execution_count": 16,
   "metadata": {
    "collapsed": false
   },
   "outputs": [
    {
     "name": "stdout",
     "output_type": "stream",
     "text": [
      "('VAFS:', [0.88011000858631538, 0.84203013604606314])\n"
     ]
    }
   ],
   "source": [
    "#Fit model\n",
    "model_lstm=Decoder_funcs.LSTM_model(X_train,y_train,units=400,dropout=0,num_epochs=10)\n",
    "#Get predictions\n",
    "y_valid_pred_lstm=model_lstm.predict(X_valid)\n",
    "#Get metric of fit\n",
    "vafs_lstm=get_vaf(y_valid,y_valid_pred_lstm)\n",
    "print('VAFS:', vafs_lstm)"
   ]
  },
  {
   "cell_type": "markdown",
   "metadata": {},
   "source": [
    "### Kalman Filter"
   ]
  },
  {
   "cell_type": "code",
   "execution_count": 61,
   "metadata": {
    "collapsed": false
   },
   "outputs": [
    {
     "name": "stdout",
     "output_type": "stream",
     "text": [
      "('VAFS:', [0.72451170463328052, 0.71332358177716682])\n"
     ]
    }
   ],
   "source": [
    "#Fit model\n",
    "model_kf=Decoder_funcs.kf_model(X_kf_train,y_kf_train)\n",
    "#Get predictions\n",
    "y_valid_pred_kf=Decoder_funcs.kf_predict(model_kf,X_kf_valid,y_kf_valid)\n",
    "#Get metric of fit\n",
    "vafs_kf=get_vaf(y_kf_valid,y_pred_kf)\n",
    "print('VAFS:',vafs_kf[2:4])"
   ]
  },
  {
   "cell_type": "code",
   "execution_count": null,
   "metadata": {
    "collapsed": true
   },
   "outputs": [],
   "source": []
  },
  {
   "cell_type": "markdown",
   "metadata": {},
   "source": [
    "## Make Plots"
   ]
  },
  {
   "cell_type": "code",
   "execution_count": null,
   "metadata": {
    "collapsed": false
   },
   "outputs": [],
   "source": [
    "#As an example, I plot the first 1000 values of the x velocity (column index 0), both true and predicted with the Wiener filter\n",
    "fig_x_lin=plt.figure()\n",
    "plt.plot(y_test[0:1000,0],'b')\n",
    "plt.plot(y_test_pred_lin[0:1000,0],'r')\n",
    "#Save figure\n",
    "# fig_x_lin.savefig('x_velocity_decoding.eps')"
   ]
  },
  {
   "cell_type": "code",
   "execution_count": 21,
   "metadata": {
    "collapsed": true
   },
   "outputs": [],
   "source": [
    "from sklearn import linear_model"
   ]
  },
  {
   "cell_type": "code",
   "execution_count": 93,
   "metadata": {
    "collapsed": false
   },
   "outputs": [],
   "source": [
    "def wiener_casc(X_flat_train,y_train,X_flat_test,y_test,deg=3):\n",
    "    num_outputs=y_train.shape[1]\n",
    "    y_test_pred_ln=np.empty(y_test.shape)\n",
    "    for i in range(num_outputs):\n",
    "        regr = linear_model.LinearRegression()\n",
    "        regr.fit(X_flat_train, y_train[:,i]) #Fit linear\n",
    "        y_train_pred_lin=regr.predict(X_flat_train) \n",
    "        p=np.polyfit(y_train_pred_lin,y_train[:,i],deg) #Fit nonlinear\n",
    "        y_train_pred_ln=np.polyval(p,y_train_pred_lin)\n",
    "        #Predictions on test set\n",
    "        y_test_pred_lin=regr.predict(X_flat_test)\n",
    "        y_test_pred_ln[:,i]=np.polyval(p,y_test_pred_lin)\n",
    "    return y_test_pred_ln"
   ]
  },
  {
   "cell_type": "code",
   "execution_count": null,
   "metadata": {
    "collapsed": true
   },
   "outputs": [],
   "source": [
    "y_valid_pred_wc=wiener_casc(X_flat_train,y_train,X_flat_valid,y_valid,deg=3)"
   ]
  },
  {
   "cell_type": "code",
   "execution_count": 18,
   "metadata": {
    "collapsed": true
   },
   "outputs": [],
   "source": [
    "def wiener_casc_model(X_flat_train,y_train,deg=3):\n",
    "    num_outputs=y_train.shape[1]\n",
    "    models=[]\n",
    "    for i in range(num_outputs):\n",
    "        regr = linear_model.LinearRegression()\n",
    "        regr.fit(X_flat_train, y_train[:,i]) #Fit linear\n",
    "        y_train_pred_lin=regr.predict(X_flat_train) \n",
    "        p=np.polyfit(y_train_pred_lin,y_train[:,i],deg) #Fit nonlinear\n",
    "        models.append([regr,p])\n",
    "    return models"
   ]
  },
  {
   "cell_type": "code",
   "execution_count": 19,
   "metadata": {
    "collapsed": true
   },
   "outputs": [],
   "source": [
    "def wiener_casc_predict(models,X_flat_test):\n",
    "    num_outputs=len(models)\n",
    "    y_test_pred_ln=np.empty([X_flat_test.shape[0],num_outputs])\n",
    "    for i in range(num_outputs):\n",
    "        [regr,p]=models[i]\n",
    "        #Predictions on test set\n",
    "        y_test_pred_lin=regr.predict(X_flat_test)\n",
    "        y_test_pred_ln[:,i]=np.polyval(p,y_test_pred_lin)\n",
    "    return y_test_pred_ln    "
   ]
  },
  {
   "cell_type": "code",
   "execution_count": 22,
   "metadata": {
    "collapsed": false
   },
   "outputs": [],
   "source": [
    "models_wc=wiener_casc_model(X_flat_train,y_train,deg=3)"
   ]
  },
  {
   "cell_type": "code",
   "execution_count": 23,
   "metadata": {
    "collapsed": true
   },
   "outputs": [],
   "source": [
    "y_valid_pred_wc=wiener_casc_pred(models_wc,X_flat_valid)"
   ]
  },
  {
   "cell_type": "code",
   "execution_count": 24,
   "metadata": {
    "collapsed": false
   },
   "outputs": [
    {
     "data": {
      "text/plain": [
       "[0.75846086040360672, 0.76774970824995881]"
      ]
     },
     "execution_count": 24,
     "metadata": {},
     "output_type": "execute_result"
    }
   ],
   "source": [
    "vafs_wc=get_vaf(y_valid,y_valid_pred_wc)\n",
    "vafs_wc"
   ]
  },
  {
   "cell_type": "code",
   "execution_count": null,
   "metadata": {
    "collapsed": true
   },
   "outputs": [],
   "source": []
  },
  {
   "cell_type": "code",
   "execution_count": 54,
   "metadata": {
    "collapsed": true
   },
   "outputs": [],
   "source": [
    "def kf_model(zs,xs):\n",
    "    #xs are the state (here, the variable we're predicting)\n",
    "    #zs are the observed variable (neural data here)\n",
    "    \n",
    "    \n",
    "    #Reformat matrices\n",
    "    X=np.matrix(xs.T)\n",
    "    Z=np.matrix(zs.T)\n",
    "        \n",
    "    #number of time bins (after reformatting for the lag)\n",
    "    nt=X.shape[1]\n",
    "    \n",
    "    # Compute the variables required for filtering, according to Wu et al\n",
    "    X2 = X[:,1:]\n",
    "    X1 = X[:,0:nt-1]\n",
    "    # The least-squares-optimal transformation from x_i to x_(i+1)\n",
    "    A=X2*X1.T*inv(X1*X1.T)\n",
    "    W=(X2-A*X1)*(X2-A*X1).T/(nt-1)\n",
    "\n",
    "    # The least-squares-optimal transformation from x_i to z_i\n",
    "    # (the transformation from position to spikes)\n",
    "    H = Z*X.T*(inv(X*X.T))\n",
    "    Q = ((Z - H*X)*((Z - H*X).T)) / nt\n",
    "    params=[A,W,H,Q]\n",
    "    return params"
   ]
  },
  {
   "cell_type": "code",
   "execution_count": 28,
   "metadata": {
    "collapsed": true
   },
   "outputs": [],
   "source": [
    "# def kf_predict(zs,xs,lag,params):\n",
    "#     #xs are the state (here, the variable we're predicting)\n",
    "#     #zs are the observed variable (neural data here)\n",
    "    \n",
    "#     #number of time bins, originally\n",
    "#     nt_orig=xs.shape[0]\n",
    "    \n",
    "#     if lag<0:\n",
    "#         xs=xs[-lag:,:]\n",
    "#         zs=zs[0:nt_orig+lag,:]\n",
    "    \n",
    "#     if lag>0:\n",
    "#         xs=xs[0:nt_orig-lag,:]\n",
    "#         zs=zs[lag:nt_orig,:]\n",
    "    \n",
    "#     #Reformat matrices\n",
    "#     X=np.matrix(xs.T)\n",
    "#     Z=np.matrix(zs.T)\n",
    "    \n",
    "#     #Extract parameters\n",
    "#     A,W,H,Q=params\n",
    "    \n",
    "#     #Initialize\n",
    "#     num_states=X.shape[0]\n",
    "#     states=np.empty(X.shape)\n",
    "#     P_m=np.matrix(np.zeros([num_states,num_states]))\n",
    "#     P=np.matrix(np.zeros([num_states,num_states]))\n",
    "#     state=X[:,0]\n",
    "#     states[:,0]=np.copy(np.squeeze(state))\n",
    "\n",
    "#     for t in range(X.shape[1]-1):\n",
    "# #         P_m=np.copy(A*P*A.T+W)\n",
    "# #         state_m=np.copy(A*state)\n",
    "\n",
    "#         P_m=A*P*A.T+W\n",
    "#         state_m=A*state\n",
    "        \n",
    "#         K=P_m*H.T*inv(H*P_m*H.T+Q)\n",
    "#         P=(np.matrix(np.eye(num_states))-K*H)*P_m\n",
    "#         state=state_m+K*(Z[:,t+1]-H*state_m)\n",
    "# #         states[:,t+1]=np.copy(np.squeeze(state))\n",
    "#         states[:,t+1]=np.squeeze(state)\n",
    "#     return states.T"
   ]
  },
  {
   "cell_type": "code",
   "execution_count": 55,
   "metadata": {
    "collapsed": true
   },
   "outputs": [],
   "source": [
    "def kf_predict(params,zs,xs):\n",
    "    #xs are the state (here, the variable we're predicting)\n",
    "    #zs are the observed variable (neural data here)\n",
    "    \n",
    "    #Extract parameters\n",
    "    A,W,H,Q=params\n",
    "    \n",
    "    #Reformat matrices\n",
    "    X=np.matrix(xs.T)\n",
    "    Z=np.matrix(zs.T)\n",
    "    \n",
    "    \n",
    "    #Initialize\n",
    "    num_states=X.shape[0]\n",
    "    states=np.empty(X.shape)\n",
    "    P_m=np.matrix(np.zeros([num_states,num_states]))\n",
    "    P=np.matrix(np.zeros([num_states,num_states]))\n",
    "    state=X[:,0]\n",
    "    states[:,0]=np.copy(np.squeeze(state))\n",
    "\n",
    "    for t in range(X.shape[1]-1):\n",
    "#         P_m=np.copy(A*P*A.T+W)\n",
    "#         state_m=np.copy(A*state)\n",
    "\n",
    "        P_m=A*P*A.T+W\n",
    "        state_m=A*state\n",
    "        \n",
    "        K=P_m*H.T*inv(H*P_m*H.T+Q)\n",
    "        P=(np.matrix(np.eye(num_states))-K*H)*P_m\n",
    "        state=state_m+K*(Z[:,t+1]-H*state_m)\n",
    "#         states[:,t+1]=np.copy(np.squeeze(state))\n",
    "        states[:,t+1]=np.squeeze(state)\n",
    "    return states.T"
   ]
  },
  {
   "cell_type": "code",
   "execution_count": 57,
   "metadata": {
    "collapsed": false
   },
   "outputs": [],
   "source": [
    "model_kf=kf_model(X_kf_train,y_kf_train)"
   ]
  },
  {
   "cell_type": "code",
   "execution_count": 58,
   "metadata": {
    "collapsed": false
   },
   "outputs": [],
   "source": [
    "y_pred_kf=kf_predict(model_kf,X_kf_valid,y_kf_valid)"
   ]
  },
  {
   "cell_type": "code",
   "execution_count": 38,
   "metadata": {
    "collapsed": false
   },
   "outputs": [
    {
     "data": {
      "text/plain": [
       "[<matplotlib.lines.Line2D at 0x7f0d8ab71f50>]"
      ]
     },
     "execution_count": 38,
     "metadata": {},
     "output_type": "execute_result"
    },
    {
     "data": {
      "image/png": "[encoded data removed]",
      "text/plain": [
       "<matplotlib.figure.Figure at 0x7f0d8ab71a10>"
      ]
     },
     "metadata": {},
     "output_type": "display_data"
    }
   ],
   "source": [
    "plt.plot(y_kf_valid[500:1000,2])\n",
    "plt.plot(y_pred_kf[500:1000,2])\n"
   ]
  },
  {
   "cell_type": "code",
   "execution_count": 59,
   "metadata": {
    "collapsed": false
   },
   "outputs": [
    {
     "data": {
      "text/plain": [
       "[0.67699529732005903,\n",
       " 0.66568885613627105,\n",
       " 0.72451170463328052,\n",
       " 0.71332358177716682,\n",
       " 0.41133119907340709,\n",
       " 0.22782605017146251]"
      ]
     },
     "execution_count": 59,
     "metadata": {},
     "output_type": "execute_result"
    }
   ],
   "source": [
    "vafs_kf=get_vaf(y_kf_valid,y_pred_kf)\n",
    "vafs_kf"
   ]
  },
  {
   "cell_type": "code",
   "execution_count": null,
   "metadata": {
    "collapsed": true
   },
   "outputs": [],
   "source": []
  }
 ],
 "metadata": {
  "anaconda-cloud": {},
  "kernelspec": {
   "display_name": "Python [Root]",
   "language": "python",
   "name": "Python [Root]"
  },
  "language_info": {
   "codemirror_mode": {
    "name": "ipython",
    "version": 2
   },
   "file_extension": ".py",
   "mimetype": "text/x-python",
   "name": "python",
   "nbconvert_exporter": "python",
   "pygments_lexer": "ipython2",
   "version": "2.7.12"
  }
 },
 "nbformat": 4,
 "nbformat_minor": 0
}
