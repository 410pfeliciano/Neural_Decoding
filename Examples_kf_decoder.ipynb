{
 "cells": [
  {
   "cell_type": "markdown",
   "metadata": {},
   "source": [
    "# Example of Kalman Filter decoders\n",
    "\n",
    "This example is similar to those shown in \"Examples_all_decoders.\"\n",
    "However, there is some preprocessing is different for the Kalman, so we have made a separate notebook.\n",
    "\n",
    "In this example notebook, we:\n",
    "1. Import the necessary packages\n",
    "2. Load a data file (spike trains and outputs we are predicting)\n",
    "3. Preprocess the data\n",
    "4. Run the decoders and print the goodness of fit\n",
    "5. Plot example decoded outputs"
   ]
  },
  {
   "cell_type": "markdown",
   "metadata": {},
   "source": [
    "## 1. Import Packages\n",
    "\n",
    "Below, we import both standard packages, and functions from the accompanying .py files"
   ]
  },
  {
   "cell_type": "code",
   "execution_count": 1,
   "metadata": {
    "collapsed": false
   },
   "outputs": [
    {
     "name": "stderr",
     "output_type": "stream",
     "text": [
      "/opt/anaconda/anaconda2/lib/python2.7/site-packages/sklearn/cross_validation.py:44: DeprecationWarning: This module was deprecated in version 0.18 in favor of the model_selection module into which all the refactored classes and functions are moved. Also note that the interface of the new CV iterators are different from that of this module. This module will be removed in 0.20.\n",
      "  \"This module will be removed in 0.20.\", DeprecationWarning)\n",
      "Using Theano backend.\n",
      "WARNING (theano.sandbox.cuda): The cuda backend is deprecated and will be removed in the next release.  Please switch to the gpuarray backend. You can get more information about how to switch at this URL:\n",
      " https://github.com/Theano/Theano/wiki/Converting-to-the-new-gpu-back-end%28gpuarray%29\n",
      "\n",
      "Using gpu device 3: GeForce GTX TITAN X (CNMeM is disabled, cuDNN 5103)\n"
     ]
    }
   ],
   "source": [
    "#Import standard packages\n",
    "import numpy as np\n",
    "import matplotlib.pyplot as plt\n",
    "%matplotlib inline\n",
    "from scipy import io\n",
    "from scipy import stats\n",
    "import pickle\n",
    "\n",
    "#Import metrics\n",
    "from metrics import get_R2\n",
    "from metrics import get_rho\n",
    "\n",
    "#Import decoder functions\n",
    "from decoders import KalmanFilterDecoder"
   ]
  },
  {
   "cell_type": "markdown",
   "metadata": {},
   "source": [
    "## 2. Load Data\n",
    "The data file for this example can be downloaded at https://dl.dropboxusercontent.com/u/2944301/Decoding_Data/example_data_s1.pickle. It was recorded by Raeed Chowdhury from Lee Miller's lab at Northwestern.\n",
    "\n",
    "The data that we load is in the format described below. We have another example script, \"neural_preprocessing.py\" that may be helpful towards putting the data in this format.\n",
    "\n",
    "Neural data should be a matrix of size \"number of time bins\" x \"number of neurons\", where each entry is the firing rate of a given neuron in a given time bin\n",
    "\n",
    "The output you are decoding should be a matrix of size \"number of time bins\" x \"number of features you are decoding\""
   ]
  },
  {
   "cell_type": "code",
   "execution_count": 2,
   "metadata": {
    "collapsed": false
   },
   "outputs": [],
   "source": [
    "folder='' #ENTER THE FOLDER THAT YOUR DATA IS IN\n",
    "# folder='/home/jglaser/Data/DecData/' \n",
    "\n",
    "with open(folder+'example_data_s1.pickle','rb') as f:\n",
    "    neural_data,vels_binned=pickle.load(f)"
   ]
  },
  {
   "cell_type": "markdown",
   "metadata": {},
   "source": [
    "## 3. Preprocess Data"
   ]
  },
  {
   "cell_type": "markdown",
   "metadata": {},
   "source": [
    "### 3A. User Inputs\n",
    "The user can define what time period to use spikes from (with respect to the output)."
   ]
  },
  {
   "cell_type": "code",
   "execution_count": 3,
   "metadata": {
    "collapsed": true
   },
   "outputs": [],
   "source": [
    "lag=0 #What time bin of spikes should be used relative to the output\n",
    "#(lag=-1 means use the spikes 1 bin before the output)"
   ]
  },
  {
   "cell_type": "markdown",
   "metadata": {},
   "source": [
    "### 3B. Format Covariates"
   ]
  },
  {
   "cell_type": "markdown",
   "metadata": {},
   "source": [
    "#### Format Input"
   ]
  },
  {
   "cell_type": "code",
   "execution_count": 4,
   "metadata": {
    "collapsed": false
   },
   "outputs": [],
   "source": [
    "#The covariate is simply the matrix of firing rates for all neurons over time\n",
    "X_kf=neural_data"
   ]
  },
  {
   "cell_type": "markdown",
   "metadata": {},
   "source": [
    "#### Format Output"
   ]
  },
  {
   "cell_type": "code",
   "execution_count": 5,
   "metadata": {
    "collapsed": false
   },
   "outputs": [],
   "source": [
    "#For the Kalman filter, we use the position, velocity, and acceleration as outputs\n",
    "#Ultimately, we are only concerned with the goodness of fit of velocity (for this dataset)\n",
    "#But using them all as covariates helps performance\n",
    "\n",
    "#We will now determine position\n",
    "pos_binned=np.zeros(vels_binned.shape) #Initialize \n",
    "pos_binned[0,:]=0 #Assume starting position is at [0,0]\n",
    "#Loop through time bins and determine positions based on the velocities\n",
    "for i in range(pos_binned.shape[0]-1): \n",
    "    pos_binned[i+1,0]=pos_binned[i,0]+vels_binned[i,0]*.05 #Note that .05 is the length of the time bin\n",
    "    pos_binned[i+1,1]=pos_binned[i,1]+vels_binned[i,1]*.05\n",
    "\n",
    "#We will now determine acceleration    \n",
    "temp=np.diff(vels_binned,axis=0) #The acceleration is the difference in velocities across time bins \n",
    "acc_binned=np.concatenate((temp,temp[-1:,:]),axis=0) #Assume acceleration at last time point is same as 2nd to last\n",
    "\n",
    "#The final output covariates include position, velocity, and acceleration\n",
    "y_kf=np.concatenate((pos_binned,vels_binned,acc_binned),axis=1)"
   ]
  },
  {
   "cell_type": "markdown",
   "metadata": {},
   "source": [
    "### 3C. Take lag into account"
   ]
  },
  {
   "cell_type": "code",
   "execution_count": 6,
   "metadata": {
    "collapsed": false
   },
   "outputs": [],
   "source": [
    "num_examples=X_kf.shape[0]\n",
    "\n",
    "#Re-align data to take lag into account\n",
    "if lag<0:\n",
    "    y_kf=y_kf[-lag:,:]\n",
    "    X_kf=X_kf[0:num_examples+lag,:]\n",
    "if lag>0:\n",
    "    y_kf=y_kf[0:num_examples-lag,:]\n",
    "    X_kf=X_kf[lag:num_examples,:]"
   ]
  },
  {
   "cell_type": "markdown",
   "metadata": {},
   "source": [
    "### 3D. Split into training/testing/validation sets\n",
    "Note that parameters should be setting using a separate validation set. \n",
    "Then, the goodness of fit should be be tested on a testing set (separate from the training and validation sets)."
   ]
  },
  {
   "cell_type": "markdown",
   "metadata": {},
   "source": [
    "### User Options"
   ]
  },
  {
   "cell_type": "code",
   "execution_count": 7,
   "metadata": {
    "collapsed": true
   },
   "outputs": [],
   "source": [
    "#Set what part of data should be part of the training/testing/validation sets\n",
    "training_range=[0, 0.7]\n",
    "testing_range=[0.7, 0.85]\n",
    "valid_range=[0.85,1]"
   ]
  },
  {
   "cell_type": "markdown",
   "metadata": {},
   "source": [
    "### Split Data: For KF"
   ]
  },
  {
   "cell_type": "code",
   "execution_count": 8,
   "metadata": {
    "collapsed": false
   },
   "outputs": [],
   "source": [
    "#Number of examples after taking into account bins removed for lag alignment\n",
    "num_examples_kf=X_kf.shape[0]\n",
    "        \n",
    "#Note that each range has a buffer of 1 bin at the beginning and end\n",
    "#This makes it so that the different sets don't include overlapping data\n",
    "training_set=np.arange(np.int(np.round(training_range[0]*num_examples_kf))+1,np.int(np.round(training_range[1]*num_examples_kf))-1)\n",
    "testing_set=np.arange(np.int(np.round(testing_range[0]*num_examples_kf))+1,np.int(np.round(testing_range[1]*num_examples_kf))-1)\n",
    "valid_set=np.arange(np.int(np.round(valid_range[0]*num_examples_kf))+1,np.int(np.round(valid_range[1]*num_examples_kf))-1)\n",
    "\n",
    "#Get training data\n",
    "X_kf_train=X_kf[training_set,:]\n",
    "y_kf_train=y_kf[training_set,:]\n",
    "\n",
    "#Get testing data\n",
    "X_kf_test=X_kf[testing_set,:]\n",
    "y_kf_test=y_kf[testing_set,:]\n",
    "\n",
    "#Get validation data\n",
    "X_kf_valid=X_kf[valid_set,:]\n",
    "y_kf_valid=y_kf[valid_set,:]"
   ]
  },
  {
   "cell_type": "markdown",
   "metadata": {},
   "source": [
    "### 3E. Preprocessing: Normalization and zero-centering\n",
    "We normalize (z_score) the inputs and zero-center the outputs.\n",
    "Parameters for z-scoring (mean/std.) should be determined on the training set only, and then these z-scoring parameters are also used on the testing and validation sets."
   ]
  },
  {
   "cell_type": "code",
   "execution_count": 9,
   "metadata": {
    "collapsed": false
   },
   "outputs": [],
   "source": [
    "#Z-score inputs \n",
    "X_kf_train_mean=np.nanmean(X_kf_train,axis=0)\n",
    "X_kf_train_std=np.nanstd(X_kf_train,axis=0)\n",
    "X_kf_train=(X_kf_train-X_kf_train_mean)/X_kf_train_std\n",
    "X_kf_test=(X_kf_test-X_kf_train_mean)/X_kf_train_std\n",
    "X_kf_valid=(X_kf_valid-X_kf_train_mean)/X_kf_train_std\n",
    "\n",
    "#Zero-center outputs\n",
    "y_kf_train_mean=np.mean(y_kf_train,axis=0)\n",
    "y_kf_train=y_kf_train-y_kf_train_mean\n",
    "y_kf_test=y_kf_test-y_kf_train_mean\n",
    "y_kf_valid=y_kf_valid-y_kf_train_mean"
   ]
  },
  {
   "cell_type": "markdown",
   "metadata": {},
   "source": [
    "## 4. Run Decoder\n",
    "Note that in this example, we are evaluating the model fit on the validation set"
   ]
  },
  {
   "cell_type": "markdown",
   "metadata": {},
   "source": [
    "### Kalman Filter"
   ]
  },
  {
   "cell_type": "code",
   "execution_count": 10,
   "metadata": {
    "collapsed": false
   },
   "outputs": [
    {
     "name": "stdout",
     "output_type": "stream",
     "text": [
      "('R2:', array([ 0.68942383,  0.67256874]))\n",
      "('rho2:', array([ 0.70791634,  0.67637784]))\n"
     ]
    }
   ],
   "source": [
    "#Declare model\n",
    "model_kf=KalmanFilterDecoder()\n",
    "\n",
    "#Fit model\n",
    "model_kf.fit(X_kf_train,y_kf_train)\n",
    "\n",
    "#Get predictions\n",
    "y_valid_predicted_kf=model_kf.predict(X_kf_valid,y_kf_valid)\n",
    "\n",
    "#Get metrics of fit (see read me for more details on the differences between metrics)\n",
    "#First I'll get the R^2\n",
    "R2_kf=get_R2(y_kf_valid,y_valid_predicted_kf)\n",
    "print('R2:',R2_kf[2:4]) #I'm just printing the R^2's of the 3rd and 4th entries that correspond to the velocities\n",
    "#Next I'll get the rho^2 (the pearson correlation squared)\n",
    "rho_kf=get_rho(y_kf_valid,y_valid_predicted_kf)\n",
    "print('rho2:',rho_kf[2:4]**2) #I'm just printing the rho^2's of the 3rd and 4th entries that correspond to the velocities"
   ]
  },
  {
   "cell_type": "markdown",
   "metadata": {},
   "source": [
    "## 5. Make Plots"
   ]
  },
  {
   "cell_type": "code",
   "execution_count": 12,
   "metadata": {
    "collapsed": false
   },
   "outputs": [
    {
     "data": {
      "text/plain": [
       "[<matplotlib.lines.Line2D at 0x7f1e503b1590>]"
      ]
     },
     "execution_count": 12,
     "metadata": {},
     "output_type": "execute_result"
    },
    {
     "data": {
      "image/png": "[encoded data removed]",
      "text/plain": [
       "<matplotlib.figure.Figure at 0x7f1e5042d190>"
      ]
     },
     "metadata": {},
     "output_type": "display_data"
    }
   ],
   "source": [
    "#As an example, I plot an example 1000 values of the x velocity (column index 2), both true and predicted with the Kalman filter\n",
    "#Note that I add back in the mean value, so that both true and predicted values are in the original coordinates\n",
    "fig_x_kf=plt.figure()\n",
    "plt.plot(y_kf_valid[1000:2000,2]+y_kf_train_mean[2],'b')\n",
    "plt.plot(y_valid_predicted_kf[1000:2000,2]+y_kf_train_mean[2],'r')\n",
    "#Save figure\n",
    "# fig_x_kf.savefig('x_velocity_decoding.eps')"
   ]
  },
  {
   "cell_type": "code",
   "execution_count": null,
   "metadata": {
    "collapsed": true
   },
   "outputs": [],
   "source": []
  }
 ],
 "metadata": {
  "anaconda-cloud": {},
  "kernelspec": {
   "display_name": "Python [Root]",
   "language": "python",
   "name": "Python [Root]"
  },
  "language_info": {
   "codemirror_mode": {
    "name": "ipython",
    "version": 2
   },
   "file_extension": ".py",
   "mimetype": "text/x-python",
   "name": "python",
   "nbconvert_exporter": "python",
   "pygments_lexer": "ipython2",
   "version": "2.7.12"
  }
 },
 "nbformat": 4,
 "nbformat_minor": 0
}
