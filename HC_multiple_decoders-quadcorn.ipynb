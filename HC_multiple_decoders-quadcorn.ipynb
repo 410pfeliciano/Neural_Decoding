{
 "cells": [
  {
   "cell_type": "code",
   "execution_count": 1,
   "metadata": {
    "collapsed": false
   },
   "outputs": [],
   "source": [
    "import numpy as np\n",
    "import matplotlib.pyplot as plt\n",
    "%matplotlib inline\n",
    "import sklearn.cross_validation\n",
    "from scipy import io\n",
    "from scipy import stats\n",
    "import xgboost as xgb\n",
    "from sklearn import linear_model"
   ]
  },
  {
   "cell_type": "markdown",
   "metadata": {},
   "source": [
    "## Import Data"
   ]
  },
  {
   "cell_type": "code",
   "execution_count": 2,
   "metadata": {
    "collapsed": false
   },
   "outputs": [],
   "source": [
    "# folder='/Users/jig289/Dropbox/MATLAB/Projects/In_Progress/BMI/Processed_Data/'\n",
    "folder='/home/jglaser2/Data/'\n",
    "\n",
    "\n",
    "data=io.loadmat(folder+'hc_data_5before_5after_rnn_all.mat')\n",
    "\n",
    "\n",
    "X=data['X']\n",
    "y=data['Y']\n"
   ]
  },
  {
   "cell_type": "code",
   "execution_count": 3,
   "metadata": {
    "collapsed": false
   },
   "outputs": [],
   "source": [
    "X_sum=np.sum(np.sum(X,axis=0),axis=0)\n",
    "X_sum.shape\n",
    "# rmv_temp=np.where(X_sum/X.shape[1]<20)\n",
    "rmv_temp=np.where(X_sum/X.shape[1]<100)\n",
    "X=np.delete(X,rmv_temp,2)\n",
    "\n",
    "\n",
    "#num_secs = X.shape[0]*.05\n"
   ]
  },
  {
   "cell_type": "markdown",
   "metadata": {},
   "source": [
    "## Preprocess Data"
   ]
  },
  {
   "cell_type": "code",
   "execution_count": 4,
   "metadata": {
    "collapsed": false
   },
   "outputs": [
    {
     "data": {
      "text/plain": [
       "(27854, 10, 46)"
      ]
     },
     "execution_count": 4,
     "metadata": {},
     "output_type": "execute_result"
    }
   ],
   "source": [
    "X.shape"
   ]
  },
  {
   "cell_type": "code",
   "execution_count": 5,
   "metadata": {
    "collapsed": false
   },
   "outputs": [],
   "source": [
    "#Normalize\n",
    "X=stats.zscore(X,axis=0)\n",
    "y_mean=np.mean(y,axis=0)\n",
    "y_std=np.std(y,axis=0)\n",
    "y=stats.zscore(y,axis=0)"
   ]
  },
  {
   "cell_type": "code",
   "execution_count": 6,
   "metadata": {
    "collapsed": true
   },
   "outputs": [],
   "source": [
    "#Put in \"flat\" format for XGB and linear\n",
    "X_flat=X.reshape(X.shape[0],(X.shape[1]*X.shape[2]))\n",
    "X_flat=stats.zscore(X_flat,axis=0)\n"
   ]
  },
  {
   "cell_type": "markdown",
   "metadata": {},
   "source": [
    "**Split into training/validation/testing sets**"
   ]
  },
  {
   "cell_type": "code",
   "execution_count": 7,
   "metadata": {
    "collapsed": false
   },
   "outputs": [],
   "source": [
    "#Train/test/valid\n",
    "train_prop=0.5\n",
    "test_prop=0.2\n",
    "valid_prop=0.2\n",
    "\n",
    "train_size=np.int(np.round(train_prop*X.shape[0]))\n",
    "test_size=np.int(np.round(test_prop*X.shape[0]))\n",
    "\n",
    "X_train=X[:train_size-X.shape[1],:,:] #Subtract X.shape[1] so we don't have overlap in the train/test sets\n",
    "y_train=y[:train_size-X.shape[1],:]\n",
    "\n",
    "X_test=X[train_size:test_size+train_size,:,:]\n",
    "y_test=y[train_size:test_size+train_size,:]\n",
    "\n",
    "X_valid=X[test_size+train_size:,:,:]\n",
    "y_valid=y[test_size+train_size:,:]\n",
    "\n",
    "\n",
    "X_flat_train=X_flat[:train_size-X.shape[1],:]\n",
    "X_flat_test=X_flat[train_size:test_size+train_size,:]\n",
    "X_flat_valid=X_flat[test_size+train_size:,:]\n"
   ]
  },
  {
   "cell_type": "code",
   "execution_count": 8,
   "metadata": {
    "collapsed": false
   },
   "outputs": [
    {
     "data": {
      "text/plain": [
       "(13917, 2)"
      ]
     },
     "execution_count": 8,
     "metadata": {},
     "output_type": "execute_result"
    }
   ],
   "source": [
    "X_flat_train.shape\n",
    "y_train.shape"
   ]
  },
  {
   "cell_type": "code",
   "execution_count": 220,
   "metadata": {
    "collapsed": false
   },
   "outputs": [],
   "source": [
    "# train_prop=0.8\n",
    "# valid_prop=0.1\n",
    "# test_prop=0.1\n",
    "\n",
    "# train_size=np.int(np.round(train_prop*X.shape[0]))\n",
    "# valid_size=np.int(np.round(valid_prop*X.shape[0]))\n",
    "# test_size=np.int(np.round(test_prop*X.shape[0]))\n",
    "\n",
    "# X_train=X[:train_size,:,:]\n",
    "# y_train=y[:train_size,:]\n",
    "\n",
    "# X_valid=X[train_size:valid_size+train_size,:,:]\n",
    "# y_valid=y[train_size:valid_size+train_size,:]\n",
    "\n",
    "# X_test=X[valid_size+train_size:,:,:]\n",
    "# y_test=y[valid_size+train_size:,:]"
   ]
  },
  {
   "cell_type": "code",
   "execution_count": 221,
   "metadata": {
    "collapsed": true
   },
   "outputs": [],
   "source": [
    "# valid_prop=0.1\n",
    "# train_prop=0.8\n",
    "# test_prop=0.1\n",
    "\n",
    "# train_size=np.int(np.round(train_prop*X.shape[0]))\n",
    "# valid_size=np.int(np.round(valid_prop*X.shape[0]))\n",
    "# test_size=np.int(np.round(test_prop*X.shape[0]))\n",
    "\n",
    "# X_valid=X[:valid_size,:,:]\n",
    "# y_valid=y[:valid_size,:]\n",
    "\n",
    "# X_train=X[valid_size:valid_size+train_size,:,:]\n",
    "# y_train=y[valid_size:valid_size+train_size,:]\n",
    "\n",
    "# X_test=X[valid_size+train_size:,:,:]\n",
    "# y_test=y[valid_size+train_size:,:]"
   ]
  },
  {
   "cell_type": "code",
   "execution_count": 222,
   "metadata": {
    "collapsed": false
   },
   "outputs": [
    {
     "data": {
      "text/plain": [
       "(13917, 2)"
      ]
     },
     "execution_count": 222,
     "metadata": {},
     "output_type": "execute_result"
    }
   ],
   "source": [
    "y_train.shape"
   ]
  },
  {
   "cell_type": "code",
   "execution_count": 223,
   "metadata": {
    "collapsed": false
   },
   "outputs": [
    {
     "data": {
      "text/plain": [
       "(13927, 2)"
      ]
     },
     "execution_count": 223,
     "metadata": {},
     "output_type": "execute_result"
    }
   ],
   "source": [
    "y_test.shape"
   ]
  },
  {
   "cell_type": "markdown",
   "metadata": {},
   "source": [
    "## Testing Functions"
   ]
  },
  {
   "cell_type": "code",
   "execution_count": 224,
   "metadata": {
    "collapsed": false
   },
   "outputs": [],
   "source": [
    "#Get correlations\n",
    "\n",
    "# def get_corr(y_test,y_test_pred):\n",
    "\n",
    "#     test_r_x=np.corrcoef(y_test[:,0],y_test_pred[:,0])[0,1]\n",
    "#     test_r_y=np.corrcoef(y_test[:,1],y_test_pred[:,1])[0,1]\n",
    "# #     test_r_xp=np.corrcoef(y_test[:,2],y_test_pred[:,2])[0,1]\n",
    "# #     test_r_yp=np.corrcoef(y_test[:,3],y_test_pred[:,3])[0,1]\n",
    "    \n",
    "#     r2=[test_r_x**2, test_r_y**2]\n",
    "# #     r2=[test_r_x**2, test_r_y**2, test_r_xp**2, test_r_yp**2]\n",
    "\n",
    "\n",
    "#     return r2"
   ]
  },
  {
   "cell_type": "code",
   "execution_count": 9,
   "metadata": {
    "collapsed": true
   },
   "outputs": [],
   "source": [
    "def get_corr(y_test,y_test_pred):\n",
    "\n",
    "    r2_list=[]\n",
    "    for i in range(y_test.shape[1]):\n",
    "        y_mean=np.mean(y_test[:,i])\n",
    "        r2=1-np.sum((y_test_pred[:,i]-y_test[:,i])**2)/np.sum((y_test[:,i]-y_mean)**2)\n",
    "        r2_list.append(r2)\n",
    "    return r2_list"
   ]
  },
  {
   "cell_type": "markdown",
   "metadata": {},
   "source": [
    "## Define Decoders"
   ]
  },
  {
   "cell_type": "markdown",
   "metadata": {},
   "source": [
    "**Import packages**"
   ]
  },
  {
   "cell_type": "code",
   "execution_count": 10,
   "metadata": {
    "collapsed": false
   },
   "outputs": [
    {
     "name": "stderr",
     "output_type": "stream",
     "text": [
      "Using Theano backend.\n",
      "Using gpu device 3: GeForce GTX TITAN X (CNMeM is disabled, cuDNN 5103)\n",
      "/opt/anaconda/anaconda2/lib/python2.7/site-packages/theano/sandbox/cuda/__init__.py:600: UserWarning: Your cuDNN version is more recent than the one Theano officially supports. If you see any problems, try updating Theano or downgrading cuDNN to version 5.\n",
      "  warnings.warn(warn)\n"
     ]
    }
   ],
   "source": [
    "#Import everything for keras\n",
    "\n",
    "from keras.models import Sequential\n",
    "from keras.layers import Dense, Activation, Dropout, LSTM, TimeDistributed, Flatten, SimpleRNN, GRU, BatchNormalization\n",
    "from keras.regularizers import l2, activity_l2, l1\n",
    "# from keras.layers.normalization import BatchNormalization\n",
    "from keras.callbacks import EarlyStopping\n"
   ]
  },
  {
   "cell_type": "markdown",
   "metadata": {},
   "source": [
    "**GRU**"
   ]
  },
  {
   "cell_type": "code",
   "execution_count": 11,
   "metadata": {
    "collapsed": false
   },
   "outputs": [],
   "source": [
    "def GRU_model(X_train=X_train,y_train=y_train,X_test=X_test,y_test=y_test,units=400,dropout=0,num_epochs=10,verbose=0):\n",
    "    model=Sequential()\n",
    "    model.add(GRU(units,input_shape=(X.shape[1],X.shape[2]),dropout_W=dropout,dropout_U=dropout))\n",
    "#     model.add(GRU(units,input_shape=(X.shape[1],X.shape[2])))\n",
    "    if dropout!=0:\n",
    "        model.add(Dropout(dropout))\n",
    "    model.add(Dense(2,init='uniform'))\n",
    "    model.compile(loss='mse',optimizer='rmsprop',metrics=['accuracy'])\n",
    "    model.fit(X_train,y_train,nb_epoch=num_epochs,verbose=verbose)\n",
    "    y_test_pred=model.predict(X_test)\n",
    "    r2=get_corr(y_test=y_test,y_test_pred=y_test_pred)\n",
    "    return r2,y_test_pred"
   ]
  },
  {
   "cell_type": "markdown",
   "metadata": {},
   "source": [
    "**LSTM**"
   ]
  },
  {
   "cell_type": "code",
   "execution_count": 239,
   "metadata": {
    "collapsed": true
   },
   "outputs": [],
   "source": [
    "def LSTM_model(X_train=X_train,y_train=y_train,X_test=X_test,y_test=y_test,units=400,dropout=0,num_epochs=10,verbose=0):\n",
    "    model=Sequential()\n",
    "    model.add(LSTM(units,input_shape=(X.shape[1],X.shape[2])))\n",
    "    if dropout!=0:\n",
    "        model.add(Dropout(dropout))\n",
    "    model.add(Dense(2,init='uniform'))\n",
    "    model.compile(loss='mse',optimizer='rmsprop',metrics=['accuracy'])\n",
    "    model.fit(X_train,y_train,nb_epoch=num_epochs,verbose=verbose)\n",
    "    y_test_pred=model.predict(X_test)\n",
    "    r2=get_corr(y_test=y_test,y_test_pred=y_test_pred)\n",
    "    return r2"
   ]
  },
  {
   "cell_type": "markdown",
   "metadata": {},
   "source": [
    "**Simple RNN**"
   ]
  },
  {
   "cell_type": "code",
   "execution_count": 297,
   "metadata": {
    "collapsed": true
   },
   "outputs": [],
   "source": [
    "def SimpleRNN_model(X_train=X_train,y_train=y_train,X_test=X_test,y_test=y_test,units=400,dropout=0,num_epochs=10,verbose=0):\n",
    "    model=Sequential()\n",
    "    model.add(SimpleRNN(units,input_shape=(X.shape[1],X.shape[2]),dropout_W=dropout,dropout_U=dropout))\n",
    "    if dropout!=0:\n",
    "        model.add(Dropout(dropout))\n",
    "    model.add(Dense(2,init='uniform'))\n",
    "    model.compile(loss='mse',optimizer='rmsprop',metrics=['accuracy'])\n",
    "    model.fit(X_train,y_train,nb_epoch=num_epochs,verbose=verbose)\n",
    "    y_test_pred=model.predict(X_test)\n",
    "    r2=get_corr(y_test=y_test,y_test_pred=y_test_pred)\n",
    "    return r2"
   ]
  },
  {
   "cell_type": "markdown",
   "metadata": {},
   "source": [
    "**XGBoost**"
   ]
  },
  {
   "cell_type": "code",
   "execution_count": 298,
   "metadata": {
    "collapsed": true
   },
   "outputs": [],
   "source": [
    "def xgb_model(X_train=X_flat_train,y_train=y_train,X_test=X_flat_test,y_test=y_test,max_depth=3,lam=1,subsample=1,num_round=300):\n",
    "\n",
    " \n",
    "    #Set parameters\n",
    "    param = {'objective': \"reg:linear\", #for linear output\n",
    "        'eval_metric': \"logloss\", #loglikelihood loss\n",
    "        'max_depth': max_depth, #this is the only parameter we have set, it's one of the way or regularizing\n",
    "        'seed': 2925, #for reproducibility\n",
    "        'silent': 1,\n",
    "            'lambda': lam,\n",
    "            'subsample': subsample}\n",
    "    param['nthread'] = -1 #with -1 it will use all available threads\n",
    "\n",
    "    dtest = xgb.DMatrix(X_test)\n",
    "\n",
    "    r2=np.zeros(2)\n",
    "    for y_idx in range(2):\n",
    "\n",
    "        dtrain = xgb.DMatrix(X_train, label=y_train[:,y_idx])\n",
    "        bst = xgb.train(param, dtrain, num_round)\n",
    "        # make prediction\n",
    "        y_test_pred = bst.predict(dtest)\n",
    "        r2[y_idx]=test_r_x=(np.corrcoef(y_test[:,y_idx],y_test_pred)[0,1])**2\n",
    "        \n",
    "    return r2\n"
   ]
  },
  {
   "cell_type": "code",
   "execution_count": 12,
   "metadata": {
    "collapsed": false
   },
   "outputs": [],
   "source": [
    "def lin_reg_model(X_flat_test=X_flat_test, y_test=y_test):\n",
    "    \n",
    "    regr = linear_model.LinearRegression()\n",
    "    regr.fit(X_flat_train, y_train) #Train    \n",
    "    y_test_pred=regr.predict(X_flat_test)\n",
    "    r2=get_corr(y_test=y_test,y_test_pred=y_test_pred)\n",
    "    return r2,y_test_pred"
   ]
  },
  {
   "cell_type": "code",
   "execution_count": 300,
   "metadata": {
    "collapsed": false
   },
   "outputs": [],
   "source": [
    "def wiener_cascade_model(X_flat_test=X_flat_test, y_test=y_test):\n",
    "    #Fits linear, and then nonlinear on top of that\n",
    "    \n",
    "    regr = linear_model.LinearRegression()\n",
    "    regr.fit(X_flat_train, y_train) #Train\n",
    "    y_train_pred0=regr.predict(X_flat_train)\n",
    "    y_test_pred0=regr.predict(X_flat_test)\n",
    "\n",
    "    #x velocity\n",
    "    X_x_train=np.zeros((y_train_pred0.shape[0],2))\n",
    "    X_x_train[:,0]=y_train_pred0[:,0]\n",
    "    X_x_train[:,1]=y_train_pred0[:,0]**2\n",
    "\n",
    "    X_x_test=np.zeros((y_test_pred0.shape[0],2))\n",
    "    X_x_test[:,0]=y_test_pred0[:,0]\n",
    "    X_x_test[:,1]=y_test_pred0[:,0]**2\n",
    "\n",
    "    regr_x = linear_model.LinearRegression()\n",
    "    regr_x.fit(X_x_train, y_train[:,0]) #Train\n",
    "\n",
    "    y_test_pred_x=regr_x.predict(X_x_test)\n",
    "\n",
    "\n",
    "    #y velocity\n",
    "    X_y_train=np.zeros((y_train_pred0.shape[0],2))\n",
    "    X_y_train[:,0]=y_train_pred0[:,1]\n",
    "    X_y_train[:,1]=y_train_pred0[:,1]**2\n",
    "\n",
    "    X_y_test=np.zeros((y_test_pred0.shape[0],2))\n",
    "    X_y_test[:,0]=y_test_pred0[:,1]\n",
    "    X_y_test[:,1]=y_test_pred0[:,1]**2\n",
    "\n",
    "    regr_y = linear_model.LinearRegression()\n",
    "    regr_y.fit(X_y_train, y_train[:,1]) #Train\n",
    "\n",
    "    y_test_pred_y=regr_y.predict(X_y_test)\n",
    "\n",
    "    #Concatenate x and y predictions int\n",
    "    y_test_pred=np.concatenate((np.expand_dims(y_test_pred_x,axis=1),np.expand_dims(y_test_pred_y,axis=1)),axis=1)\n",
    "\n",
    "    r2=get_corr(y_test=y_test,y_test_pred=y_test_pred)\n",
    "    return r2"
   ]
  },
  {
   "cell_type": "code",
   "execution_count": 324,
   "metadata": {
    "collapsed": false
   },
   "outputs": [],
   "source": [
    "def wiener_cascade_model_v2(num_epochs=30, verbose=0, X_flat_test=X_flat_test, y_test=y_test):\n",
    "    #Wiener cascade using NN (essentially allows iterations back and forth)\n",
    "    from keras.models import Model\n",
    "    from keras.layers.core import Lambda\n",
    "    from keras.layers import Input, merge\n",
    "\n",
    "    #Model\n",
    "    inputs = Input(shape=(X_flat.shape[1],), name='main_input')\n",
    "    linear=Dense(1,activation='linear')(inputs)\n",
    "    squared=Lambda(lambda x: x ** 2)(linear)\n",
    "#     cubed=Lambda(lambda x: x ** 3)(linear)\n",
    "    # merge_layer=merge([linear,squared,cubed],mode='concat')\n",
    "    merge_layer=merge([linear,squared],mode='concat')\n",
    "#     norm_merge=BatchNormalization(merge_layer)\n",
    "    output=Dense(1,activation='linear')(merge_layer)\n",
    "    model = Model(input=inputs, output=output)\n",
    "    model.compile(loss='mse',optimizer='rmsprop',metrics=['accuracy'])\n",
    "\n",
    "    model.fit(X_flat_train,y_train[:,0],nb_epoch=num_epochs,verbose=verbose)\n",
    "    y_test_pred_x=model.predict(X_flat_test)\n",
    "\n",
    "    model.fit(X_flat_train,y_train[:,1],nb_epoch=num_epochs,verbose=verbose)\n",
    "    y_test_pred_y=model.predict(X_flat_test)\n",
    "\n",
    "    y_test_pred=np.concatenate((y_test_pred_x,y_test_pred_y),axis=1)\n",
    "    r2=get_corr(y_test=y_test,y_test_pred=y_test_pred)\n",
    "    return r2\n"
   ]
  },
  {
   "cell_type": "markdown",
   "metadata": {},
   "source": [
    "**Fit Model**"
   ]
  },
  {
   "cell_type": "code",
   "execution_count": 310,
   "metadata": {
    "collapsed": false
   },
   "outputs": [
    {
     "name": "stdout",
     "output_type": "stream",
     "text": [
      "Epoch 1/20\n",
      "13917/13917 [==============================] - 3s - loss: 0.5953 - acc: 0.7240     \n",
      "Epoch 2/20\n",
      "13917/13917 [==============================] - 3s - loss: 0.5191 - acc: 0.7552     \n",
      "Epoch 3/20\n",
      "13917/13917 [==============================] - 3s - loss: 0.5071 - acc: 0.7559     \n",
      "Epoch 4/20\n",
      "13917/13917 [==============================] - 3s - loss: 0.4900 - acc: 0.7634     \n",
      "Epoch 5/20\n",
      "13917/13917 [==============================] - 3s - loss: 0.4867 - acc: 0.7652     \n",
      "Epoch 6/20\n",
      "13917/13917 [==============================] - 3s - loss: 0.4739 - acc: 0.7679     \n",
      "Epoch 7/20\n",
      "13917/13917 [==============================] - 3s - loss: 0.4715 - acc: 0.7729     \n",
      "Epoch 8/20\n",
      "13917/13917 [==============================] - 3s - loss: 0.4642 - acc: 0.7746     \n",
      "Epoch 9/20\n",
      "13917/13917 [==============================] - 3s - loss: 0.4536 - acc: 0.7732     \n",
      "Epoch 10/20\n",
      "13917/13917 [==============================] - 3s - loss: 0.4562 - acc: 0.7742     \n",
      "Epoch 11/20\n",
      "13917/13917 [==============================] - 3s - loss: 0.4450 - acc: 0.7799     \n",
      "Epoch 12/20\n",
      "13917/13917 [==============================] - 3s - loss: 0.4442 - acc: 0.7815     \n",
      "Epoch 13/20\n",
      "13917/13917 [==============================] - 3s - loss: 0.4437 - acc: 0.7841     \n",
      "Epoch 14/20\n",
      "13917/13917 [==============================] - 3s - loss: 0.4404 - acc: 0.7813     \n",
      "Epoch 15/20\n",
      "13917/13917 [==============================] - 3s - loss: 0.4301 - acc: 0.7885     \n",
      "Epoch 16/20\n",
      "13917/13917 [==============================] - 3s - loss: 0.4305 - acc: 0.7882     \n",
      "Epoch 17/20\n",
      "13917/13917 [==============================] - 3s - loss: 0.4287 - acc: 0.7860     \n",
      "Epoch 18/20\n",
      "13917/13917 [==============================] - 3s - loss: 0.4266 - acc: 0.7891     \n",
      "Epoch 19/20\n",
      "13917/13917 [==============================] - 3s - loss: 0.4222 - acc: 0.7918     \n",
      "Epoch 20/20\n",
      "13917/13917 [==============================] - 3s - loss: 0.4197 - acc: 0.7876     \n",
      "0.482941241793\n"
     ]
    },
    {
     "data": {
      "text/plain": [
       "[0.43931087398972746, 0.52657160959542082]"
      ]
     },
     "execution_count": 310,
     "metadata": {},
     "output_type": "execute_result"
    }
   ],
   "source": [
    "# r2_simpleRNN=SimpleRNN_model(verbose=1, num_epochs=20, units=100, dropout=0.25, X_test=X_valid, y_test=y_valid)\n",
    "r2_simpleRNN=SimpleRNN_model(verbose=1, num_epochs=20, units=100, dropout=0.25)\n",
    "print(np.mean(r2_simpleRNN))\n",
    "r2_simpleRNN\n",
    "\n",
    "#20, .25, 50 gave .321\n",
    "#10, .25, 100 gave .302\n",
    "#20, .25, 100 gave .338\n",
    "#30, .25, 100 gave .328\n",
    "#10, .25, 200 gave .270\n",
    "\n"
   ]
  },
  {
   "cell_type": "code",
   "execution_count": 13,
   "metadata": {
    "collapsed": false
   },
   "outputs": [
    {
     "name": "stdout",
     "output_type": "stream",
     "text": [
      "Epoch 1/10\n",
      "13917/13917 [==============================] - 8s - loss: 0.6803 - acc: 0.6962     \n",
      "Epoch 2/10\n",
      "13917/13917 [==============================] - 8s - loss: 0.6093 - acc: 0.7199     \n",
      "Epoch 3/10\n",
      "13917/13917 [==============================] - 8s - loss: 0.5562 - acc: 0.7397     \n",
      "Epoch 4/10\n",
      "13917/13917 [==============================] - 8s - loss: 0.5188 - acc: 0.7565     \n",
      "Epoch 5/10\n",
      "13917/13917 [==============================] - 8s - loss: 0.4864 - acc: 0.7700     \n",
      "Epoch 6/10\n",
      "13917/13917 [==============================] - 8s - loss: 0.4626 - acc: 0.7793     \n",
      "Epoch 7/10\n",
      "13917/13917 [==============================] - 8s - loss: 0.4484 - acc: 0.7860     \n",
      "Epoch 8/10\n",
      "13917/13917 [==============================] - 8s - loss: 0.4320 - acc: 0.7901     \n",
      "Epoch 9/10\n",
      "13917/13917 [==============================] - 8s - loss: 0.4299 - acc: 0.7927     \n",
      "Epoch 10/10\n",
      "13917/13917 [==============================] - 8s - loss: 0.4183 - acc: 0.7936     \n",
      "0.489854757303\n"
     ]
    },
    {
     "data": {
      "text/plain": [
       "[0.40135440032098479, 0.5783551142846739]"
      ]
     },
     "execution_count": 13,
     "metadata": {},
     "output_type": "execute_result"
    }
   ],
   "source": [
    "# r2_GRU=GRU_model(verbose=1,dropout=0.5,num_epochs=20,units=200, X_test=X_valid, y_test=y_valid)\n",
    "[r2_GRU,y_test_pred_rnn]=GRU_model(verbose=1,dropout=0.5,num_epochs=10,units=200, X_test=X_test, y_test=y_test)\n",
    "print(np.mean(r2_GRU))\n",
    "r2_GRU\n",
    "\n",
    "#0.25,5,100 gave .311\n",
    "#0.25,10,50 gave .283\n",
    "#0.25,10,100 gave .312\n",
    "#0.25,20,100 gave .248\n",
    "#0.5,10,100 gave .332\n",
    "#0.5,10,200 gave .369\n",
    "#0.5,20,200 gave .287\n",
    "#0.5,10,400 gave .329\n",
    "\n"
   ]
  },
  {
   "cell_type": "code",
   "execution_count": 27,
   "metadata": {
    "collapsed": false
   },
   "outputs": [
    {
     "name": "stdout",
     "output_type": "stream",
     "text": [
      "0.820542884674\n"
     ]
    },
    {
     "data": {
      "text/plain": [
       "[0.84402145456453104, 0.79706431478400486]"
      ]
     },
     "execution_count": 27,
     "metadata": {},
     "output_type": "execute_result"
    }
   ],
   "source": [
    "r2_LSTM=LSTM_model()\n",
    "print(np.mean(r2_LSTM))\n",
    "r2_LSTM"
   ]
  },
  {
   "cell_type": "code",
   "execution_count": 14,
   "metadata": {
    "collapsed": false
   },
   "outputs": [
    {
     "name": "stdout",
     "output_type": "stream",
     "text": [
      "0.284003825391\n"
     ]
    },
    {
     "data": {
      "text/plain": [
       "[0.26712926478005306, 0.30087838600217143]"
      ]
     },
     "execution_count": 14,
     "metadata": {},
     "output_type": "execute_result"
    }
   ],
   "source": [
    "# r2_lin_reg=lin_reg_model(X_flat_test=X_flat_valid, y_test=y_valid)\n",
    "[r2_lin_reg,y_test_pred_lin]=lin_reg_model(X_flat_test=X_flat_test, y_test=y_test)\n",
    "print(np.mean(r2_lin_reg))\n",
    "r2_lin_reg"
   ]
  },
  {
   "cell_type": "code",
   "execution_count": 307,
   "metadata": {
    "collapsed": false
   },
   "outputs": [
    {
     "name": "stdout",
     "output_type": "stream",
     "text": [
      "0.280059685857\n"
     ]
    },
    {
     "data": {
      "text/plain": [
       "[0.24286439475592503, 0.31725497695900495]"
      ]
     },
     "execution_count": 307,
     "metadata": {},
     "output_type": "execute_result"
    }
   ],
   "source": [
    "r2_wiener_casc=wiener_cascade_model()\n",
    "print(np.mean(r2_wiener_casc))\n",
    "r2_wiener_casc"
   ]
  },
  {
   "cell_type": "code",
   "execution_count": 323,
   "metadata": {
    "collapsed": false
   },
   "outputs": [
    {
     "name": "stdout",
     "output_type": "stream",
     "text": [
      "0.0327482317949\n"
     ]
    },
    {
     "data": {
      "text/plain": [
       "[0.028409057047185438, 0.037087406542553825]"
      ]
     },
     "execution_count": 323,
     "metadata": {},
     "output_type": "execute_result"
    }
   ],
   "source": [
    "r2_wiener_casc_v2=wiener_cascade_model_v2(num_epochs=20,X_flat_test=X_flat_valid, y_test=y_valid)\n",
    "# r2_wiener_casc_v2=wiener_cascade_model_v2(num_epochs=20,X_flat_test=X_flat_test, y_test=y_test)\n",
    "print(np.mean(r2_wiener_casc_v2))\n",
    "r2_wiener_casc_v2"
   ]
  },
  {
   "cell_type": "code",
   "execution_count": 309,
   "metadata": {
    "collapsed": false
   },
   "outputs": [
    {
     "name": "stdout",
     "output_type": "stream",
     "text": [
      "0.438796848206\n"
     ]
    },
    {
     "data": {
      "text/plain": [
       "array([ 0.39189858,  0.48569512])"
      ]
     },
     "execution_count": 309,
     "metadata": {},
     "output_type": "execute_result"
    }
   ],
   "source": [
    "# r2_xgb=xgb_model(X_test=X_flat_valid, y_test=y_valid,num_round=200,max_depth=3,lam=1,subsample=1)\n",
    "r2_xgb=xgb_model(X_test=X_flat_test, y_test=y_test,num_round=200)\n",
    "print(np.mean(r2_xgb))\n",
    "r2_xgb\n",
    "#.227 w/ numround=200, other defaults (for validation)"
   ]
  },
  {
   "cell_type": "markdown",
   "metadata": {},
   "source": [
    "**Plot**"
   ]
  },
  {
   "cell_type": "code",
   "execution_count": 15,
   "metadata": {
    "collapsed": true
   },
   "outputs": [],
   "source": [
    "fig_folder='/home/jglaser2/GitProj/BMI/Figs/'"
   ]
  },
  {
   "cell_type": "code",
   "execution_count": 30,
   "metadata": {
    "collapsed": false
   },
   "outputs": [
    {
     "data": {
      "image/png": "[encoded data removed]",
      "text/plain": [
       "<matplotlib.figure.Figure at 0x7f862db93cd0>"
      ]
     },
     "metadata": {},
     "output_type": "display_data"
    }
   ],
   "source": [
    "fig_x_rnn=plt.figure()\n",
    "plt.plot(y_test[3000:3500,0]*y_std[0],color='k')\n",
    "plt.plot(y_test_pred_rnn[3000:3500,0]*y_std[0],color='r')\n",
    "plt.ylim([-90,90])\n",
    "fig_x_rnn.savefig(fig_folder+'hc_x_rnn.eps')"
   ]
  },
  {
   "cell_type": "code",
   "execution_count": 31,
   "metadata": {
    "collapsed": false
   },
   "outputs": [
    {
     "data": {
      "image/png": "[encoded data removed]",
      "text/plain": [
       "<matplotlib.figure.Figure at 0x7f862dacc610>"
      ]
     },
     "metadata": {},
     "output_type": "display_data"
    }
   ],
   "source": [
    "fig_y_rnn=plt.figure()\n",
    "plt.plot(y_test[3000:3500,1]*y_std[1],color='k')\n",
    "plt.plot(y_test_pred_rnn[3000:3500,1]*y_std[1],color='r')\n",
    "plt.ylim([-90,90])\n",
    "fig_y_rnn.savefig(fig_folder+'hc_y_rnn.eps')"
   ]
  },
  {
   "cell_type": "code",
   "execution_count": 32,
   "metadata": {
    "collapsed": false
   },
   "outputs": [
    {
     "data": {
      "image/png": "[encoded data removed]",
      "text/plain": [
       "<matplotlib.figure.Figure at 0x7f862d83a550>"
      ]
     },
     "metadata": {},
     "output_type": "display_data"
    }
   ],
   "source": [
    "fig_x_lin=plt.figure()\n",
    "plt.plot(y_test[3000:3500,0]*y_std[0],color='k')\n",
    "plt.plot(y_test_pred_lin[3000:3500,0]*y_std[0],color='b')\n",
    "plt.ylim([-90,90])\n",
    "fig_x_lin.savefig(fig_folder+'hc_x_lin.eps')"
   ]
  },
  {
   "cell_type": "code",
   "execution_count": 33,
   "metadata": {
    "collapsed": false
   },
   "outputs": [
    {
     "data": {
      "image/png": "[encoded data removed]",
      "text/plain": [
       "<matplotlib.figure.Figure at 0x7f862d9d0990>"
      ]
     },
     "metadata": {},
     "output_type": "display_data"
    }
   ],
   "source": [
    "fig_y_lin=plt.figure()\n",
    "plt.plot(y_test[3000:3500,1]*y_std[1],color='k')\n",
    "plt.plot(y_test_pred_lin[3000:3500,1]*y_std[1],color='b')\n",
    "plt.ylim([-90,90])\n",
    "fig_y_lin.savefig(fig_folder+'hc_y_lin.eps')"
   ]
  },
  {
   "cell_type": "markdown",
   "metadata": {},
   "source": [
    "**Save**"
   ]
  },
  {
   "cell_type": "code",
   "execution_count": 30,
   "metadata": {
    "collapsed": true
   },
   "outputs": [],
   "source": [
    "#Combine for saving\n",
    "# r2_all=[]\n",
    "# r2_all.append({'SimpleRNN': r2_simpleRNN, 'XGB': r2_xgb})\n",
    "\n",
    "# r2_all_means=[]\n",
    "\n",
    "\n",
    "# r2_all[0]['XGB']"
   ]
  },
  {
   "cell_type": "code",
   "execution_count": 33,
   "metadata": {
    "collapsed": false
   },
   "outputs": [],
   "source": [
    "import pickle\n",
    "\n",
    "# Saving the objects:\n",
    "with open(folder+'mih_214.pickle', 'w') as f:  # Python 3: open(..., 'wb')\n",
    "    pickle.dump([r2_simpleRNN, r2_GRU, r2_LSTM, r2_xgb, r2_lin_reg], f)\n",
    "\n"
   ]
  },
  {
   "cell_type": "code",
   "execution_count": 32,
   "metadata": {
    "collapsed": true
   },
   "outputs": [],
   "source": [
    "#Loading commands\n",
    "# with open(folder+'mih_115.pickle') as f:  # Python 3: open(..., 'rb')\n",
    "#     r2_simpleRNN, r2_GRU, r2_LSTM, r2_xgb, r2_lin_reg = pickle.load(f)"
   ]
  },
  {
   "cell_type": "code",
   "execution_count": null,
   "metadata": {
    "collapsed": true
   },
   "outputs": [],
   "source": []
  }
 ],
 "metadata": {
  "anaconda-cloud": {},
  "kernelspec": {
   "display_name": "Python 2",
   "language": "python",
   "name": "python2"
  },
  "language_info": {
   "codemirror_mode": {
    "name": "ipython",
    "version": 2
   },
   "file_extension": ".py",
   "mimetype": "text/x-python",
   "name": "python",
   "nbconvert_exporter": "python",
   "pygments_lexer": "ipython2",
   "version": "2.7.11"
  }
 },
 "nbformat": 4,
 "nbformat_minor": 0
}
