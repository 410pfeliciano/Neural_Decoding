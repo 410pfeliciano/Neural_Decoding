{
 "cells": [
  {
   "cell_type": "markdown",
   "metadata": {},
   "source": [
    "## Import Packages"
   ]
  },
  {
   "cell_type": "code",
   "execution_count": 1,
   "metadata": {
    "collapsed": false
   },
   "outputs": [
    {
     "name": "stderr",
     "output_type": "stream",
     "text": [
      "/opt/anaconda/anaconda2/lib/python2.7/site-packages/sklearn/cross_validation.py:44: DeprecationWarning: This module was deprecated in version 0.18 in favor of the model_selection module into which all the refactored classes and functions are moved. Also note that the interface of the new CV iterators are different from that of this module. This module will be removed in 0.20.\n",
      "  \"This module will be removed in 0.20.\", DeprecationWarning)\n",
      "Using Theano backend.\n",
      "Using gpu device 3: GeForce GTX TITAN X (CNMeM is disabled, cuDNN 5103)\n",
      "/opt/anaconda/anaconda2/lib/python2.7/site-packages/theano/sandbox/cuda/__init__.py:600: UserWarning: Your cuDNN version is more recent than the one Theano officially supports. If you see any problems, try updating Theano or downgrading cuDNN to version 5.\n",
      "  warnings.warn(warn)\n"
     ]
    }
   ],
   "source": [
    "import numpy as np\n",
    "import matplotlib.pyplot as plt\n",
    "%matplotlib inline\n",
    "from scipy import io\n",
    "from scipy import stats\n",
    "import pickle\n",
    "# from numpy.linalg import inv as inv\n",
    "\n",
    "#Import function to get the covariate matrix that includes spike history from previous bins\n",
    "from preprocessing_funcs import get_spikes_with_history\n",
    "\n",
    "#Import decoder functions\n",
    "import Decoder_funcs\n",
    "from Decoder_funcs import get_vaf"
   ]
  },
  {
   "cell_type": "markdown",
   "metadata": {},
   "source": [
    "## Import Data"
   ]
  },
  {
   "cell_type": "markdown",
   "metadata": {},
   "source": [
    "**Neural data should be a matrix of size \"number of time bins\" x \"number of neurons\", where each entry is the firing rate of a given neuron in a given time bin**\n",
    "\n",
    "**The output you are decoding should be a matrix of size \"number of time bins\" x \"number of features you are decoding\"**"
   ]
  },
  {
   "cell_type": "code",
   "execution_count": 2,
   "metadata": {
    "collapsed": false
   },
   "outputs": [],
   "source": [
    "# folder='/Users/jig289/Dropbox/MATLAB/Projects/In_Progress/BMI/Processed_Data/'\n",
    "folder='/home/jglaser2/Data/DecData/'\n",
    "\n",
    "with open(folder+'s1_test_data.pickle','rb') as f:\n",
    "    neural_data,vels_binned,pos_binned,acc_binned=pickle.load(f)"
   ]
  },
  {
   "cell_type": "markdown",
   "metadata": {},
   "source": [
    "## Define Covariates ##"
   ]
  },
  {
   "cell_type": "markdown",
   "metadata": {},
   "source": [
    "### User Options: Define what time period to use spikes from"
   ]
  },
  {
   "cell_type": "code",
   "execution_count": 3,
   "metadata": {
    "collapsed": true
   },
   "outputs": [],
   "source": [
    "#This is relevant for all decoders except the Kalman filter (KF)\n",
    "\n",
    "bins_current=1 #Whether to use concurrent time bin of neural data\n",
    "bins_before=13 #How many bins of neural data prior to the output are used for decoding\n",
    "bins_after=0 #How many bins of neural data after (and including) the output are used for decoding\n",
    "bins_surrounding=bins_before+bins_before+bins_after\n",
    "\n",
    "\n",
    "# Below is only relevant for the KF\n",
    "\n",
    "lag=1 #What time bin of spikes should be used relative to the output\n",
    "#(lag=-1 means use the spikes 1 bin before the output)"
   ]
  },
  {
   "cell_type": "markdown",
   "metadata": {},
   "source": [
    "### Get Input Covariates"
   ]
  },
  {
   "cell_type": "code",
   "execution_count": 4,
   "metadata": {
    "collapsed": false
   },
   "outputs": [],
   "source": [
    "#Function to get the covariate matrix that includes spike history from previous bins\n",
    "#This puts the spikes in the format for the RNN\n",
    "X=get_spikes_with_history(neural_data,bins_before,bins_after,bins_current)\n",
    "\n",
    "#Put in \"flat\" format for XGB and linear decoders\n",
    "X_flat=X.reshape(X.shape[0],(X.shape[1]*X.shape[2]))\n",
    "\n",
    "#Format for Kalman filter\n",
    "X_kf=neural_data"
   ]
  },
  {
   "cell_type": "markdown",
   "metadata": {},
   "source": [
    "### Get Output Covariates"
   ]
  },
  {
   "cell_type": "code",
   "execution_count": 5,
   "metadata": {
    "collapsed": false
   },
   "outputs": [],
   "source": [
    "#Set decoding output for all decoders except the KF\n",
    "y=vels_binned\n",
    "\n",
    "\n",
    "# Set decoding output for the KF\n",
    "pos=np.zeros(vels_binned.shape)\n",
    "pos[0,:]=0\n",
    "for i in range(pos.shape[0]-1):\n",
    "    pos[i+1,0]=pos[i,0]+vels_binned[i,0]*.05\n",
    "    pos[i+1,1]=pos[i,1]+vels_binned[i,1]*.05\n",
    "    \n",
    "temp=np.diff(vels_binned,axis=0)\n",
    "acc=np.concatenate((temp,temp[-1:,:]),axis=0)\n",
    "\n",
    "y_kf=np.concatenate((pos,vels_binned,acc),axis=1)\n",
    "\n",
    "# y_kf=np.concatenate((pos_binned,vels_binned,acc_binned),axis=1)"
   ]
  },
  {
   "cell_type": "markdown",
   "metadata": {},
   "source": [
    "### Process Covariates"
   ]
  },
  {
   "cell_type": "code",
   "execution_count": 6,
   "metadata": {
    "collapsed": false
   },
   "outputs": [],
   "source": [
    "def zscore_nan(X,axis):\n",
    "    X_zscore=(X - np.nanmean(X,axis=axis)) / np.nanstd(X,axis=axis)\n",
    "    return X_zscore"
   ]
  },
  {
   "cell_type": "code",
   "execution_count": 7,
   "metadata": {
    "collapsed": false
   },
   "outputs": [],
   "source": [
    "#Normalize inputs\n",
    "X=zscore_nan(X,axis=0)\n",
    "X_flat=zscore_nan(X_flat,axis=0)\n",
    "X_kf=zscore_nan(X_kf,axis=0)\n",
    "\n",
    "#Zero-center outputs\n",
    "y_mean=np.mean(y,axis=0)\n",
    "y=y-y_mean\n",
    "\n",
    "y_kf_mean=np.mean(y_kf,axis=0)\n",
    "y_kf=y_kf-y_kf_mean"
   ]
  },
  {
   "cell_type": "code",
   "execution_count": 8,
   "metadata": {
    "collapsed": false
   },
   "outputs": [],
   "source": [
    "#More Kalman filter preprocessing\n",
    "num_examples=X.shape[0]\n",
    "\n",
    "#Re-align data to take lag into account\n",
    "if lag<0:\n",
    "    y_kf=y_kf[-lag:,:]\n",
    "    X_kf=X_kf[0:num_examples+lag,:]\n",
    "if lag>0:\n",
    "    y_kf=y_kf[0:num_examples-lag,:]\n",
    "    X_kf=X_kf[lag:num_examples,:]"
   ]
  },
  {
   "cell_type": "markdown",
   "metadata": {},
   "source": [
    "## Split into training/testing/validation sets"
   ]
  },
  {
   "cell_type": "markdown",
   "metadata": {},
   "source": [
    "### User Options"
   ]
  },
  {
   "cell_type": "code",
   "execution_count": 9,
   "metadata": {
    "collapsed": true
   },
   "outputs": [],
   "source": [
    "#Set what part of data should be part of the training/testing/validation sets\n",
    "training_range=[0, 0.7]\n",
    "testing_range=[0.7, 0.85]\n",
    "valid_range=[0.85,1]"
   ]
  },
  {
   "cell_type": "markdown",
   "metadata": {},
   "source": [
    "### Split Data: For all decoders except KF"
   ]
  },
  {
   "cell_type": "code",
   "execution_count": 10,
   "metadata": {
    "collapsed": false
   },
   "outputs": [],
   "source": [
    "num_examples=X.shape[0]\n",
    "\n",
    "#Note that each range has a buffer of\"bins_before\" bins at the beginning, and \"bins_after\" bins at the end\n",
    "#This makes it so that the different sets don't include overlapping neural data\n",
    "training_set=np.arange(np.int(np.round(training_range[0]*num_examples))+bins_before,np.int(np.round(training_range[1]*num_examples))-bins_after)\n",
    "testing_set=np.arange(np.int(np.round(testing_range[0]*num_examples))+bins_before,np.int(np.round(testing_range[1]*num_examples))-bins_after)\n",
    "valid_set=np.arange(np.int(np.round(valid_range[0]*num_examples))+bins_before,np.int(np.round(valid_range[1]*num_examples))-bins_after)\n",
    "\n",
    "#Get training data\n",
    "X_train=X[training_set,:,:]\n",
    "X_flat_train=X_flat[training_set,:]\n",
    "y_train=y[training_set,:]\n",
    "\n",
    "#Get testing data\n",
    "X_test=X[testing_set,:,:]\n",
    "X_flat_test=X_flat[testing_set,:]\n",
    "y_test=y[testing_set,:]\n",
    "\n",
    "#Get validation data\n",
    "X_valid=X[valid_set,:,:]\n",
    "X_flat_valid=X_flat[valid_set,:]\n",
    "y_valid=y[valid_set,:]"
   ]
  },
  {
   "cell_type": "markdown",
   "metadata": {},
   "source": [
    "### Split Data: For KF"
   ]
  },
  {
   "cell_type": "code",
   "execution_count": 11,
   "metadata": {
    "collapsed": false
   },
   "outputs": [],
   "source": [
    "#Number of examples after taking into account bins removed for lag alignment\n",
    "num_examples_kf=X_kf.shape[0]\n",
    "        \n",
    "#Note that each range has a buffer of 1 bin at the beginning and end\n",
    "#This makes it so that the different sets don't include overlapping data\n",
    "training_set=np.arange(np.int(np.round(training_range[0]*num_examples_kf))+1,np.int(np.round(training_range[1]*num_examples_kf))-1)\n",
    "testing_set=np.arange(np.int(np.round(testing_range[0]*num_examples_kf))+1,np.int(np.round(testing_range[1]*num_examples_kf))-1)\n",
    "valid_set=np.arange(np.int(np.round(valid_range[0]*num_examples_kf))+1,np.int(np.round(valid_range[1]*num_examples_kf))-1)\n",
    "\n",
    "#Get training data\n",
    "X_kf_train=X_kf[training_set,:]\n",
    "y_kf_train=y_kf[training_set,:]\n",
    "\n",
    "#Get testing data\n",
    "X_kf_test=X_kf[testing_set,:]\n",
    "y_kf_test=y_kf[testing_set,:]\n",
    "\n",
    "#Get validation data\n",
    "X_kf_valid=X_kf[valid_set,:]\n",
    "y_kf_valid=y_kf[valid_set,:]"
   ]
  },
  {
   "cell_type": "markdown",
   "metadata": {},
   "source": [
    "## Run Decoders"
   ]
  },
  {
   "cell_type": "markdown",
   "metadata": {},
   "source": [
    "### Wiener Filter (Linear Regression)"
   ]
  },
  {
   "cell_type": "code",
   "execution_count": 15,
   "metadata": {
    "collapsed": false,
    "scrolled": true
   },
   "outputs": [
    {
     "name": "stdout",
     "output_type": "stream",
     "text": [
      "('VAFS:', [0.70518636964084935, 0.67680790561615423])\n"
     ]
    }
   ],
   "source": [
    "#Fit model\n",
    "model_regr=Decoder_funcs.lin_reg_model(X_flat_train,y_train)\n",
    "#Get predictions\n",
    "y_valid_pred_lin=model_regr.predict(X_flat_valid)\n",
    "#Get metric of fit\n",
    "vafs_lin=get_vaf(y_valid,y_valid_pred_lin)\n",
    "print('VAFS:', vafs_lin)"
   ]
  },
  {
   "cell_type": "markdown",
   "metadata": {},
   "source": [
    "### Wiener Cascade (Linear Nonlinear Model)"
   ]
  },
  {
   "cell_type": "code",
   "execution_count": 19,
   "metadata": {
    "collapsed": false
   },
   "outputs": [
    {
     "name": "stdout",
     "output_type": "stream",
     "text": [
      "('VAFS:', [0.71235263777357383, 0.69691885346071958])\n"
     ]
    }
   ],
   "source": [
    "#Fit model\n",
    "models_wc=Decoder_funcs.wiener_casc_model(X_flat_train,y_train,deg=3)\n",
    "#Get predictions\n",
    "y_valid_pred_wc=Decoder_funcs.wiener_casc_predict(models_wc,X_flat_valid)\n",
    "#Get metric of fit\n",
    "vafs_wc=get_vaf(y_valid,y_valid_pred_wc)\n",
    "print('VAFS:', vafs_wc)"
   ]
  },
  {
   "cell_type": "markdown",
   "metadata": {},
   "source": [
    "### XGBoost (Extreme Gradient Boosting)"
   ]
  },
  {
   "cell_type": "code",
   "execution_count": 29,
   "metadata": {
    "collapsed": false
   },
   "outputs": [
    {
     "name": "stdout",
     "output_type": "stream",
     "text": [
      "('VAFS:', [0.7408971919698405, 0.73487829845927599])\n"
     ]
    }
   ],
   "source": [
    "#Fit model\n",
    "model_xgb=Decoder_funcs.xgb_model(X_flat_train,y_train,max_depth=4,num_round=300)\n",
    "#Get predictions\n",
    "y_valid_pred_xgb=Decoder_funcs.xgb_predict(model_xgb,X_flat_valid)\n",
    "#Get metric of fit\n",
    "vafs_xgb=get_vaf(y_valid,y_valid_pred_xgb)\n",
    "print('VAFS:', vafs_xgb)"
   ]
  },
  {
   "cell_type": "code",
   "execution_count": null,
   "metadata": {
    "collapsed": true
   },
   "outputs": [],
   "source": [
    "3/200: 0.72974177174204813, 0.73024356609825891\n",
    "4/200: 0.73968582352971746, 0.73150808401927347 *** (a drop less than w/ 300, but will be faster)\n",
    "5/200: 0.73316104927055448, 0.72978160849225038\n",
    "    \n",
    "3/300: 0.7377630522138201, 0.73359832453786589\n",
    "4/300: 0.7408971919698405, 0.73487829845927599"
   ]
  },
  {
   "cell_type": "markdown",
   "metadata": {},
   "source": [
    "### Dense NN"
   ]
  },
  {
   "cell_type": "code",
   "execution_count": 12,
   "metadata": {
    "collapsed": false
   },
   "outputs": [
    {
     "name": "stdout",
     "output_type": "stream",
     "text": [
      "('VAFS:', [0.71228042265933977, 0.69619957218561623])\n"
     ]
    }
   ],
   "source": [
    "#Fit model\n",
    "model_dnn=Decoder_funcs.DNN_model(X_flat_train,y_train,num_layers=1,units=400,dropout=.5,num_epochs=5)\n",
    "#Get predictions\n",
    "y_valid_pred_dnn=model_dnn.predict(X_flat_valid)\n",
    "#Get metric of fit\n",
    "vafs_dnn=get_vaf(y_valid,y_valid_pred_dnn)\n",
    "print('VAFS:', vafs_dnn)"
   ]
  },
  {
   "cell_type": "code",
   "execution_count": null,
   "metadata": {
    "collapsed": true
   },
   "outputs": [],
   "source": [
    "400/0/10: 0.64646747052353537, 0.64888248883409094\n",
    "400/.25/10: 0.69170876983974872, 0.68972463657455829\n",
    "400/.5/10: 0.71160295141044827, 0.68919537501710693\n",
    "400/.75/10: 0.71533407708526231, 0.68223399031392939\n",
    "    \n",
    "400/0/5: 0.67865596514742754, 0.67021758469965675\n",
    "400/.25/5: 0.69683673018632719, 0.69873000355393711\n",
    "400/.5/5: 0.71243764814871968, 0.69290944647111519\n",
    "\n",
    "400/.5/15: 0.70672181135375389, 0.69465989681454365\n",
    "400/.75/20: 0.70859306673280109, 0.68335289459155968    \n",
    "    \n",
    "200/.25/5: 0.70242236527693014, 0.68862354253370861\n",
    "200/.5/5: 0.70475909440777862, 0.68655330137650772\n",
    "200/.5/10: 0.71116467418521656, 0.69010621402724803\n",
    "    \n",
    "200/.5/15: 0.70785961546724985, 0.69134672244420303\n",
    "    \n",
    "    \n",
    "5/0/10: 0.70713354707205611, 0.68983236259636138"
   ]
  },
  {
   "cell_type": "code",
   "execution_count": 16,
   "metadata": {
    "collapsed": false
   },
   "outputs": [
    {
     "name": "stdout",
     "output_type": "stream",
     "text": [
      "('VAFS:', [0.71755420579551243, 0.7176150263551283])\n"
     ]
    }
   ],
   "source": [
    "#Fit model\n",
    "model_dnn2=Decoder_funcs.DNN_model(X_flat_train,y_train,num_layers=2,units=200,dropout=.5,num_epochs=20)\n",
    "#Get predictions\n",
    "y_valid_pred_dnn2=model_dnn2.predict(X_flat_valid)\n",
    "#Get metric of fit\n",
    "vafs_dnn2=get_vaf(y_valid,y_valid_pred_dnn2)\n",
    "print('VAFS:', vafs_dnn2)"
   ]
  },
  {
   "cell_type": "code",
   "execution_count": null,
   "metadata": {
    "collapsed": true
   },
   "outputs": [],
   "source": [
    "200/.5/10: 0.72128328752257642, 0.69327333484241604\n",
    "200/.5/15: 0.72982701033980324, 0.71154276896262003\n",
    "200/.5/20: 0.73693832927396097, 0.71641267224053462 ***\n",
    "200/.5/30: 0.72788136885209276, 0.72228028847387049    \n",
    "    \n",
    "400/.25/10: 0.71851133728612515, 0.71317166564602785\n",
    "400/.25/20: 0.71456935927224263, 0.71872539939760216\n",
    "    \n",
    "400/.5/10: 0.69980285300944245, 0.69270571683263327\n",
    "400/.5/20: 0.71706994396848289, 0.70988989524976842\n",
    "    \n",
    "    \n",
    "    \n",
    "200/.5/20/2: 0.71654366937788661, 0.71078873599641712"
   ]
  },
  {
   "cell_type": "code",
   "execution_count": null,
   "metadata": {
    "collapsed": true
   },
   "outputs": [],
   "source": [
    "1/2 as many units in 2nd layer\n",
    "\n",
    "400/.5/10: 0.70747553529571461, 0.694613319905659\n",
    "200/.5/10: 0.72212613514224144, 0.69773205560359108\n",
    "100/.5/10: 0.70863453954514544, 0.68160729857927493\n",
    "    \n",
    "200/.5/15: 0.72107896908444968, 0.70932992260995842 ***"
   ]
  },
  {
   "cell_type": "markdown",
   "metadata": {},
   "source": [
    "### Simple RNN"
   ]
  },
  {
   "cell_type": "code",
   "execution_count": 30,
   "metadata": {
    "collapsed": false
   },
   "outputs": [
    {
     "name": "stdout",
     "output_type": "stream",
     "text": [
      "('VAFS:', [0.71685987200456491, 0.73296101004923675])\n"
     ]
    }
   ],
   "source": [
    "#Fit model\n",
    "model_rnn=Decoder_funcs.SimpleRNN_model(X_train,y_train,units=400,dropout=0,num_epochs=5)\n",
    "#Get predictions\n",
    "y_valid_pred_rnn=model_rnn.predict(X_valid)\n",
    "#Get metric of fit\n",
    "vafs_rnn=get_vaf(y_valid,y_valid_pred_rnn)\n",
    "print('VAFS:', vafs_rnn)"
   ]
  },
  {
   "cell_type": "code",
   "execution_count": null,
   "metadata": {
    "collapsed": true
   },
   "outputs": [],
   "source": [
    "400/do=0/10: 0.74307395545975607, 0.7657178519266612\n",
    "400/do=.25/10: 0.75450395413147608, 0.74860947652046206\n",
    "\n",
    "200/do=0/10: 0.72866965957346763, 0.73276927563036365\n",
    "400/do=0/5: 0.76298928872260241, 0.78238976571087926 ***\n",
    "    \n",
    "400/0/3: 0.71685987200456491, 0.73296101004923675\n",
    "600/0/5: low"
   ]
  },
  {
   "cell_type": "markdown",
   "metadata": {},
   "source": [
    "### GRU (Gated Recurrent Unit)"
   ]
  },
  {
   "cell_type": "code",
   "execution_count": 38,
   "metadata": {
    "collapsed": false
   },
   "outputs": [
    {
     "name": "stdout",
     "output_type": "stream",
     "text": [
      "('VAFS:', [0.78339954124903244, 0.80471974341608588])\n"
     ]
    }
   ],
   "source": [
    "#Fit model\n",
    "model_gru=Decoder_funcs.GRU_model(X_train,y_train,units=400,dropout=.25,num_epochs=5)\n",
    "#Get predictions\n",
    "y_valid_pred_gru=model_gru.predict(X_valid)\n",
    "#Get metric of fit\n",
    "vafs_gru=get_vaf(y_valid,y_valid_pred_gru)\n",
    "print('VAFS:', vafs_gru)"
   ]
  },
  {
   "cell_type": "code",
   "execution_count": null,
   "metadata": {
    "collapsed": true
   },
   "outputs": [],
   "source": [
    "400/0/5: 0.79103911716194519, 0.78608721045149577\n",
    "400/0/10: 0.78525010361298997, 0.79205307579390183\n",
    "400/.25/5: 0.78339954124903244, 0.80471974341608588\n",
    "400/.25/10: 0.79653295584467121, 0.80876037362646813\n"
   ]
  },
  {
   "cell_type": "markdown",
   "metadata": {},
   "source": [
    "### LSTM (Long Short Term Memory)"
   ]
  },
  {
   "cell_type": "code",
   "execution_count": 40,
   "metadata": {
    "collapsed": false
   },
   "outputs": [
    {
     "name": "stdout",
     "output_type": "stream",
     "text": [
      "('VAFS:', [0.80120765256627213, 0.80913846953427804])\n"
     ]
    }
   ],
   "source": [
    "#Fit model\n",
    "model_lstm=Decoder_funcs.LSTM_model(X_train,y_train,units=400,dropout=.25,num_epochs=5)\n",
    "#Get predictions\n",
    "y_valid_pred_lstm=model_lstm.predict(X_valid)\n",
    "#Get metric of fit\n",
    "vafs_lstm=get_vaf(y_valid,y_valid_pred_lstm)\n",
    "print('VAFS:', vafs_lstm)"
   ]
  },
  {
   "cell_type": "code",
   "execution_count": null,
   "metadata": {
    "collapsed": true
   },
   "outputs": [],
   "source": [
    "400/0/5: 0.79020577823923899, 0.79900540348964255\n",
    "400/0/10: 0.7904522331731878, 0.79623596717122691\n",
    "400/.25/5: 0.80120765256627213, 0.80913846953427804\n",
    "400/.25/10: 0.81032474400367871, 0.81501664464148438"
   ]
  },
  {
   "cell_type": "markdown",
   "metadata": {},
   "source": [
    "### Kalman Filter"
   ]
  },
  {
   "cell_type": "code",
   "execution_count": 119,
   "metadata": {
    "collapsed": false
   },
   "outputs": [
    {
     "name": "stdout",
     "output_type": "stream",
     "text": [
      "('VAFS:', [0.71174282981917925, 0.6914042873490962])\n"
     ]
    }
   ],
   "source": [
    "#Fit model\n",
    "model_kf=Decoder_funcs.kf_model(X_kf_train,y_kf_train)\n",
    "#Get predictions\n",
    "y_valid_pred_kf=Decoder_funcs.kf_predict(model_kf,X_kf_valid,y_kf_valid)\n",
    "#Get metric of fit\n",
    "vafs_kf=get_vaf(y_kf_valid,y_valid_pred_kf)\n",
    "print('VAFS:',vafs_kf[2:4])"
   ]
  },
  {
   "cell_type": "code",
   "execution_count": null,
   "metadata": {
    "collapsed": true
   },
   "outputs": [],
   "source": [
    "derived\n",
    "0: [0.69198167244345621, 0.67276350982595945]\n",
    "1: [0.71174282981917925, 0.6914042873490962]\n",
    "    \n",
    "orig\n",
    "-2: [0.543448952339327, 0.40749208788561919]\n",
    "-1: [0.6380358559916337, 0.57132157616571078]\n",
    "0: [0.68846750389291855, 0.66689049715183302]\n",
    "1: [0.70159458615440462, 0.67544598578846338]\n",
    "2: [0.6856831125279228, 0.62874672600763426]"
   ]
  },
  {
   "cell_type": "code",
   "execution_count": null,
   "metadata": {
    "collapsed": true
   },
   "outputs": [],
   "source": []
  },
  {
   "cell_type": "code",
   "execution_count": 54,
   "metadata": {
    "collapsed": false
   },
   "outputs": [
    {
     "data": {
      "text/plain": [
       "[0.5661442774055665,\n",
       " 0.73229360062314219,\n",
       " 0.68846750389291855,\n",
       " 0.66689049715183302,\n",
       " 0.41694206122880972,\n",
       " 0.25941869619406388]"
      ]
     },
     "execution_count": 54,
     "metadata": {},
     "output_type": "execute_result"
    }
   ],
   "source": [
    "vafs_kf"
   ]
  },
  {
   "cell_type": "markdown",
   "metadata": {},
   "source": [
    "## Make Plots"
   ]
  },
  {
   "cell_type": "code",
   "execution_count": 17,
   "metadata": {
    "collapsed": false
   },
   "outputs": [
    {
     "data": {
      "text/plain": [
       "[<matplotlib.lines.Line2D at 0x7f2264fc68d0>]"
      ]
     },
     "execution_count": 17,
     "metadata": {},
     "output_type": "execute_result"
    },
    {
     "data": {
      "image/png": "[encoded data removed]",
      "text/plain": [
       "<matplotlib.figure.Figure at 0x7f22a67de410>"
      ]
     },
     "metadata": {},
     "output_type": "display_data"
    }
   ],
   "source": [
    "#As an example, I plot an example 1000 values of the x velocity (column index 0), both true and predicted with the Wiener filter\n",
    "#Note that I add back in the mean value, so that both true and predicted values are in the original coordinates\n",
    "fig_x_lin=plt.figure()\n",
    "plt.plot(y_valid[1000:2000,0]+y_mean[0],'b')\n",
    "plt.plot(y_valid_pred_lin[1000:2000,0]+y_mean[0],'r')\n",
    "#Save figure\n",
    "# fig_x_lin.savefig('x_velocity_decoding.eps')"
   ]
  },
  {
   "cell_type": "code",
   "execution_count": null,
   "metadata": {
    "collapsed": true
   },
   "outputs": [],
   "source": []
  }
 ],
 "metadata": {
  "anaconda-cloud": {},
  "kernelspec": {
   "display_name": "Python [Root]",
   "language": "python",
   "name": "Python [Root]"
  },
  "language_info": {
   "codemirror_mode": {
    "name": "ipython",
    "version": 2
   },
   "file_extension": ".py",
   "mimetype": "text/x-python",
   "name": "python",
   "nbconvert_exporter": "python",
   "pygments_lexer": "ipython2",
   "version": "2.7.12"
  }
 },
 "nbformat": 4,
 "nbformat_minor": 0
}
